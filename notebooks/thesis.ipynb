{
 "cells": [
  {
   "cell_type": "markdown",
   "metadata": {},
   "source": [
    "# The Generalised Hartree-Fock method: results"
   ]
  },
  {
   "cell_type": "markdown",
   "metadata": {},
   "source": [
    "## Pre-requisites"
   ]
  },
  {
   "cell_type": "markdown",
   "metadata": {},
   "source": [
    "## Import statements for calculation"
   ]
  },
  {
   "cell_type": "code",
   "execution_count": 1,
   "metadata": {},
   "outputs": [],
   "source": [
    "import pyscf\n",
    "from pyscf import *\n",
    "from hf.HartreeFock import *\n",
    "from hf.HartreeFock import lowest_HF as lowest\n",
    "from hf.properties import spin as spin\n",
    "from hf.utilities import SCF_functions as Scf\n",
    "import numpy as np\n",
    "import scipy.linalg as la\n",
    "import matplotlib.pyplot as plt\n",
    "import math as m"
   ]
  },
  {
   "cell_type": "markdown",
   "metadata": {},
   "source": [
    "## We use pySCF to create the molecules to work with"
   ]
  },
  {
   "cell_type": "markdown",
   "metadata": {},
   "source": [
    "Our test systems are hydrogen rings. The geometry is created by making sure all the hydrogen atoms in a ring are 1 angstrom apart. This forces spin frustration in the uneven rings, and forces the even rings into a triplet state."
   ]
  },
  {
   "cell_type": "code",
   "execution_count": 2,
   "metadata": {},
   "outputs": [],
   "source": [
    "h3 = gto.M(atom = 'h 0 0 0; h 0 0.86602540378 0.5; h 0 0 1', spin = 1, basis = 'cc-pvdz')\n",
    "\n",
    "h4 = gto.M(atom = 'h 0 0.707107 0; h 0.707107 0 0; h 0 -0.707107 0; h -0.707107 0 0' ,spin = 2, basis = 'cc-pvdz')\n",
    "\n",
    "h5 = gto.M(atom = 'h 0 0.850651 0; h 0.8090171766429887 0.26286561528204344 0; h 0.5000001126478447, -0.6881911152820434, 0;'\n",
    "                  ' h -0.5000001126478445, -0.6881911152820435, 0; h -0.8090171766429888 0.2628656152820433 0', spin = 1, basis = 'cc-pvdz')\n",
    "\n",
    "h6 = gto.M(atom = 'h 0 0 0; h 0 2 0; h 0.866025 0.5 0; h -0.866025 0.5 0; h 0.866025 1.5 0; h -0.866025 1.5 0',\n",
    "           basis = 'cc-pvdz')\n",
    "\n",
    "h7 = gto.M(atom = 'h 0 1.15238 0; h 0.900966963766508 0.7184971778659673 0; h 1.12348742744009 -0.2564286738725775 0;'\n",
    "                  'h 0.49999894328429173 -1.0382585039933896 0; h -0.4999989432842915 -1.0382585039933898 0;'\n",
    "                  'h -1.12348742744009 -0.2564286738725768 0; h -0.9009669637665083 0.7184971778659671 0', spin = 1, basis = 'cc-pvdz')\n",
    "\n",
    "h8 = gto.M(atom = 'h 0 1.30656 0; h 0.9238774360270954 0.9238774360270956 0; h 1.30656 0 0; h 0.9238774360270956 -0.9238774360270954 0;'\n",
    "                  'h 0 -1.30656 0; h -0.9238774360270954 -0.9238774360270957 0; h -1.30656 0 0; h -0.9238774360270957 0.9238774360270954 0;',spin = 0, basis = 'cc-pvdz')\n",
    "\n",
    "h9 = gto.M(atom = 'h 0 1.4619 0; h 0.9396912066007517 1.119880371395634 0; h 1.439690454128547 0.25385627093128554 0;'\n",
    "                  'h 1.2660425377924711 -0.7309499999999997 0; h 0.49999924752779534 -1.3737366423269193 0; '\n",
    "                  'h -0.499999247527795 -1.3737366423269195 0; h -1.2660425377924704 -0.7309500000000007 0; '\n",
    "                  'h -1.4396904541285471 0.25385627093128493 0; h -0.9396912066007522 1.1198803713956338 0', spin = 1, basis = 'cc-pvdz')\n",
    "\n",
    "h10 = gto.M(atom = 'h 0 1.61803 0; h 0.9510541717667903 1.3090137674084963 0; h 1.5388379750610472 0.49999876740849625 0;'\n",
    "                   'h 1.5388379750610475 -0.4999987674084961 0; h 0.9510541717667905 -1.309013767408496 0; '\n",
    "                   'h 0 -1.61803 0; h -0.9510541717667902 -1.3090137674084963 0; h -1.5388379750610472 -0.4999987674084964 0;'\n",
    "                   'h -1.5388379750610475 0.4999987674084959 0; h -0.9510541717667905 1.309013767408496 0', basis = 'cc-pvdz')\n",
    "\n",
    "h11 = gto.M(atom = 'h 0 1.77473 0; h 0.9594914779629726 1.4929978823214822 0; h 1.6143511911155242 0.7372494860248379 0;'\n",
    "                   'h 1.7566658075493475 -0.2525704129287475 0; h 1.341251442093733 -1.1622009903547155 0; '\n",
    "                   'h 0.49999922060319113 -1.7028409650628566 0; h -0.49999922060319074 -1.7028409650628569 0;'\n",
    "                   'h -1.3412514420937325 -1.162200990354716 0; h -1.7566658075493475 -0.25257041292874755 0; '\n",
    "                   'h -1.614351191115524 0.7372494860248385 0; h -0.9594914779629737 1.4929978823214813 0', spin = 1, basis = 'cc-pvdz')\n",
    "\n",
    "h12 = gto.M(atom = 'h 0 1.93185 0; h 0.9659249999999999 1.673031176300968 0; h 1.6730311763009678 0.9659250000000003 0; '\n",
    "                   'h 1.93185 0 0; h 1.6730311763009682 -0.9659249999999996 0; h 0.9659249999999999 -1.673031176300968 0; h 0 -1.93185 0;'\n",
    "                   'h -0.9659250000000003 -1.6730311763009678 0; h -1.6730311763009673 -0.9659250000000009 0; h -1.93185 0 0;'\n",
    "                   'h -1.6730311763009678  0.965925 0; h -0.9659250000000009 1.6730311763009673 0',spin = 0, basis = 'cc-pvdz')\n",
    "\n",
    "h13 = gto.M(atom = 'h 0 2.08929 0; h 0.9709414761193252 1.849974419836995 0; h 1.7194519611729573 1.1868519946979366 0; '\n",
    "                   'h 2.0740567235643232 0.25183608069064384 0; h 1.9535200856802104 -0.7408724444490994 0; '\n",
    "                   'h 1.3854555386359115 -1.5638560210463994 0; h 0.49999982423935135 -2.0285790297300763 0; '\n",
    "                   'h -0.4999998242393518 -2.0285790297300763 0; h -1.3854555386359113 -1.5638560210463999 0; '\n",
    "                   'h -1.9535200856802102 -0.7408724444490998 0; h -2.0740567235643237 0.2518360806906424 0; '\n",
    "                   'h -1.7194519611729568 1.1868519946979375 0; h -0.9709414761193248 1.8499744198369952 0', spin = 1, basis = 'cc-pvdz')\n",
    "\n",
    "h14 = gto.M(atom = 'h 0 2.24698 0; h 0.9749280841223709 2.024459026799378 0; h 1.7567597044760135 1.4009691149805374 0; '\n",
    "                   'h 2.1906435201143144 0.5000000881811595 0; h 2.1906435201143144 -0.5000000881811593 0; '\n",
    "                   'h 1.7567597044760133 -1.4009691149805379 0; h 0.9749280841223711 -2.0244590267993776 0;'\n",
    "                   'h 0 -2.24698 0; h -0.9749280841223705 -2.024459026799378 0; h -1.7567597044760135 -1.4009691149805377 0; '\n",
    "                   'h -2.1906435201143144 -0.5000000881811578 0; h -2.190643520114314 0.5000000881811608 0; '\n",
    "                   'h -1.756759704476014 1.4009691149805368 0; h -0.9749280841223712 2.0244590267993776 0',spin = 0, basis = 'cc-pvdz')\n",
    "\n",
    "h15 = gto.M(atom = 'h 0 2.40487 0; h 0.9781487508336996 2.1969580647209614 0; h 1.787166696445821 1.6091721213142274 0; '\n",
    "                   'h 2.2871672843427255 0.7431456992624799 0; h 2.391695870514299 -0.251377365458482 0; h 2.0826785127990832 -1.2024349999999995 0;'\n",
    "                   'h 1.4135471196806 -1.9455806992624796 0; h 0.5000005878969047 -2.3523178205767072 0; '\n",
    "                   'h -0.5000005878969053 -2.352317820576707 0; h -1.4135471196805995 -1.9455806992624798 0; '\n",
    "                   'h -2.0826785127990823 -1.202435000000001 0; h -2.3916958705142997 -0.2513773654584815 0; '\n",
    "                   'h -2.287167284342726 0.7431456992624793 0; h -1.7871666964458222 1.6091721213142263 0; '\n",
    "                   'h -0.9781487508336995 2.196958064720962 0', spin = 1, basis = 'cc-pvdz')"
   ]
  },
  {
   "cell_type": "markdown",
   "metadata": {},
   "source": [
    "# Unrestricted Hartree-Fock results"
   ]
  },
  {
   "cell_type": "markdown",
   "metadata": {},
   "source": [
    "We will show the UHF results as a benchmark. UHF calculations are performed as follows:\n",
    "\n",
    "Start off by creating the UHF objects."
   ]
  },
  {
   "cell_type": "code",
   "execution_count": 3,
   "metadata": {},
   "outputs": [],
   "source": [
    "h_3 = UHF.MF(h3, 3)\n",
    "h_4 = UHF.MF(h4, 4)\n",
    "h_5 = UHF.MF(h5, 5)\n",
    "h_6 = UHF.MF(h6, 6)\n",
    "h_7 = UHF.MF(h7, 7)\n",
    "h_8 = UHF.MF(h8, 8)\n",
    "h_9 = UHF.MF(h9, 9)\n",
    "h_10 = UHF.MF(h10, 10)\n",
    "h_11 = UHF.MF(h11, 11)\n",
    "h_12 = UHF.MF(h12, 12)\n",
    "h_13 = UHF.MF(h13, 13)\n",
    "h_14 = UHF.MF(h14, 14)\n",
    "h_15 = UHF.MF(h15, 15)"
   ]
  },
  {
   "cell_type": "markdown",
   "metadata": {},
   "source": [
    "Then calculate the energies."
   ]
  },
  {
   "cell_type": "code",
   "execution_count": 68,
   "metadata": {},
   "outputs": [],
   "source": [
    "uhf_h3 = h_3.diis()\n",
    "uhf_h4 = h_4.diis()\n",
    "uhf_h5 = h_5.diis()\n",
    "uhf_h6 = h_6.diis()\n",
    "uhf_h7 = h_7.diis()\n",
    "uhf_h8 = h_8.diis()\n",
    "uhf_h9 = h_9.diis()\n",
    "uhf_h10 = h_10.diis()\n",
    "uhf_h11 = h_11.diis()\n",
    "uhf_h12 = h_12.diis()\n",
    "uhf_h13 = h_13.diis()\n",
    "uhf_h14 = h_14.diis()\n",
    "uhf_h15 = h_15.diis()"
   ]
  },
  {
   "cell_type": "markdown",
   "metadata": {
    "variables": {
     "uhf_h10[0]": "-5.393541465149266",
     "uhf_h10[1]": "8",
     "uhf_h11[0]": "-5.859393866124588",
     "uhf_h11[1]": "162",
     "uhf_h12[0]": "-6.354742986360385",
     "uhf_h12[1]": "12",
     "uhf_h13[0]": "-6.946518346867869",
     "uhf_h13[1]": "170",
     "uhf_h14[0]": "-7.527699238606516",
     "uhf_h14[1]": "8",
     "uhf_h15[0]": "-8.019257492591493",
     "uhf_h15[1]": "231",
     "uhf_h3[0]": "-1.5062743192317454",
     "uhf_h3[1]": "62",
     "uhf_h4[0]": "-1.9196374534234786",
     "uhf_h4[1]": "12",
     "uhf_h5[0]": "-2.5859543866953123",
     "uhf_h5[1]": "72",
     "uhf_h6[0]": "-3.249608217327733",
     "uhf_h6[1]": "7",
     "uhf_h7[0]": "-3.6843946688561875",
     "uhf_h7[1]": "101",
     "uhf_h8[0]": "-4.167621820017056",
     "uhf_h8[1]": "14",
     "uhf_h9[0]": "-4.7832015177086475",
     "uhf_h9[1]": "129"
    }
   },
   "source": [
    "| Molecule | Hartree-Fock method | Energy (Hartree) | # iterations\n",
    "| --- | --- | --- | --- |\n",
    "| $H_3$ | UHF | {{uhf_h3[0]}} | {{uhf_h3[1]}} |\n",
    "| $H_4$ | UHF | {{uhf_h4[0]}} | {{uhf_h4[1]}} |\n",
    "| $H_5$ | UHF | {{uhf_h5[0]}} | {{uhf_h5[1]}} |\n",
    "| $H_6$ | UHF | {{uhf_h6[0]}} | {{uhf_h6[1]}} |\n",
    "| $H_7$ | UHF | {{uhf_h7[0]}} | {{uhf_h7[1]}} |\n",
    "| $H_8$ | UHF | {{uhf_h8[0]}} | {{uhf_h8[1]}} |\n",
    "| $H_9$ | UHF | {{uhf_h9[0]}} | {{uhf_h9[1]}} |\n",
    "| $H_{10}$ | UHF | {{uhf_h10[0]}} | {{uhf_h10[1]}} |\n",
    "| $H_{11}$ | UHF | {{uhf_h11[0]}} | {{uhf_h11[1]}} |\n",
    "| $H_{12}$ | UHF | {{uhf_h12[0]}} | {{uhf_h12[1]}} |\n",
    "| $H_{13}$ | UHF | {{uhf_h13[0]}} | {{uhf_h13[1]}} |\n",
    "| $H_{14}$ | UHF | {{uhf_h14[0]}} | {{uhf_h14[1]}} |\n",
    "| $H_{15}$ | UHF | {{uhf_h15[0]}} | {{uhf_h15[1]}} |"
   ]
  },
  {
   "cell_type": "markdown",
   "metadata": {},
   "source": [
    "However, there's a catch. We can't be sure that these solutions are the lowest possible UHF solutions. To verify this, we'll apply stability analysis. Stability analysis calculates the Hessian matrix, and diagonalises it. If the eigenvalues are positive semi-definite, we have a so called stable solution. If there are strictly negative eigenvalues, It's possible to find a lower lying solution. Stability can be checked internally, within the current method (real UHF) or externally (UHF-> GHF or real-> complex). Both stabilities are checked here. This should be able to tell us which systems have a GHF solution as well. The internal stability analysis also returns a set of coefficients that are rotated in the direction of the lowest eigenvector of the Hessian. These new MO coefficients can then be used to \"follow\" the stability analysis to the lower lying energy state."
   ]
  },
  {
   "cell_type": "code",
   "execution_count": 5,
   "metadata": {},
   "outputs": [
    {
     "name": "stdout",
     "output_type": "stream",
     "text": [
      "Checking H_3 stability\n",
      "----------------------\n",
      "The wave function is stable within the real UHF space.\n",
      "There is an external UHF/GHF instability in the real UHF wave function.\n",
      "\n",
      "Checking H_4 stability\n",
      "----------------------\n",
      "There is an internal instability in the real UHF wave function.\n",
      "There is an external real/complex instability in the real UHF wave function.\n",
      "There is an external UHF/GHF instability in the real UHF wave function.\n",
      "\n",
      "Checking H_5 stability\n",
      "----------------------\n",
      "The wave function is stable within the real UHF space.\n",
      "There is an external UHF/GHF instability in the real UHF wave function.\n",
      "\n",
      "Checking H_6 stability\n",
      "----------------------\n",
      "The wave function is stable within the real UHF space.\n",
      "The wave function is stable within the real/complex & UHF/GHF space.\n",
      "\n",
      "Checking H_7 stability\n",
      "----------------------\n",
      "There is an external UHF/GHF instability in the real UHF wave function.\n",
      "\n",
      "Checking H_8 stability\n",
      "----------------------\n",
      "There is an internal instability in the real UHF wave function.\n",
      "There is an external real/complex instability in the real UHF wave function.\n",
      "There is an external UHF/GHF instability in the real UHF wave function.\n",
      "\n",
      "Checking H_9 stability\n",
      "----------------------\n",
      "The wave function is stable within the real UHF space.\n",
      "There is an external UHF/GHF instability in the real UHF wave function.\n",
      "\n",
      "Checking H_10 stability\n",
      "----------------------\n",
      "The wave function is stable within the real UHF space.\n",
      "The wave function is stable within the real/complex & UHF/GHF space.\n",
      "\n",
      "Checking H_11 stability\n",
      "----------------------\n",
      "The wave function is stable within the real UHF space.\n",
      "There is an external UHF/GHF instability in the real UHF wave function.\n",
      "\n",
      "Checking H_12 stability\n",
      "----------------------\n",
      "There is an internal instability in the real UHF wave function.\n",
      "There is an external real/complex instability in the real UHF wave function.\n",
      "There is an external UHF/GHF instability in the real UHF wave function.\n",
      "\n",
      "Checking H_13 stability\n",
      "----------------------\n",
      "The wave function is stable within the real UHF space.\n",
      "There is an external UHF/GHF instability in the real UHF wave function.\n",
      "\n",
      "Checking H_14 stability\n",
      "----------------------\n",
      "There is an internal instability in the real UHF wave function.\n",
      "There is an external UHF/GHF instability in the real UHF wave function.\n",
      "\n",
      "Checking H_15 stability\n",
      "----------------------\n",
      "The wave function is stable within the real UHF space.\n",
      "There is an external UHF/GHF instability in the real UHF wave function.\n"
     ]
    }
   ],
   "source": [
    "print(\"Checking H_3 stability\")\n",
    "print(\"----------------------\")\n",
    "new_mo_3 = h_3.stability_analysis('internal')\n",
    "h_3.stability_analysis('external')\n",
    "print('')\n",
    "print(\"Checking H_4 stability\")\n",
    "print(\"----------------------\")\n",
    "new_mo_4 = h_4.stability_analysis('internal')\n",
    "h_4.stability_analysis('external')\n",
    "print('')\n",
    "print(\"Checking H_5 stability\")\n",
    "print(\"----------------------\")\n",
    "new_mo_5 = h_5.stability_analysis('internal')\n",
    "h_5.stability_analysis('external')\n",
    "print('')\n",
    "print(\"Checking H_6 stability\")\n",
    "print(\"----------------------\")\n",
    "new_mo_6 = h_6.stability_analysis('internal')\n",
    "h_6.stability_analysis('external')\n",
    "print('')\n",
    "print(\"Checking H_7 stability\")\n",
    "print(\"----------------------\")\n",
    "#new_mo_7 = h_7.stability_analysis('internal')\n",
    "h_7.stability_analysis('external')\n",
    "print('')\n",
    "print(\"Checking H_8 stability\")\n",
    "print(\"----------------------\")\n",
    "new_mo_8 = h_8.stability_analysis('internal')\n",
    "h_8.stability_analysis('external')\n",
    "print('')\n",
    "print(\"Checking H_9 stability\")\n",
    "print(\"----------------------\")\n",
    "new_mo_9 = h_9.stability_analysis('internal')\n",
    "h_9.stability_analysis('external')\n",
    "print('')\n",
    "print(\"Checking H_10 stability\")\n",
    "print(\"----------------------\")\n",
    "new_mo_10 = h_10.stability_analysis('internal')\n",
    "h_10.stability_analysis('external')\n",
    "print('')\n",
    "print(\"Checking H_11 stability\")\n",
    "print(\"----------------------\")\n",
    "new_mo_11 = h_11.stability_analysis('internal')\n",
    "h_11.stability_analysis('external')\n",
    "print('')\n",
    "print(\"Checking H_12 stability\")\n",
    "print(\"----------------------\")\n",
    "new_mo_12 = h_12.stability_analysis('internal')\n",
    "h_12.stability_analysis('external')\n",
    "print('')\n",
    "print(\"Checking H_13 stability\")\n",
    "print(\"----------------------\")\n",
    "new_mo_13 = h_13.stability_analysis('internal')\n",
    "h_13.stability_analysis('external')\n",
    "print('')\n",
    "print(\"Checking H_14 stability\")\n",
    "print(\"----------------------\")\n",
    "new_mo_14 = h_14.stability_analysis('internal')\n",
    "h_14.stability_analysis('external')\n",
    "print('')\n",
    "print(\"Checking H_15 stability\")\n",
    "print(\"----------------------\")\n",
    "new_mo_15 = h_15.stability_analysis('internal')\n",
    "h_15.stability_analysis('external')"
   ]
  },
  {
   "cell_type": "markdown",
   "metadata": {},
   "source": [
    "We see that the uneven systems are stable within the real UHF method, but have an external instability towards GHF. This means that they should have a lower lying GHF energy state. The even rings (other than $H_6$ and $H_{10}$) however, show an internal instability. We'll now follow the lowest eigenvector, which should lead us towards a lower lying energy state."
   ]
  },
  {
   "cell_type": "code",
   "execution_count": 6,
   "metadata": {},
   "outputs": [],
   "source": [
    "uhf_h4 = h_4.scf(new_mo_4)\n",
    "uhf_h8 = h_8.scf(new_mo_8)\n",
    "uhf_h12 = h_12.scf(new_mo_12)\n",
    "uhf_h14 = h_14.scf(new_mo_14)"
   ]
  },
  {
   "cell_type": "markdown",
   "metadata": {},
   "source": [
    "We should also check whether or not the new solutions are stable."
   ]
  },
  {
   "cell_type": "code",
   "execution_count": 7,
   "metadata": {},
   "outputs": [
    {
     "name": "stdout",
     "output_type": "stream",
     "text": [
      "Checking H_4 stability\n",
      "----------------------\n",
      "The wave function is stable within the real UHF space.\n",
      "The wave function is stable within the real/complex & UHF/GHF space.\n",
      "\n",
      "Checking H_8 stability\n",
      "----------------------\n",
      "The wave function is stable within the real UHF space.\n",
      "The wave function is stable within the real/complex & UHF/GHF space.\n",
      "\n",
      "Checking H_12 stability\n",
      "----------------------\n",
      "The wave function is stable within the real UHF space.\n",
      "The wave function is stable within the real/complex & UHF/GHF space.\n",
      "\n",
      "Checking H_14 stability\n",
      "----------------------\n",
      "The wave function is stable within the real UHF space.\n",
      "The wave function is stable within the real/complex & UHF/GHF space.\n"
     ]
    }
   ],
   "source": [
    "print(\"Checking H_4 stability\")\n",
    "print(\"----------------------\")\n",
    "h_4.stability_analysis('internal')\n",
    "h_4.stability_analysis('external')\n",
    "print('')\n",
    "print(\"Checking H_8 stability\")\n",
    "print(\"----------------------\")\n",
    "h_8.stability_analysis('internal')\n",
    "h_8.stability_analysis('external')\n",
    "print('')\n",
    "print(\"Checking H_12 stability\")\n",
    "print(\"----------------------\")\n",
    "h_12.stability_analysis('internal')\n",
    "h_12.stability_analysis('external')\n",
    "print('')\n",
    "print(\"Checking H_14 stability\")\n",
    "print(\"----------------------\")\n",
    "h_14.stability_analysis('internal')\n",
    "h_14.stability_analysis('external')"
   ]
  },
  {
   "cell_type": "markdown",
   "metadata": {
    "variables": {
     "uhf_h10[0]": "-5.393541465149266",
     "uhf_h10[1]": "8",
     "uhf_h11[0]": "-5.859393866124588",
     "uhf_h11[1]": "162",
     "uhf_h12[0]": "-6.423113768992863",
     "uhf_h12[1]": "162",
     "uhf_h13[0]": "-6.946518346867869",
     "uhf_h13[1]": "170",
     "uhf_h14[0]": "-7.5318510940921755",
     "uhf_h14[1]": "134",
     "uhf_h15[0]": "-8.019257492591493",
     "uhf_h15[1]": "231",
     "uhf_h3[0]": "-1.5062743192317454",
     "uhf_h3[1]": "62",
     "uhf_h4[0]": "-2.0210882477033913",
     "uhf_h4[1]": "145",
     "uhf_h5[0]": "-2.5859543866953123",
     "uhf_h5[1]": "72",
     "uhf_h6[0]": "-3.249608217327733",
     "uhf_h6[1]": "7",
     "uhf_h7[0]": "-3.6843946688561875",
     "uhf_h7[1]": "101",
     "uhf_h8[0]": "-4.239145345540111",
     "uhf_h8[1]": "180",
     "uhf_h9[0]": "-4.7832015177086475",
     "uhf_h9[1]": "129"
    }
   },
   "source": [
    "| Molecule | Hartree-Fock method | Energy (Hartree) | # iterations\n",
    "| --- | --- | --- | --- |\n",
    "| $H_3$ | UHF | {{uhf_h3[0]}} | {{uhf_h3[1]}} |\n",
    "| $H_4$ | UHF | {{uhf_h4[0]}} | {{uhf_h4[1]}} |\n",
    "| $H_5$ | UHF | {{uhf_h5[0]}} | {{uhf_h5[1]}} |\n",
    "| $H_6$ | UHF | {{uhf_h6[0]}} | {{uhf_h6[1]}} |\n",
    "| $H_7$ | UHF | {{uhf_h7[0]}} | {{uhf_h7[1]}} |\n",
    "| $H_8$ | UHF | {{uhf_h8[0]}} | {{uhf_h8[1]}} |\n",
    "| $H_9$ | UHF | {{uhf_h9[0]}} | {{uhf_h9[1]}} |\n",
    "| $H_{10}$ | UHF | {{uhf_h10[0]}} | {{uhf_h10[1]}} |\n",
    "| $H_{11}$ | UHF | {{uhf_h11[0]}} | {{uhf_h11[1]}} |\n",
    "| $H_{12}$ | UHF | {{uhf_h12[0]}} | {{uhf_h12[1]}} |\n",
    "| $H_{13}$ | UHF | {{uhf_h13[0]}} | {{uhf_h13[1]}} |\n",
    "| $H_{14}$ | UHF | {{uhf_h14[0]}} | {{uhf_h14[1]}} |\n",
    "| $H_{15}$ | UHF | {{uhf_h15[0]}} | {{uhf_h15[1]}} |"
   ]
  },
  {
   "cell_type": "markdown",
   "metadata": {},
   "source": [
    "# Generalised Hartree-Fock results"
   ]
  },
  {
   "cell_type": "markdown",
   "metadata": {},
   "source": [
    "Next up, is to check the GHF solutions. We'lll work the same way as we did for UHF, by checking the stability of the solutions and following it when necessary."
   ]
  },
  {
   "cell_type": "markdown",
   "metadata": {},
   "source": [
    "First create the objects in the GHF class."
   ]
  },
  {
   "cell_type": "code",
   "execution_count": 8,
   "metadata": {},
   "outputs": [],
   "source": [
    "h_3_g = GHF.MF(h3, 3)\n",
    "h_4_g = GHF.MF(h4, 4)\n",
    "h_5_g = GHF.MF(h5, 5)\n",
    "h_6_g = GHF.MF(h6, 6)\n",
    "h_7_g = GHF.MF(h7, 7)\n",
    "h_8_g = GHF.MF(h8, 8)\n",
    "h_9_g = GHF.MF(h9, 9)\n",
    "h_10_g = GHF.MF(h10, 10)\n",
    "h_11_g = GHF.MF(h11, 11)\n",
    "h_12_g = GHF.MF(h12, 12)\n",
    "h_13_g = GHF.MF(h13, 13)\n",
    "h_14_g = GHF.MF(h14, 14)\n",
    "h_15_g = GHF.MF(h15, 15)"
   ]
  },
  {
   "cell_type": "markdown",
   "metadata": {},
   "source": [
    "Then calculate the energies. We don't use DIIS, since this sometimes leads to another converged solution and provides difficulties when trying to rotate away from this solution."
   ]
  },
  {
   "cell_type": "code",
   "execution_count": 67,
   "metadata": {},
   "outputs": [],
   "source": [
    "ghf_h3 = h_3_g.diis()\n",
    "ghf_h4 = h_4_g.diis()\n",
    "ghf_h5 = h_5_g.diis()\n",
    "ghf_h6 = h_6_g.diis()\n",
    "ghf_h7 = h_7_g.diis()\n",
    "ghf_h8 = h_8_g.diis()\n",
    "ghf_h9 = h_9_g.diis()\n",
    "ghf_h10 = h_10_g.diis()\n",
    "ghf_h11 = h_11_g.diis()\n",
    "ghf_h12 = h_12_g.diis()\n",
    "ghf_h13 = h_13_g.diis()\n",
    "ghf_h14 = h_14_g.diis()\n",
    "ghf_h15 = h_15_g.diis()"
   ]
  },
  {
   "cell_type": "markdown",
   "metadata": {
    "variables": {
     "ghf_h10[0]": "-5.393541465149276",
     "ghf_h10[1]": "8",
     "ghf_h11[0]": "-5.8593938757978705",
     "ghf_h11[1]": "18",
     "ghf_h12[0]": "-6.354742986360403",
     "ghf_h12[1]": "9",
     "ghf_h13[0]": "-6.946518342202168",
     "ghf_h13[1]": "18",
     "ghf_h14[0]": "-7.527699238606537",
     "ghf_h14[1]": "8",
     "ghf_h15[0]": "-8.019257489095924",
     "ghf_h15[1]": "18",
     "ghf_h3[0]": "-1.5062743202756033",
     "ghf_h3[1]": "14",
     "ghf_h4[0]": "-1.9196374534240985",
     "ghf_h4[1]": "16",
     "ghf_h5[0]": "-2.585954415372754",
     "ghf_h5[1]": "34",
     "ghf_h6[0]": "-3.2496082173277294",
     "ghf_h6[1]": "7",
     "ghf_h7[0]": "-3.684394656677915",
     "ghf_h7[1]": "14",
     "ghf_h8[0]": "-4.167621820017054",
     "ghf_h8[1]": "8",
     "ghf_h9[0]": "-4.783201475276574",
     "ghf_h9[1]": "14"
    }
   },
   "source": [
    "| Molecule | Hartree-Fock method | Energy (Hartree) | # iterations\n",
    "| --- | --- | --- | --- |\n",
    "| $H_3$ | GHF | {{ghf_h3[0]}} | {{ghf_h3[1]}} |\n",
    "| $H_4$ | GHF | {{ghf_h4[0]}} | {{ghf_h4[1]}} |\n",
    "| $H_5$ | GHF | {{ghf_h5[0]}} | {{ghf_h5[1]}} |\n",
    "| $H_6$ | GHF | {{ghf_h6[0]}} | {{ghf_h6[1]}} |\n",
    "| $H_7$ | GHF | {{ghf_h7[0]}} | {{ghf_h7[1]}} |\n",
    "| $H_8$ | GHF | {{ghf_h8[0]}} | {{ghf_h8[1]}} |\n",
    "| $H_9$ | GHF | {{ghf_h9[0]}} | {{ghf_h9[1]}} |\n",
    "| $H_{10}$ | GHF | {{ghf_h10[0]}} | {{ghf_h10[1]}} |\n",
    "| $H_{11}$ | GHF | {{ghf_h11[0]}} | {{ghf_h11[1]}} |\n",
    "| $H_{12}$ | GHF | {{ghf_h12[0]}} | {{ghf_h12[1]}} |\n",
    "| $H_{13}$ | GHF | {{ghf_h13[0]}} | {{ghf_h13[1]}} |\n",
    "| $H_{14}$ | GHF | {{ghf_h14[0]}} | {{ghf_h14[1]}} |\n",
    "| $H_{15}$ | GHF | {{ghf_h15[0]}} | {{ghf_h15[1]}} |"
   ]
  },
  {
   "cell_type": "markdown",
   "metadata": {},
   "source": [
    "Let's look at the stability analyses, in order to know where we can go lower in energy."
   ]
  },
  {
   "cell_type": "code",
   "execution_count": 10,
   "metadata": {},
   "outputs": [
    {
     "name": "stdout",
     "output_type": "stream",
     "text": [
      "Checking H_3 stability\n",
      "----------------------\n",
      "There is an internal instability in the real GHF wave function.\n",
      "There is an external real/complex instability in the real GHF wave function.\n",
      " \n",
      "Checking H_4 stability\n",
      "----------------------\n",
      "There is an internal instability in the real GHF wave function.\n",
      "There is an external real/complex instability in the real GHF wave function.\n",
      " \n",
      "Checking H_5 stability\n",
      "----------------------\n",
      "There is an internal instability in the real GHF wave function.\n",
      "There is an external real/complex instability in the real GHF wave function.\n",
      " \n",
      "Checking H_6 stability\n",
      "----------------------\n",
      "The wave function is stable within the real GHF space.\n",
      "The wave function is stable within the real/complex space.\n",
      " \n",
      "Checking H_7 stability\n",
      "----------------------\n",
      "There is an internal instability in the real GHF wave function.\n",
      "There is an external real/complex instability in the real GHF wave function.\n",
      " \n",
      "Checking H_8 stability\n",
      "----------------------\n",
      "There is an internal instability in the real GHF wave function.\n",
      "There is an external real/complex instability in the real GHF wave function.\n",
      " \n",
      "Checking H_9 stability\n",
      "----------------------\n",
      "There is an internal instability in the real GHF wave function.\n",
      "There is an external real/complex instability in the real GHF wave function.\n",
      " \n",
      "Checking H_10 stability\n",
      "-----------------------\n",
      "The wave function is stable within the real GHF space.\n",
      "The wave function is stable within the real/complex space.\n",
      " \n",
      "Checking H_11 stability\n",
      "-----------------------\n",
      "There is an internal instability in the real GHF wave function.\n",
      "There is an external real/complex instability in the real GHF wave function.\n",
      " \n",
      "Checking H_12 stability\n",
      "-----------------------\n",
      "There is an internal instability in the real GHF wave function.\n",
      "There is an external real/complex instability in the real GHF wave function.\n",
      " \n",
      "Checking H_13 stability\n",
      "-----------------------\n",
      "There is an internal instability in the real GHF wave function.\n",
      "There is an external real/complex instability in the real GHF wave function.\n",
      " \n",
      "Checking H_14 stability\n",
      "-----------------------\n",
      "There is an internal instability in the real GHF wave function.\n",
      "There is an external real/complex instability in the real GHF wave function.\n",
      " \n",
      "Checking H_15 stability\n",
      "-----------------------\n",
      "There is an internal instability in the real GHF wave function.\n",
      "There is an external real/complex instability in the real GHF wave function.\n"
     ]
    }
   ],
   "source": [
    "print(\"Checking H_3 stability\")\n",
    "print(\"----------------------\")\n",
    "rot_mo_3 = h_3_g.stability_analysis('internal')\n",
    "h_3_g.stability_analysis('external')\n",
    "print(\" \")\n",
    "\n",
    "print(\"Checking H_4 stability\")\n",
    "print(\"----------------------\")\n",
    "rot_mo_4 = h_4_g.stability_analysis('internal')\n",
    "h_4_g.stability_analysis('external')\n",
    "print(\" \")\n",
    "\n",
    "print(\"Checking H_5 stability\")\n",
    "print(\"----------------------\")\n",
    "rot_mo_5 = h_5_g.stability_analysis('internal')\n",
    "h_5_g.stability_analysis('external')\n",
    "print(\" \")\n",
    "\n",
    "print(\"Checking H_6 stability\")\n",
    "print(\"----------------------\")\n",
    "rot_mo_6 = h_6_g.stability_analysis('internal')\n",
    "h_6_g.stability_analysis('external')\n",
    "print(\" \")\n",
    "\n",
    "print(\"Checking H_7 stability\")\n",
    "print(\"----------------------\")\n",
    "rot_mo_7 = h_7_g.stability_analysis('internal')\n",
    "h_7_g.stability_analysis('external')\n",
    "print(\" \")\n",
    "\n",
    "print(\"Checking H_8 stability\")\n",
    "print(\"----------------------\")\n",
    "rot_mo_8 = h_8_g.stability_analysis('internal')\n",
    "h_8_g.stability_analysis('external')\n",
    "print(\" \")\n",
    "\n",
    "print(\"Checking H_9 stability\")\n",
    "print(\"----------------------\")\n",
    "rot_mo_9 = h_9_g.stability_analysis('internal')\n",
    "h_9_g.stability_analysis('external')\n",
    "print(\" \")\n",
    "\n",
    "print(\"Checking H_10 stability\")\n",
    "print(\"-----------------------\")\n",
    "rot_mo_10 = h_10_g.stability_analysis('internal')\n",
    "h_10_g.stability_analysis('external')\n",
    "print(\" \")\n",
    "\n",
    "print(\"Checking H_11 stability\")\n",
    "print(\"-----------------------\")\n",
    "rot_mo_11 = h_11_g.stability_analysis('internal')\n",
    "h_11_g.stability_analysis('external')\n",
    "print(\" \")\n",
    "\n",
    "print(\"Checking H_12 stability\")\n",
    "print(\"-----------------------\")\n",
    "rot_mo_12 = h_12_g.stability_analysis('internal')\n",
    "h_12_g.stability_analysis('external')\n",
    "print(\" \")\n",
    "\n",
    "print(\"Checking H_13 stability\")\n",
    "print(\"-----------------------\")\n",
    "rot_mo_13 = h_13_g.stability_analysis('internal')\n",
    "h_13_g.stability_analysis('external')\n",
    "print(\" \")\n",
    "\n",
    "print(\"Checking H_14 stability\")\n",
    "print(\"-----------------------\")\n",
    "rot_mo_14 = h_14_g.stability_analysis('internal')\n",
    "h_14_g.stability_analysis('external')\n",
    "print(\" \")\n",
    "\n",
    "print(\"Checking H_15 stability\")\n",
    "print(\"-----------------------\")\n",
    "rot_mo_15 = h_15_g.stability_analysis('internal')\n",
    "h_15_g.stability_analysis('external')"
   ]
  },
  {
   "cell_type": "markdown",
   "metadata": {},
   "source": [
    "The first thing we follow is always the internal stability analysis, until an internally stable solution is found. After that, The external stability analysis must be checked and followed. $H_6$ and $H_{10}$ are fully stable solutions already. We will follow the rest."
   ]
  },
  {
   "cell_type": "code",
   "execution_count": 11,
   "metadata": {},
   "outputs": [],
   "source": [
    "ghf_h3 = h_3_g.scf(rot_mo_3)\n",
    "ghf_h4 = h_4_g.scf(rot_mo_4)\n",
    "ghf_h5 = h_5_g.scf(rot_mo_5)\n",
    "ghf_h7 = h_7_g.scf(rot_mo_7)\n",
    "ghf_h8 = h_8_g.scf(rot_mo_8)\n",
    "ghf_h9 = h_9_g.scf(rot_mo_9)\n",
    "ghf_h11 = h_11_g.scf(rot_mo_11)\n",
    "ghf_h12 = h_12_g.scf(rot_mo_12)\n",
    "ghf_h13 = h_13_g.scf(rot_mo_13)\n",
    "ghf_h14 = h_14_g.scf(rot_mo_14)\n",
    "ghf_h15 = h_15_g.scf(rot_mo_15)"
   ]
  },
  {
   "cell_type": "markdown",
   "metadata": {
    "variables": {
     "ghf_h10[0]": "-5.393541465149276",
     "ghf_h10[1]": "8",
     "ghf_h11[0]": "-5.8693157801002585",
     "ghf_h11[1]": "145",
     "ghf_h12[0]": "-6.423113768992785",
     "ghf_h12[1]": "176",
     "ghf_h13[0]": "-6.959102869501052",
     "ghf_h13[1]": "129",
     "ghf_h14[0]": "-7.531851094092509",
     "ghf_h14[1]": "179",
     "ghf_h15[0]": "-8.035541550465542",
     "ghf_h15[1]": "130",
     "ghf_h3[0]": "-1.5077312813105173",
     "ghf_h3[1]": "903",
     "ghf_h4[0]": "-2.0210882476658463",
     "ghf_h4[1]": "929",
     "ghf_h5[0]": "-2.591266602896848",
     "ghf_h5[1]": "252",
     "ghf_h6[0]": "-3.2496082173277294",
     "ghf_h6[1]": "7",
     "ghf_h7[0]": "-3.6899063396460825",
     "ghf_h7[1]": "213",
     "ghf_h8[0]": "-4.2391453455402015",
     "ghf_h8[1]": "164",
     "ghf_h9[0]": "-4.79182691146903",
     "ghf_h9[1]": "138"
    }
   },
   "source": [
    "| Molecule | Hartree-Fock method | Energy (Hartree) | # iterations\n",
    "| --- | --- | --- | --- |\n",
    "| $H_3$ | GHF | {{ghf_h3[0]}} | {{ghf_h3[1]}} |\n",
    "| $H_4$ | GHF | {{ghf_h4[0]}} | {{ghf_h4[1]}} |\n",
    "| $H_5$ | GHF | {{ghf_h5[0]}} | {{ghf_h5[1]}} |\n",
    "| $H_6$ | GHF | {{ghf_h6[0]}} | {{ghf_h6[1]}} |\n",
    "| $H_7$ | GHF | {{ghf_h7[0]}} | {{ghf_h7[1]}} |\n",
    "| $H_8$ | GHF | {{ghf_h8[0]}} | {{ghf_h8[1]}} |\n",
    "| $H_9$ | GHF | {{ghf_h9[0]}} | {{ghf_h9[1]}} |\n",
    "| $H_{10}$ | GHF | {{ghf_h10[0]}} | {{ghf_h10[1]}} |\n",
    "| $H_{11}$ | GHF | {{ghf_h11[0]}} | {{ghf_h11[1]}} |\n",
    "| $H_{12}$ | GHF | {{ghf_h12[0]}} | {{ghf_h12[1]}} |\n",
    "| $H_{13}$ | GHF | {{ghf_h13[0]}} | {{ghf_h13[1]}} |\n",
    "| $H_{14}$ | GHF | {{ghf_h14[0]}} | {{ghf_h14[1]}} |\n",
    "| $H_{15}$ | GHF | {{ghf_h15[0]}} | {{ghf_h15[1]}} |"
   ]
  },
  {
   "cell_type": "markdown",
   "metadata": {},
   "source": [
    "Now, the stability of the new solutions should be checked."
   ]
  },
  {
   "cell_type": "code",
   "execution_count": 12,
   "metadata": {},
   "outputs": [
    {
     "name": "stdout",
     "output_type": "stream",
     "text": [
      "Checking H_3 stability\n",
      "----------------------\n",
      "The wave function is stable within the real GHF space.\n",
      "The wave function is stable within the real/complex space.\n",
      " \n",
      "Checking H_4 stability\n",
      "----------------------\n",
      "The wave function is stable within the real GHF space.\n",
      "The wave function is stable within the real/complex space.\n",
      " \n",
      "Checking H_5 stability\n",
      "----------------------\n",
      "The wave function is stable within the real GHF space.\n",
      "The wave function is stable within the real/complex space.\n",
      " \n",
      "Checking H_6 stability\n",
      "----------------------\n",
      "The wave function is stable within the real GHF space.\n",
      "The wave function is stable within the real/complex space.\n",
      " \n",
      "Checking H_7 stability\n",
      "----------------------\n",
      "The wave function is stable within the real GHF space.\n",
      "The wave function is stable within the real/complex space.\n",
      " \n",
      "Checking H_8 stability\n",
      "----------------------\n",
      "The wave function is stable within the real GHF space.\n",
      "The wave function is stable within the real/complex space.\n",
      " \n",
      "Checking H_9 stability\n",
      "----------------------\n",
      "The wave function is stable within the real GHF space.\n",
      "The wave function is stable within the real/complex space.\n",
      " \n",
      "Checking H_10 stability\n",
      "-----------------------\n",
      "The wave function is stable within the real GHF space.\n",
      "The wave function is stable within the real/complex space.\n",
      " \n",
      "Checking H_11 stability\n",
      "-----------------------\n",
      "The wave function is stable within the real GHF space.\n",
      "The wave function is stable within the real/complex space.\n",
      " \n",
      "Checking H_12 stability\n",
      "-----------------------\n",
      "The wave function is stable within the real GHF space.\n",
      "The wave function is stable within the real/complex space.\n",
      " \n",
      "Checking H_13 stability\n",
      "-----------------------\n",
      "The wave function is stable within the real GHF space.\n",
      "The wave function is stable within the real/complex space.\n",
      " \n",
      "Checking H_14 stability\n",
      "-----------------------\n",
      "The wave function is stable within the real GHF space.\n",
      "The wave function is stable within the real/complex space.\n",
      " \n",
      "Checking H_15 stability\n",
      "-----------------------\n",
      "The wave function is stable within the real GHF space.\n",
      "The wave function is stable within the real/complex space.\n"
     ]
    }
   ],
   "source": [
    "print(\"Checking H_3 stability\")\n",
    "print(\"----------------------\")\n",
    "rot_mo_3 = h_3_g.stability_analysis('internal')\n",
    "h_3_g.stability_analysis('external')\n",
    "print(\" \")\n",
    "\n",
    "print(\"Checking H_4 stability\")\n",
    "print(\"----------------------\")\n",
    "rot_mo_4 = h_4_g.stability_analysis('internal')\n",
    "h_4_g.stability_analysis('external')\n",
    "print(\" \")\n",
    "\n",
    "print(\"Checking H_5 stability\")\n",
    "print(\"----------------------\")\n",
    "rot_mo_5 = h_5_g.stability_analysis('internal')\n",
    "h_5_g.stability_analysis('external')\n",
    "print(\" \")\n",
    "\n",
    "print(\"Checking H_6 stability\")\n",
    "print(\"----------------------\")\n",
    "rot_mo_6 = h_6_g.stability_analysis('internal')\n",
    "h_6_g.stability_analysis('external')\n",
    "print(\" \")\n",
    "\n",
    "print(\"Checking H_7 stability\")\n",
    "print(\"----------------------\")\n",
    "rot_mo_7 = h_7_g.stability_analysis('internal')\n",
    "h_7_g.stability_analysis('external')\n",
    "print(\" \")\n",
    "\n",
    "print(\"Checking H_8 stability\")\n",
    "print(\"----------------------\")\n",
    "rot_mo_8 = h_8_g.stability_analysis('internal')\n",
    "h_8_g.stability_analysis('external')\n",
    "print(\" \")\n",
    "\n",
    "print(\"Checking H_9 stability\")\n",
    "print(\"----------------------\")\n",
    "rot_mo_9 = h_9_g.stability_analysis('internal')\n",
    "h_9_g.stability_analysis('external')\n",
    "print(\" \")\n",
    "\n",
    "print(\"Checking H_10 stability\")\n",
    "print(\"-----------------------\")\n",
    "rot_mo_10 = h_10_g.stability_analysis('internal')\n",
    "h_10_g.stability_analysis('external')\n",
    "print(\" \")\n",
    "\n",
    "print(\"Checking H_11 stability\")\n",
    "print(\"-----------------------\")\n",
    "rot_mo_11 = h_11_g.stability_analysis('internal')\n",
    "h_11_g.stability_analysis('external')\n",
    "print(\" \")\n",
    "\n",
    "print(\"Checking H_12 stability\")\n",
    "print(\"-----------------------\")\n",
    "rot_mo_12 = h_12_g.stability_analysis('internal')\n",
    "h_12_g.stability_analysis('external')\n",
    "print(\" \")\n",
    "\n",
    "print(\"Checking H_13 stability\")\n",
    "print(\"-----------------------\")\n",
    "rot_mo_13 = h_13_g.stability_analysis('internal')\n",
    "h_13_g.stability_analysis('external')\n",
    "print(\" \")\n",
    "\n",
    "print(\"Checking H_14 stability\")\n",
    "print(\"-----------------------\")\n",
    "rot_mo_14 = h_14_g.stability_analysis('internal')\n",
    "h_14_g.stability_analysis('external')\n",
    "print(\" \")\n",
    "\n",
    "print(\"Checking H_15 stability\")\n",
    "print(\"-----------------------\")\n",
    "rot_mo_15 = h_15_g.stability_analysis('internal')\n",
    "h_15_g.stability_analysis('external')"
   ]
  },
  {
   "cell_type": "markdown",
   "metadata": {},
   "source": [
    "## Compare UHF and GHF"
   ]
  },
  {
   "cell_type": "code",
   "execution_count": 13,
   "metadata": {},
   "outputs": [],
   "source": [
    "h = gto.M(atom = 'h 0 0 0', spin = 1, basis = 'cc-pvdz')\n",
    "ref = GHF.MF(h, 1).scf()[0]"
   ]
  },
  {
   "cell_type": "markdown",
   "metadata": {},
   "source": [
    "We compare each UHF energy to the energy of an equal amount of hydrogens at infinite distance."
   ]
  },
  {
   "cell_type": "code",
   "execution_count": 14,
   "metadata": {},
   "outputs": [],
   "source": [
    "u3 = np.around(((uhf_h3[0] - 3 * ref) * 627.5), 2)\n",
    "u4 = np.around(((uhf_h4[0] - 4 * ref) * 627.5), 2)\n",
    "u5 = np.around(((uhf_h5[0] - 5 * ref) * 627.5), 2)\n",
    "u6 = np.around(((uhf_h6[0] - 6 * ref) * 627.5), 2)\n",
    "u7 = np.around(((uhf_h7[0] - 7 * ref) * 627.5), 2)\n",
    "u8 = np.around(((uhf_h8[0] - 8 * ref) * 627.5), 2)\n",
    "u9 = np.around(((uhf_h9[0] - 9 * ref) * 627.5), 2)\n",
    "u10 = np.around(((uhf_h10[0] - 10 * ref) * 627.5), 2)\n",
    "u11 = np.around(((uhf_h11[0] - 11 * ref) * 627.5), 2)\n",
    "u12 = np.around(((uhf_h12[0] - 12 * ref) * 627.5), 2)\n",
    "u13 = np.around(((uhf_h13[0] - 13 * ref) * 627.5), 2)\n",
    "u14 = np.around(((uhf_h14[0] - 14 * ref) * 627.5), 2)\n",
    "u15 = np.around(((uhf_h15[0] - 15 * ref) * 627.5), 2)"
   ]
  },
  {
   "cell_type": "markdown",
   "metadata": {},
   "source": [
    "We do the same for the GHF results."
   ]
  },
  {
   "cell_type": "code",
   "execution_count": 15,
   "metadata": {},
   "outputs": [],
   "source": [
    "g3 = np.around(((ghf_h3[0] - 3 * ref) * 627.5), 2)\n",
    "g4 = np.around(((ghf_h4[0] - 4 * ref) * 627.5), 2)\n",
    "g5 = np.around(((ghf_h5[0] - 5 * ref) * 627.5), 2)\n",
    "g6 = np.around(((ghf_h6[0] - 6 * ref) * 627.5), 2)\n",
    "g7 = np.around(((ghf_h7[0] - 7 * ref) * 627.5), 2)\n",
    "g8 = np.around(((ghf_h8[0] - 8 * ref) * 627.5), 2)\n",
    "g9 = np.around(((ghf_h9[0] - 9 * ref) * 627.5), 2)\n",
    "g10 = np.around(((ghf_h10[0] - 10 * ref) * 627.5), 2)\n",
    "g11 = np.around(((ghf_h11[0] - 11 * ref) * 627.5), 2)\n",
    "g12 = np.around(((ghf_h12[0] - 12 * ref) * 627.5), 2)\n",
    "g13 = np.around(((ghf_h13[0] - 13 * ref) * 627.5), 2)\n",
    "g14 = np.around(((ghf_h14[0] - 14 * ref) * 627.5), 2)\n",
    "g15 = np.around(((ghf_h15[0] - 15 * ref) * 627.5), 2)"
   ]
  },
  {
   "cell_type": "code",
   "execution_count": 16,
   "metadata": {},
   "outputs": [],
   "source": [
    "d3 = np.around(g3-u3, 2)\n",
    "d4 = np.around(g4-u4, 2)\n",
    "d5 = np.around(g5-u5, 2)\n",
    "d6 = np.around(g6-u6, 2)\n",
    "d7 = np.around(g7-u7, 2)\n",
    "d8 = np.around(g8-u8, 2)\n",
    "d9 = np.around(g9-u9, 2)\n",
    "d10 = np.around(g10-u10, 2)\n",
    "d11 = np.around(g11-u11, 2)\n",
    "d12 = np.around(g12-u12, 2)\n",
    "d13 = np.around(g13-u13, 2)\n",
    "d14 = np.around(g14-u14, 2)\n",
    "d15 = np.around(g15-u15, 2)"
   ]
  },
  {
   "cell_type": "markdown",
   "metadata": {
    "variables": {
     "d10": "0.0",
     "d11": "-6.23",
     "d12": "0.0",
     "d13": "-7.89",
     "d14": "0.0",
     "d15": "-10.21",
     "d3": "-0.91",
     "d4": "0.0",
     "d5": "-3.33",
     "d6": "0.0",
     "d7": "-3.46",
     "d8": "0.0",
     "d9": "-5.42",
     "g10": "-251.48",
     "g11": "-236.73",
     "g12": "-270.94",
     "g13": "-293.97",
     "g14": "-340.08",
     "g15": "-342.84",
     "g3": "-6.21",
     "g4": "-15.04",
     "g5": "-59.53",
     "g6": "-159.35",
     "g7": "-122.34",
     "g8": "-153.69",
     "g9": "-187.2",
     "u10": "-251.48",
     "u11": "-230.5",
     "u12": "-270.94",
     "u13": "-286.08",
     "u14": "-340.08",
     "u15": "-332.63",
     "u3": "-5.3",
     "u4": "-15.04",
     "u5": "-56.2",
     "u6": "-159.35",
     "u7": "-118.88",
     "u8": "-153.69",
     "u9": "-181.78"
    }
   },
   "source": [
    "| Molecule | $\\Delta$ UHF ($\\frac{kcal}{mol}$) | $\\Delta$ GHF ($\\frac{kcal}{mol}$) | $\\Delta$(GHF - UHF)($\\frac{kcal}{mol}$)\n",
    "| --- | --- | --- | --- |\n",
    "| $H_3$ | {{u3}} | {{g3}} | {{d3}} |\n",
    "| $H_4$ | {{u4}} | {{g4}} | {{d4}} |\n",
    "| $H_5$ | {{u5}} | {{g5}} | {{d5}} |\n",
    "| $H_6$ | {{u6}} | {{g6}} | {{d6}} |\n",
    "| $H_7$ | {{u7}} | {{g7}} | {{d7}} |\n",
    "| $H_8$ | {{u8}} | {{g8}} | {{d8}} |\n",
    "| $H_9$ | {{u9}} | {{g9}} | {{d9}} |\n",
    "| $H_{10}$ | {{u10}} | {{g10}} | {{d10}} |\n",
    "| $H_{11}$ | {{u11}} | {{g11}} | {{d11}} |\n",
    "| $H_{12}$ | {{u12}} | {{g12}} | {{d12}} |\n",
    "| $H_{13}$ | {{u13}} | {{g13}} | {{d13}} |\n",
    "| $H_{14}$ | {{u14}} | {{g14}} | {{d14}} |\n",
    "| $H_{15}$ | {{u15}} | {{g15}} | {{d15}} |"
   ]
  },
  {
   "cell_type": "markdown",
   "metadata": {},
   "source": [
    "## Conclusions"
   ]
  },
  {
   "cell_type": "markdown",
   "metadata": {},
   "source": [
    "We can see that when following stability analysis, real GHF is enough to find the lowest lying energies and there is no need to resort to complex methods. We'll come back to this later."
   ]
  },
  {
   "cell_type": "markdown",
   "metadata": {},
   "source": [
    "# Spin expectation values"
   ]
  },
  {
   "cell_type": "markdown",
   "metadata": {},
   "source": [
    "## Unrestricted Hartree-Fock"
   ]
  },
  {
   "cell_type": "markdown",
   "metadata": {},
   "source": [
    "An unrestricted Hartree-Fock wavefunction no longer is an eigenfunction of $S^2$. This means that spin contamination will show in the $S^2$ expectation value. It is however still an eigenfunction of $S_z$, which means that the expectation value for this operator will either be 0 or 0.5."
   ]
  },
  {
   "cell_type": "code",
   "execution_count": 17,
   "metadata": {},
   "outputs": [],
   "source": [
    "mo_3 = h_3.get_mo_coeff()\n",
    "s_values_h3 = np.around(spin.uhf(h_3.n_a, h_3.n_b, mo_3[0], mo_3[1], h_3.get_ovlp()), 5)\n",
    "\n",
    "mo_4 = h_4.get_mo_coeff()\n",
    "s_values_h4 = np.around(spin.uhf(h_4.n_a, h_4.n_b, mo_4[0], mo_4[1], h_4.get_ovlp()), 5)\n",
    "\n",
    "mo_5 = h_5.get_mo_coeff()\n",
    "s_values_h5 = np.around(spin.uhf(h_5.n_a, h_5.n_b, mo_5[0], mo_5[1], h_5.get_ovlp()), 5)\n",
    "\n",
    "mo_6 = h_6.get_mo_coeff()\n",
    "s_values_h6 = np.around(spin.uhf(h_6.n_a, h_6.n_b, mo_6[0], mo_6[1], h_6.get_ovlp()), 5)\n",
    "\n",
    "mo_7 = h_7.get_mo_coeff()\n",
    "s_values_h7 = np.around(spin.uhf(h_7.n_a, h_7.n_b, mo_7[0], mo_7[1], h_7.get_ovlp()), 5)\n",
    "\n",
    "mo_8 = h_8.get_mo_coeff()\n",
    "s_values_h8 = np.around(spin.uhf(h_8.n_a, h_8.n_b, mo_8[0], mo_8[1], h_8.get_ovlp()), 5)\n",
    "\n",
    "mo_9 = h_9.get_mo_coeff()\n",
    "s_values_h9 = np.around(spin.uhf(h_9.n_a, h_9.n_b, mo_9[0], mo_9[1], h_9.get_ovlp()), 5)\n",
    "\n",
    "mo_10 = h_10.get_mo_coeff()\n",
    "s_values_h10 = np.around(spin.uhf(h_10.n_a, h_10.n_b, mo_10[0], mo_10[1], h_10.get_ovlp()), 5)\n",
    "\n",
    "mo_11 = h_11.get_mo_coeff()\n",
    "s_values_h11 = np.around(spin.uhf(h_11.n_a, h_11.n_b, mo_11[0], mo_11[1], h_11.get_ovlp()), 5)\n",
    "\n",
    "mo_12 = h_12.get_mo_coeff()\n",
    "s_values_h12 = np.around(spin.uhf(h_12.n_a, h_12.n_b, mo_12[0], mo_12[1], h_12.get_ovlp()), 5)\n",
    "\n",
    "mo_13 = h_13.get_mo_coeff()\n",
    "s_values_h13 = np.around(spin.uhf(h_13.n_a, h_13.n_b, mo_13[0], mo_13[1], h_13.get_ovlp()),5 )\n",
    "\n",
    "mo_14 = h_14.get_mo_coeff()\n",
    "s_values_h14 = np.around(spin.uhf(h_14.n_a, h_14.n_b, mo_14[0], mo_14[1], h_14.get_ovlp()), 5)\n",
    "\n",
    "mo_15 = h_15.get_mo_coeff()\n",
    "s_values_h15 = np.around(spin.uhf(h_15.n_a, h_15.n_b, mo_15[0], mo_15[1], h_15.get_ovlp()), 5)"
   ]
  },
  {
   "cell_type": "markdown",
   "metadata": {
    "variables": {
     "s_values_h10[0]": "-0.0",
     "s_values_h10[1]": "0.0",
     "s_values_h10[2]": "1.0",
     "s_values_h11[0]": "0.83277",
     "s_values_h11[1]": "0.5",
     "s_values_h11[2]": "2.08112",
     "s_values_h12[0]": "1.28111",
     "s_values_h12[1]": "0.0",
     "s_values_h12[2]": "2.47476",
     "s_values_h13[0]": "0.88345",
     "s_values_h13[1]": "0.5",
     "s_values_h13[2]": "2.12927",
     "s_values_h14[0]": "0.51173",
     "s_values_h14[1]": "0.0",
     "s_values_h14[2]": "1.74555",
     "s_values_h15[0]": "1.01934",
     "s_values_h15[1]": "0.5",
     "s_values_h15[2]": "2.2533",
     "s_values_h3[0]": "0.77355",
     "s_values_h3[1]": "0.5",
     "s_values_h3[2]": "2.02341",
     "s_values_h4[0]": "1.05653",
     "s_values_h4[1]": "0.0",
     "s_values_h4[2]": "2.28607",
     "s_values_h5[0]": "0.77591",
     "s_values_h5[1]": "0.5",
     "s_values_h5[2]": "2.02575",
     "s_values_h6[0]": "-0.0",
     "s_values_h6[1]": "0.0",
     "s_values_h6[2]": "1.0",
     "s_values_h7[0]": "0.77855",
     "s_values_h7[1]": "0.5",
     "s_values_h7[2]": "2.02835",
     "s_values_h8[0]": "1.14955",
     "s_values_h8[1]": "0.0",
     "s_values_h8[2]": "2.36605",
     "s_values_h9[0]": "0.8078",
     "s_values_h9[1]": "0.5",
     "s_values_h9[2]": "2.05698"
    }
   },
   "source": [
    "| Molecule | <$\\hat{S^2}$> | <$\\hat{S_z}$> | Multiplicity (2S+1)\n",
    "| --- | --- | --- | --- |\n",
    "| $H_3$ | {{s_values_h3[0]}} | {{s_values_h3[1]}} | {{s_values_h3[2]}} |\n",
    "| $H_4$ | {{s_values_h4[0]}} | {{s_values_h4[1]}} | {{s_values_h4[2]}} |\n",
    "| $H_5$ | {{s_values_h5[0]}} | {{s_values_h5[1]}} | {{s_values_h5[2]}} |\n",
    "| $H_6$ | {{s_values_h6[0]}} | {{s_values_h6[1]}} | {{s_values_h6[2]}} |\n",
    "| $H_7$ | {{s_values_h7[0]}} | {{s_values_h7[1]}} | {{s_values_h7[2]}} |\n",
    "| $H_8$ | {{s_values_h8[0]}} | {{s_values_h8[1]}} | {{s_values_h8[2]}} |\n",
    "| $H_9$ | {{s_values_h9[0]}} | {{s_values_h9[1]}} | {{s_values_h9[2]}} |\n",
    "| $H_{10}$ | {{s_values_h10[0]}} | {{s_values_h10[1]}} | {{s_values_h10[2]}} |\n",
    "| $H_{11}$ | {{s_values_h11[0]}} | {{s_values_h11[1]}} | {{s_values_h11[2]}} |\n",
    "| $H_{12}$ | {{s_values_h12[0]}} | {{s_values_h12[1]}} | {{s_values_h12[2]}} |\n",
    "| $H_{13}$ | {{s_values_h13[0]}} | {{s_values_h13[1]}} | {{s_values_h13[2]}} |\n",
    "| $H_{14}$ | {{s_values_h14[0]}} | {{s_values_h14[1]}} | {{s_values_h14[2]}} |\n",
    "| $H_{15}$ | {{s_values_h15[0]}} | {{s_values_h15[1]}} | {{s_values_h15[2]}} |"
   ]
  },
  {
   "cell_type": "markdown",
   "metadata": {},
   "source": [
    "To visualize this, let's plot the expectation values."
   ]
  },
  {
   "cell_type": "code",
   "execution_count": 18,
   "metadata": {},
   "outputs": [],
   "source": [
    "s_2 = [s_values_h3[0], s_values_h4[0], s_values_h5[0], s_values_h6[0], s_values_h7[0], s_values_h8[0], s_values_h9[0], s_values_h10[0], s_values_h11[0], s_values_h12[0], s_values_h13[0], s_values_h14[0], s_values_h15[0]]\n",
    "s_z = [s_values_h3[1], s_values_h4[1], s_values_h5[1], s_values_h6[1], s_values_h7[1], s_values_h8[1], s_values_h9[1], s_values_h10[1], s_values_h11[1], s_values_h12[1], s_values_h13[1], s_values_h14[1], s_values_h15[1]]\n",
    "x_axis = np.arange(3, 16)"
   ]
  },
  {
   "cell_type": "code",
   "execution_count": 19,
   "metadata": {},
   "outputs": [
    {
     "data": {
      "image/png": "[encoded data removed]",
      "text/plain": [
       "<Figure size 432x288 with 1 Axes>"
      ]
     },
     "metadata": {
      "needs_background": "light"
     },
     "output_type": "display_data"
    }
   ],
   "source": [
    "plt.plot(x_axis, s_2, label='<S^2>', linestyle='--', alpha=0.5)\n",
    "plt.plot(x_axis, s_z, label='<S_z>', linestyle=':', alpha=0.5)\n",
    "plt.scatter(x_axis, s_2, marker='x', alpha=0.5)\n",
    "plt.scatter(x_axis, s_z, marker='v', alpha=0.5)\n",
    "plt.axis([3, 15, 0, 1.5])\n",
    "plt.xticks(x_axis)\n",
    "plt.xlabel('size of the hydrogen ring')\n",
    "plt.ylabel('value (a.u.)')\n",
    "plt.title('UHF spin expectation values')\n",
    "plt.legend()\n",
    "plt.show()"
   ]
  },
  {
   "cell_type": "markdown",
   "metadata": {},
   "source": [
    "## Generalised Hartree-Fock"
   ]
  },
  {
   "cell_type": "markdown",
   "metadata": {},
   "source": [
    "A generalised Hartree-Fock wave function also breaks $S_z$ symmetry. This will show in the expectation values. All $S_z$ values will drop to zero, since the spins will be positioned in a way that they even each other out."
   ]
  },
  {
   "cell_type": "code",
   "execution_count": 20,
   "metadata": {},
   "outputs": [],
   "source": [
    "mo_3_g = h_3_g.get_mo_coeff()\n",
    "s_values_h3_g = np.around(spin.ghf(mo_3_g, h_3_g.number_of_electrons, Scf.trans_matrix(h_3_g.get_ovlp())), 5)\n",
    "\n",
    "mo_4_g = h_4_g.get_mo_coeff()\n",
    "s_values_h4_g = np.around(spin.ghf(mo_4_g, h_4_g.number_of_electrons, Scf.trans_matrix(h_4_g.get_ovlp())), 5)\n",
    "\n",
    "mo_5_g = h_5_g.get_mo_coeff()\n",
    "s_values_h5_g = np.around(spin.ghf(mo_5_g, h_5_g.number_of_electrons, Scf.trans_matrix(h_5_g.get_ovlp())), 5)\n",
    "\n",
    "mo_6_g = h_6_g.get_mo_coeff()\n",
    "s_values_h6_g = np.around(spin.ghf(mo_6_g, h_6_g.number_of_electrons, Scf.trans_matrix(h_6_g.get_ovlp())), 5)\n",
    "\n",
    "mo_7_g = h_7_g.get_mo_coeff()\n",
    "s_values_h7_g = np.around(spin.ghf(mo_7_g, h_7_g.number_of_electrons, Scf.trans_matrix(h_7_g.get_ovlp())), 5)\n",
    "\n",
    "mo_8_g = h_8_g.get_mo_coeff()\n",
    "s_values_h8_g = np.around(spin.ghf(mo_8_g, h_8_g.number_of_electrons, Scf.trans_matrix(h_8_g.get_ovlp())), 5)\n",
    "\n",
    "mo_9_g = h_9_g.get_mo_coeff()\n",
    "s_values_h9_g = np.around(spin.ghf(mo_9_g, h_9_g.number_of_electrons, Scf.trans_matrix(h_9_g.get_ovlp())), 5)\n",
    "\n",
    "mo_10_g = h_10_g.get_mo_coeff()\n",
    "s_values_h10_g = np.around(spin.ghf(mo_10_g, h_10_g.number_of_electrons, Scf.trans_matrix(h_10_g.get_ovlp())), 5)\n",
    "\n",
    "mo_11_g = h_11_g.get_mo_coeff()\n",
    "s_values_h11_g = np.around(spin.ghf(mo_11_g, h_11_g.number_of_electrons, Scf.trans_matrix(h_11_g.get_ovlp())), 5)\n",
    "\n",
    "mo_12_g = h_12_g.get_mo_coeff()\n",
    "s_values_h12_g = np.around(spin.ghf(mo_12_g, h_12_g.number_of_electrons, Scf.trans_matrix(h_12_g.get_ovlp())), 5)\n",
    "\n",
    "mo_13_g = h_13_g.get_mo_coeff()\n",
    "s_values_h13_g = np.around(spin.ghf(mo_13_g, h_13_g.number_of_electrons, Scf.trans_matrix(h_13_g.get_ovlp())), 5)\n",
    "\n",
    "mo_14_g = h_14_g.get_mo_coeff()\n",
    "s_values_h14_g = np.around(spin.ghf(mo_14_g, h_14_g.number_of_electrons, Scf.trans_matrix(h_14_g.get_ovlp())), 5)\n",
    "\n",
    "mo_15_g = h_15_g.get_mo_coeff()\n",
    "s_values_h15_g = np.around(spin.ghf(mo_15_g, h_15_g.number_of_electrons, Scf.trans_matrix(h_15_g.get_ovlp())), 5)"
   ]
  },
  {
   "cell_type": "markdown",
   "metadata": {
    "variables": {
     "s_values_h10_g[0]": "-0.0",
     "s_values_h10_g[1]": "0.0",
     "s_values_h10_g[2]": "1.0",
     "s_values_h11_g[0]": "-1e-05",
     "s_values_h11_g[1]": "1.00329",
     "s_values_h11_g[2]": "2.23901",
     "s_values_h12_g[0]": "0.0",
     "s_values_h12_g[1]": "1.28111",
     "s_values_h12_g[2]": "2.47476",
     "s_values_h13_g[0]": "1e-05",
     "s_values_h13_g[1]": "1.07061",
     "s_values_h13_g[2]": "2.29836",
     "s_values_h14_g[0]": "-0.0",
     "s_values_h14_g[1]": "0.51173",
     "s_values_h14_g[2]": "1.74555",
     "s_values_h15_g[0]": "0.0",
     "s_values_h15_g[1]": "1.2941",
     "s_values_h15_g[2]": "2.48524",
     "s_values_h3_g[0]": "5e-05",
     "s_values_h3_g[1]": "0.77907",
     "s_values_h3_g[2]": "2.02886",
     "s_values_h4_g[0]": "-9e-05",
     "s_values_h4_g[1]": "1.05653",
     "s_values_h4_g[2]": "2.28607",
     "s_values_h5_g[0]": "-2e-05",
     "s_values_h5_g[1]": "0.80452",
     "s_values_h5_g[2]": "2.0538",
     "s_values_h6_g[0]": "0.0",
     "s_values_h6_g[1]": "0.0",
     "s_values_h6_g[2]": "1.0",
     "s_values_h7_g[0]": "2e-05",
     "s_values_h7_g[1]": "0.82343",
     "s_values_h7_g[2]": "2.07213",
     "s_values_h8_g[0]": "-0.0",
     "s_values_h8_g[1]": "1.14955",
     "s_values_h8_g[2]": "2.36605",
     "s_values_h9_g[0]": "1e-05",
     "s_values_h9_g[1]": "0.87509",
     "s_values_h9_g[2]": "2.12141"
    }
   },
   "source": [
    "| Molecule | <$\\hat{S^2}$> | <$\\hat{S_z}$> | Multiplicity (2S+1)\n",
    "| --- | --- | --- | --- |\n",
    "| $H_3$ | {{s_values_h3_g[1]}} | {{s_values_h3_g[0]}} | {{s_values_h3_g[2]}} |\n",
    "| $H_4$ | {{s_values_h4_g[1]}} | {{s_values_h4_g[0]}} | {{s_values_h4_g[2]}} |\n",
    "| $H_5$ | {{s_values_h5_g[1]}} | {{s_values_h5_g[0]}} | {{s_values_h5_g[2]}} |\n",
    "| $H_6$ | {{s_values_h6_g[1]}} | {{s_values_h6_g[0]}} | {{s_values_h6_g[2]}} |\n",
    "| $H_7$ | {{s_values_h7_g[1]}} | {{s_values_h7_g[0]}} | {{s_values_h7_g[2]}} |\n",
    "| $H_8$ | {{s_values_h8_g[1]}} | {{s_values_h8_g[0]}} | {{s_values_h8_g[2]}} |\n",
    "| $H_9$ | {{s_values_h9_g[1]}} | {{s_values_h9_g[0]}} | {{s_values_h9_g[2]}} |\n",
    "| $H_{10}$ | {{s_values_h10_g[1]}} | {{s_values_h10_g[0]}} | {{s_values_h10_g[2]}} |\n",
    "| $H_{11}$ | {{s_values_h11_g[1]}} | {{s_values_h11_g[0]}} | {{s_values_h11_g[2]}} |\n",
    "| $H_{12}$ | {{s_values_h12_g[1]}} | {{s_values_h12_g[0]}} | {{s_values_h12_g[2]}} |\n",
    "| $H_{13}$ | {{s_values_h13_g[1]}} | {{s_values_h13_g[0]}} | {{s_values_h13_g[2]}} |\n",
    "| $H_{14}$ | {{s_values_h14_g[1]}} | {{s_values_h14_g[0]}} | {{s_values_h14_g[2]}} |\n",
    "| $H_{15}$ | {{s_values_h15_g[1]}} | {{s_values_h15_g[0]}} | {{s_values_h15_g[2]}} |"
   ]
  },
  {
   "cell_type": "markdown",
   "metadata": {},
   "source": [
    "Let's visualise these results as well."
   ]
  },
  {
   "cell_type": "code",
   "execution_count": 21,
   "metadata": {},
   "outputs": [],
   "source": [
    "s_z_g = [s_values_h3_g[0], s_values_h4_g[0], s_values_h5_g[0], s_values_h6_g[0], s_values_h7_g[0], s_values_h8_g[0], s_values_h9_g[0], s_values_h10_g[0], s_values_h11_g[0], s_values_h12_g[0], s_values_h13_g[0], s_values_h14_g[0], s_values_h15_g[0]]\n",
    "s_2_g = [s_values_h3_g[1], s_values_h4_g[1], s_values_h5_g[1], s_values_h6_g[1], s_values_h7_g[1], s_values_h8_g[1], s_values_h9_g[1], s_values_h10_g[1], s_values_h11_g[1], s_values_h12_g[1], s_values_h13_g[1], s_values_h14_g[1], s_values_h15_g[1]]\n",
    "x_axis = np.arange(3, 16)"
   ]
  },
  {
   "cell_type": "code",
   "execution_count": 22,
   "metadata": {
    "scrolled": true
   },
   "outputs": [
    {
     "data": {
      "image/png": "[encoded data removed]",
      "text/plain": [
       "<Figure size 432x288 with 1 Axes>"
      ]
     },
     "metadata": {
      "needs_background": "light"
     },
     "output_type": "display_data"
    }
   ],
   "source": [
    "plt.plot(x_axis, s_2_g, label='<S^2>', linestyle='--', alpha=0.5)\n",
    "plt.plot(x_axis, s_z_g, label='<S_z>', linestyle=':', alpha=0.5)\n",
    "plt.scatter(x_axis, s_2_g, marker='x', alpha=0.5)\n",
    "plt.scatter(x_axis, s_z_g, marker='v', alpha=0.5)\n",
    "plt.axis([3, 15, 0, 1.5])\n",
    "plt.xticks(x_axis)\n",
    "plt.xlabel('size of the hydrogen ring')\n",
    "plt.ylabel('value (a.u.)')\n",
    "plt.title('GHF spin expectation values')\n",
    "plt.legend()\n",
    "plt.show()"
   ]
  },
  {
   "cell_type": "markdown",
   "metadata": {},
   "source": [
    "## Energy vs. spin"
   ]
  },
  {
   "cell_type": "markdown",
   "metadata": {},
   "source": [
    "Let's see if we can find a connection between the amount of energy gained by using GHF and the increase in spin multiplicity."
   ]
  },
  {
   "cell_type": "code",
   "execution_count": 23,
   "metadata": {},
   "outputs": [],
   "source": [
    "dm3 = s_values_h3_g[2] - s_values_h3[2]\n",
    "dm4 = s_values_h4_g[2] - s_values_h4[2]\n",
    "dm5 = s_values_h5_g[2] - s_values_h5[2]\n",
    "dm6 = s_values_h6_g[2] - s_values_h6[2]\n",
    "dm7 = s_values_h7_g[2] - s_values_h7[2]\n",
    "dm8 = s_values_h8_g[2] - s_values_h8[2]\n",
    "dm9 = s_values_h9_g[2] - s_values_h9[2]\n",
    "dm10 = s_values_h10_g[2] - s_values_h10[2]\n",
    "dm11 = s_values_h11_g[2] - s_values_h11[2]\n",
    "dm12 = s_values_h12_g[2] - s_values_h12[2]\n",
    "dm13 = s_values_h13_g[2] - s_values_h13[2]\n",
    "dm14 = s_values_h14_g[2] - s_values_h14[2]\n",
    "dm15 = s_values_h15_g[2] - s_values_h15[2]"
   ]
  },
  {
   "cell_type": "code",
   "execution_count": 24,
   "metadata": {},
   "outputs": [],
   "source": [
    "delta_mult = [dm3, dm5, dm7, dm9, dm11, dm13, dm15]\n",
    "delta_e = [d3, d5, d7, d9, d11, d13, d15]"
   ]
  },
  {
   "cell_type": "code",
   "execution_count": 25,
   "metadata": {},
   "outputs": [
    {
     "data": {
      "image/png": "[encoded data removed]",
      "text/plain": [
       "<Figure size 432x288 with 2 Axes>"
      ]
     },
     "metadata": {
      "needs_background": "light"
     },
     "output_type": "display_data"
    }
   ],
   "source": [
    "x_axis = [3, 5, 7, 9, 11, 13, 15]\n",
    "fig, ax1 = plt.subplots()\n",
    "color = 'tab:red'\n",
    "plt.xticks(x_axis)\n",
    "ax1.set_xlabel('size of the hydrogen ring')\n",
    "ax1.set_ylabel('Delta(E) (kcal/mol)', color=color)\n",
    "ax1.plot(x_axis, delta_e, label='Energy(GHF-UHF)', linestyle=':', alpha=0.5, color=color)\n",
    "ax1.scatter(x_axis, delta_e, marker='v', alpha=0.5, color=color)\n",
    "ax1.tick_params(axis='y', labelcolor=color)\n",
    "plt.gca().invert_yaxis()\n",
    "\n",
    "ax2 = ax1.twinx()\n",
    "color2 = 'tab:blue'\n",
    "ax2.plot(x_axis, delta_mult, label='multiplicity(GHF-UHF)', linestyle='--', alpha=0.5, color=color2)\n",
    "ax2.scatter(x_axis, delta_mult, marker='x', alpha=0.5, color=color2)\n",
    "ax2.set_ylabel('multiplicity(GHF-UHF)', color=color2)\n",
    "ax2.tick_params(axis='y', labelcolor=color2)\n",
    "plt.title('Energy and spin multiplicity: GHF-UHF')\n",
    "fig.tight_layout()\n",
    "plt.show()"
   ]
  },
  {
   "cell_type": "markdown",
   "metadata": {},
   "source": [
    "# GHF solutions: Stability"
   ]
  },
  {
   "cell_type": "markdown",
   "metadata": {},
   "source": [
    "By checking the internal and external stability of the solutions, we can guarantee that the solutions are the lowest HF solutions possible within the current framework (RHF->UHF->GHF). All the stability analyses have been ran in the section where the energies were calculated."
   ]
  },
  {
   "cell_type": "markdown",
   "metadata": {},
   "source": [
    "## Hessian eigenvalues"
   ]
  },
  {
   "cell_type": "markdown",
   "metadata": {},
   "source": [
    "Lets take a closer look at the Hessian eigenvalues for each of these systems. Hessian eigenvalues teach us more about the found solutions. When looking at the GHF Hessian, RHF solutions will show no zeros, UHF solutions will have two zero eigenvalues, corresponding to the broken $S_x$ and $S_y$ symmetry, and a GHF solution will show 3 zeros since it breaks $S_z$ symmetry as well. Always look at the complete GHF Hessian, so no zeros get lost because of symmetry."
   ]
  },
  {
   "cell_type": "code",
   "execution_count": 26,
   "metadata": {},
   "outputs": [
    {
     "data": {
      "image/png": "[encoded data removed]",
      "text/plain": [
       "<Figure size 432x288 with 1 Axes>"
      ]
     },
     "metadata": {
      "needs_background": "light"
     },
     "output_type": "display_data"
    },
    {
     "data": {
      "image/png": "[encoded data removed]",
      "text/plain": [
       "<Figure size 432x288 with 1 Axes>"
      ]
     },
     "metadata": {
      "needs_background": "light"
     },
     "output_type": "display_data"
    }
   ],
   "source": [
    "hess_h3 = h_3_g.get_hessian()\n",
    "val3, vec3 = la.eigh(hess_h3)\n",
    "\n",
    "plt.plot(val3)\n",
    "plt.xlabel('n-th eigenvalue')\n",
    "plt.ylabel('value (a.u.)')\n",
    "plt.title('H_3 eigenvalues')\n",
    "plt.show()\n",
    "lowest3 = val3[:10]\n",
    "x = np.arange(1, 11)\n",
    "plt.plot(x, lowest3)\n",
    "plt.scatter(x, lowest3)\n",
    "plt.axis([1, 10, 0, 0.6])\n",
    "plt.xlabel('n-th eigenvalue')\n",
    "plt.ylabel('value (a.u.)')\n",
    "plt.title('H_3 eigenvalues, first 10')\n",
    "plt.xticks(x)\n",
    "plt.show()"
   ]
  },
  {
   "cell_type": "code",
   "execution_count": 27,
   "metadata": {},
   "outputs": [
    {
     "data": {
      "image/png": "[encoded data removed]",
      "text/plain": [
       "<Figure size 432x288 with 1 Axes>"
      ]
     },
     "metadata": {
      "needs_background": "light"
     },
     "output_type": "display_data"
    },
    {
     "data": {
      "image/png": "[encoded data removed]",
      "text/plain": [
       "<Figure size 432x288 with 1 Axes>"
      ]
     },
     "metadata": {
      "needs_background": "light"
     },
     "output_type": "display_data"
    }
   ],
   "source": [
    "hess_h4 = h_4_g.get_hessian()\n",
    "val4, vec4 = la.eigh(hess_h4)\n",
    "\n",
    "plt.plot(val4)\n",
    "plt.xlabel('n-th eigenvalue')\n",
    "plt.ylabel('value (a.u.)')\n",
    "plt.title('H_4 eigenvalues')\n",
    "plt.show()\n",
    "lowest4 = val4[:10]\n",
    "x = np.arange(1, 11)\n",
    "plt.plot(x, lowest4)\n",
    "plt.scatter(x, lowest4)\n",
    "plt.axis([1, 10, 0, 0.5])\n",
    "plt.xlabel('n-th eigenvalue')\n",
    "plt.ylabel('value (a.u.)')\n",
    "plt.title('H_4 eigenvalues, first 10')\n",
    "plt.xticks(x)\n",
    "plt.show()"
   ]
  },
  {
   "cell_type": "code",
   "execution_count": 28,
   "metadata": {},
   "outputs": [
    {
     "data": {
      "image/png": "[encoded data removed]",
      "text/plain": [
       "<Figure size 432x288 with 1 Axes>"
      ]
     },
     "metadata": {
      "needs_background": "light"
     },
     "output_type": "display_data"
    },
    {
     "data": {
      "image/png": "[encoded data removed]",
      "text/plain": [
       "<Figure size 432x288 with 1 Axes>"
      ]
     },
     "metadata": {
      "needs_background": "light"
     },
     "output_type": "display_data"
    }
   ],
   "source": [
    "hess_h5 = h_5_g.get_hessian()\n",
    "val5, vec5 = la.eigh(hess_h5)\n",
    "\n",
    "plt.plot(val5)\n",
    "plt.xlabel('n-th eigenvalue')\n",
    "plt.ylabel('value (a.u.)')\n",
    "plt.title('H_5 eigenvalues')\n",
    "plt.show()\n",
    "lowest5 = val5[:10]\n",
    "x = np.arange(1, 11)\n",
    "plt.plot(x, lowest5)\n",
    "plt.scatter(x, lowest5)\n",
    "plt.axis([1, 10, 0, 0.5])\n",
    "plt.xlabel('n-th eigenvalue')\n",
    "plt.ylabel('value (a.u.)')\n",
    "plt.title('H_5 eigenvalues, first 10')\n",
    "plt.xticks(x)\n",
    "plt.show()"
   ]
  },
  {
   "cell_type": "code",
   "execution_count": 29,
   "metadata": {},
   "outputs": [
    {
     "data": {
      "image/png": "[encoded data removed]",
      "text/plain": [
       "<Figure size 432x288 with 1 Axes>"
      ]
     },
     "metadata": {
      "needs_background": "light"
     },
     "output_type": "display_data"
    },
    {
     "data": {
      "image/png": "[encoded data removed]",
      "text/plain": [
       "<Figure size 432x288 with 1 Axes>"
      ]
     },
     "metadata": {
      "needs_background": "light"
     },
     "output_type": "display_data"
    }
   ],
   "source": [
    "hess_h6 = h_6_g.get_hessian()\n",
    "val6, vec6 = la.eigh(hess_h6)\n",
    "\n",
    "plt.plot(val6)\n",
    "plt.xlabel('n-th eigenvalue')\n",
    "plt.ylabel('value (a.u.)')\n",
    "plt.title('H_6 eigenvalues')\n",
    "plt.show()\n",
    "lowest6 = val6[:10]\n",
    "x = np.arange(1, 11)\n",
    "plt.plot(x, lowest6)\n",
    "plt.scatter(x, lowest6)\n",
    "plt.axis([1, 10, 0, 0.5])\n",
    "plt.xlabel('n-th eigenvalue')\n",
    "plt.ylabel('value (a.u.)')\n",
    "plt.title('H_6 eigenvalues, first 10')\n",
    "plt.xticks(x)\n",
    "plt.show()"
   ]
  },
  {
   "cell_type": "code",
   "execution_count": 30,
   "metadata": {},
   "outputs": [
    {
     "data": {
      "image/png": "[encoded data removed]",
      "text/plain": [
       "<Figure size 432x288 with 1 Axes>"
      ]
     },
     "metadata": {
      "needs_background": "light"
     },
     "output_type": "display_data"
    },
    {
     "data": {
      "image/png": "[encoded data removed]",
      "text/plain": [
       "<Figure size 432x288 with 1 Axes>"
      ]
     },
     "metadata": {
      "needs_background": "light"
     },
     "output_type": "display_data"
    }
   ],
   "source": [
    "hess_h7 = h_7_g.get_hessian()\n",
    "val7, vec7 = la.eigh(hess_h7)\n",
    "\n",
    "plt.plot(val7)\n",
    "plt.xlabel('n-th eigenvalue')\n",
    "plt.ylabel('value (a.u.)')\n",
    "plt.title('H_7 eigenvalues')\n",
    "plt.show()\n",
    "lowest7 = val7[:10]\n",
    "x = np.arange(1, 11)\n",
    "plt.plot(x, lowest7)\n",
    "plt.scatter(x, lowest7)\n",
    "plt.axis([1, 10, 0, 0.5])\n",
    "plt.xlabel('n-th eigenvalue')\n",
    "plt.ylabel('value (a.u.)')\n",
    "plt.title('H_7 eigenvalues, first 10')\n",
    "plt.xticks(x)\n",
    "plt.show()"
   ]
  },
  {
   "cell_type": "code",
   "execution_count": 31,
   "metadata": {},
   "outputs": [
    {
     "data": {
      "image/png": "[encoded data removed]",
      "text/plain": [
       "<Figure size 432x288 with 1 Axes>"
      ]
     },
     "metadata": {
      "needs_background": "light"
     },
     "output_type": "display_data"
    },
    {
     "data": {
      "image/png": "[encoded data removed]",
      "text/plain": [
       "<Figure size 432x288 with 1 Axes>"
      ]
     },
     "metadata": {
      "needs_background": "light"
     },
     "output_type": "display_data"
    }
   ],
   "source": [
    "hess_h8 = h_8_g.get_hessian()\n",
    "val8, vec8 = la.eigh(hess_h8)\n",
    "\n",
    "plt.plot(val8)\n",
    "plt.xlabel('n-th eigenvalue')\n",
    "plt.ylabel('value (a.u.)')\n",
    "plt.title('H_8 eigenvalues')\n",
    "plt.show()\n",
    "lowest8 = val8[:10]\n",
    "x = np.arange(1, 11)\n",
    "plt.plot(x, lowest8)\n",
    "plt.scatter(x, lowest8)\n",
    "plt.axis([1, 10, 0, 0.5])\n",
    "plt.xlabel('n-th eigenvalue')\n",
    "plt.ylabel('value (a.u.)')\n",
    "plt.title('H_8 eigenvalues, first 10')\n",
    "plt.xticks(x)\n",
    "plt.show()"
   ]
  },
  {
   "cell_type": "code",
   "execution_count": 32,
   "metadata": {},
   "outputs": [
    {
     "data": {
      "image/png": "[encoded data removed]",
      "text/plain": [
       "<Figure size 432x288 with 1 Axes>"
      ]
     },
     "metadata": {
      "needs_background": "light"
     },
     "output_type": "display_data"
    },
    {
     "data": {
      "image/png": "[encoded data removed]",
      "text/plain": [
       "<Figure size 432x288 with 1 Axes>"
      ]
     },
     "metadata": {
      "needs_background": "light"
     },
     "output_type": "display_data"
    }
   ],
   "source": [
    "hess_h9 = h_9_g.get_hessian()\n",
    "val9, vec9 = la.eigh(hess_h9)\n",
    "\n",
    "plt.plot(val9)\n",
    "plt.xlabel('n-th eigenvalue')\n",
    "plt.ylabel('value (a.u.)')\n",
    "plt.title('H_9 eigenvalues')\n",
    "plt.show()\n",
    "lowest9 = val9[:10]\n",
    "x = np.arange(1, 11)\n",
    "plt.plot(x, lowest9)\n",
    "plt.scatter(x, lowest9)\n",
    "plt.axis([1, 10, 0, 0.5])\n",
    "plt.xlabel('n-th eigenvalue')\n",
    "plt.ylabel('value (a.u.)')\n",
    "plt.title('H_9 eigenvalues, first 10')\n",
    "plt.xticks(x)\n",
    "plt.show()"
   ]
  },
  {
   "cell_type": "code",
   "execution_count": 33,
   "metadata": {},
   "outputs": [
    {
     "data": {
      "image/png": "[encoded data removed]",
      "text/plain": [
       "<Figure size 432x288 with 1 Axes>"
      ]
     },
     "metadata": {
      "needs_background": "light"
     },
     "output_type": "display_data"
    },
    {
     "data": {
      "image/png": "[encoded data removed]",
      "text/plain": [
       "<Figure size 432x288 with 1 Axes>"
      ]
     },
     "metadata": {
      "needs_background": "light"
     },
     "output_type": "display_data"
    }
   ],
   "source": [
    "hess_h10 = h_10_g.get_hessian()\n",
    "val10, vec10 = la.eigh(hess_h10)\n",
    "\n",
    "plt.plot(val10)\n",
    "plt.xlabel('n-th eigenvalue')\n",
    "plt.ylabel('value (a.u.)')\n",
    "plt.title('H_10 eigenvalues')\n",
    "plt.show()\n",
    "lowest10 = val10[:10]\n",
    "x = np.arange(1, 11)\n",
    "plt.plot(x, lowest10)\n",
    "plt.scatter(x, lowest10)\n",
    "plt.axis([1, 10, 0, 0.5])\n",
    "plt.xlabel('n-th eigenvalue')\n",
    "plt.ylabel('value (a.u.)')\n",
    "plt.title('H_10 eigenvalues, first 10')\n",
    "plt.xticks(x)\n",
    "plt.show()"
   ]
  },
  {
   "cell_type": "code",
   "execution_count": 34,
   "metadata": {},
   "outputs": [
    {
     "data": {
      "image/png": "[encoded data removed]",
      "text/plain": [
       "<Figure size 432x288 with 1 Axes>"
      ]
     },
     "metadata": {
      "needs_background": "light"
     },
     "output_type": "display_data"
    },
    {
     "data": {
      "image/png": "[encoded data removed]",
      "text/plain": [
       "<Figure size 432x288 with 1 Axes>"
      ]
     },
     "metadata": {
      "needs_background": "light"
     },
     "output_type": "display_data"
    }
   ],
   "source": [
    "hess_h11 = h_11_g.get_hessian()\n",
    "val11, vec11 = la.eigh(hess_h11)\n",
    "\n",
    "plt.plot(val11)\n",
    "plt.xlabel('n-th eigenvalue')\n",
    "plt.ylabel('value (a.u.)')\n",
    "plt.title('H_11 eigenvalues')\n",
    "plt.show()\n",
    "lowest11 = val11[:10]\n",
    "x = np.arange(1, 11)\n",
    "plt.plot(x, lowest11)\n",
    "plt.scatter(x, lowest11)\n",
    "plt.axis([1, 10, 0, 0.5])\n",
    "plt.xlabel('n-th eigenvalue')\n",
    "plt.ylabel('value (a.u.)')\n",
    "plt.title('H_11 eigenvalues, first 10')\n",
    "plt.xticks(x)\n",
    "plt.show()"
   ]
  },
  {
   "cell_type": "code",
   "execution_count": 35,
   "metadata": {},
   "outputs": [
    {
     "data": {
      "image/png": "[encoded data removed]",
      "text/plain": [
       "<Figure size 432x288 with 1 Axes>"
      ]
     },
     "metadata": {
      "needs_background": "light"
     },
     "output_type": "display_data"
    },
    {
     "data": {
      "image/png": "[encoded data removed]",
      "text/plain": [
       "<Figure size 432x288 with 1 Axes>"
      ]
     },
     "metadata": {
      "needs_background": "light"
     },
     "output_type": "display_data"
    }
   ],
   "source": [
    "hess_h12 = h_12_g.get_hessian()\n",
    "val12, vec12 = la.eigh(hess_h12)\n",
    "\n",
    "plt.plot(val12)\n",
    "plt.xlabel('n-th eigenvalue')\n",
    "plt.ylabel('value (a.u.)')\n",
    "plt.title('H_12 eigenvalues')\n",
    "plt.show()\n",
    "lowest12 = val12[:10]\n",
    "x = np.arange(1, 11)\n",
    "plt.plot(x, lowest12)\n",
    "plt.scatter(x, lowest12)\n",
    "plt.axis([1, 10, 0, 0.5])\n",
    "plt.xlabel('n-th eigenvalue')\n",
    "plt.ylabel('value (a.u.)')\n",
    "plt.title('H_12 eigenvalues, first 10')\n",
    "plt.xticks(x)\n",
    "plt.show()"
   ]
  },
  {
   "cell_type": "code",
   "execution_count": 36,
   "metadata": {},
   "outputs": [
    {
     "data": {
      "image/png": "[encoded data removed]",
      "text/plain": [
       "<Figure size 432x288 with 1 Axes>"
      ]
     },
     "metadata": {
      "needs_background": "light"
     },
     "output_type": "display_data"
    },
    {
     "data": {
      "image/png": "[encoded data removed]",
      "text/plain": [
       "<Figure size 432x288 with 1 Axes>"
      ]
     },
     "metadata": {
      "needs_background": "light"
     },
     "output_type": "display_data"
    }
   ],
   "source": [
    "hess_h13 = h_13_g.get_hessian()\n",
    "val13, vec13 = la.eigh(hess_h13)\n",
    "\n",
    "plt.plot(val13)\n",
    "plt.xlabel('n-th eigenvalue')\n",
    "plt.ylabel('value (a.u.)')\n",
    "plt.title('H_13 eigenvalues')\n",
    "plt.show()\n",
    "lowest13 = val13[:10]\n",
    "x = np.arange(1, 11)\n",
    "plt.plot(x, lowest13)\n",
    "plt.scatter(x, lowest13)\n",
    "plt.axis([1, 10, 0, 0.5])\n",
    "plt.xlabel('n-th eigenvalue')\n",
    "plt.ylabel('value (a.u.)')\n",
    "plt.title('H_13 eigenvalues, first 10')\n",
    "plt.xticks(x)\n",
    "plt.show()"
   ]
  },
  {
   "cell_type": "code",
   "execution_count": 37,
   "metadata": {},
   "outputs": [
    {
     "data": {
      "image/png": "[encoded data removed]",
      "text/plain": [
       "<Figure size 432x288 with 1 Axes>"
      ]
     },
     "metadata": {
      "needs_background": "light"
     },
     "output_type": "display_data"
    },
    {
     "data": {
      "image/png": "[encoded data removed]",
      "text/plain": [
       "<Figure size 432x288 with 1 Axes>"
      ]
     },
     "metadata": {
      "needs_background": "light"
     },
     "output_type": "display_data"
    }
   ],
   "source": [
    "hess_h14 = h_14_g.get_hessian()\n",
    "val14, vec14 = la.eigh(hess_h14)\n",
    "\n",
    "plt.plot(val14)\n",
    "plt.xlabel('n-th eigenvalue')\n",
    "plt.ylabel('value (a.u.)')\n",
    "plt.title('H_14 eigenvalues')\n",
    "plt.show()\n",
    "lowest14 = val14[:10]\n",
    "x = np.arange(1, 11)\n",
    "plt.plot(x, lowest14)\n",
    "plt.scatter(x, lowest14)\n",
    "plt.axis([1, 10, 0, 0.5])\n",
    "plt.xlabel('n-th eigenvalue')\n",
    "plt.ylabel('value (a.u.)')\n",
    "plt.title('H_14 eigenvalues, first 10')\n",
    "plt.xticks(x)\n",
    "plt.show()"
   ]
  },
  {
   "cell_type": "code",
   "execution_count": 38,
   "metadata": {},
   "outputs": [
    {
     "data": {
      "image/png": "[encoded data removed]",
      "text/plain": [
       "<Figure size 432x288 with 1 Axes>"
      ]
     },
     "metadata": {
      "needs_background": "light"
     },
     "output_type": "display_data"
    },
    {
     "data": {
      "image/png": "[encoded data removed]",
      "text/plain": [
       "<Figure size 432x288 with 1 Axes>"
      ]
     },
     "metadata": {
      "needs_background": "light"
     },
     "output_type": "display_data"
    }
   ],
   "source": [
    "hess_h15 = h_15_g.get_hessian()\n",
    "val15, vec15 = la.eigh(hess_h15)\n",
    "\n",
    "plt.plot(val15)\n",
    "plt.xlabel('n-th eigenvalue')\n",
    "plt.ylabel('value (a.u.)')\n",
    "plt.title('H_15 eigenvalues')\n",
    "plt.show()\n",
    "lowest15 = val15[:10]\n",
    "x = np.arange(1, 11)\n",
    "plt.plot(x, lowest15)\n",
    "plt.scatter(x, lowest15)\n",
    "plt.axis([1, 10, 0, 0.5])\n",
    "plt.xlabel('n-th eigenvalue')\n",
    "plt.ylabel('value (a.u.)')\n",
    "plt.title('H_15 eigenvalues, first 10')\n",
    "plt.xticks(x)\n",
    "plt.show()"
   ]
  },
  {
   "cell_type": "markdown",
   "metadata": {},
   "source": [
    "# Complex Methods"
   ]
  },
  {
   "cell_type": "markdown",
   "metadata": {},
   "source": [
    "It is often reported that complex GHF is needed in order to find the lowest GHF energy. This is not always the case. In this section We will discuss some examples and show that often, the complex results are the same as the real ones. This makes sense, because if a solution is internally stable in the real GHF space, it will also be stable in the complex GHF space. The only example, that i know of, that is known to have a lower lying complex GHF solution than real GHF solution, is the Beryllium atom in specific basis sets."
   ]
  },
  {
   "cell_type": "markdown",
   "metadata": {},
   "source": [
    "## Example 1: $H_4$ using complex RHF"
   ]
  },
  {
   "cell_type": "markdown",
   "metadata": {},
   "source": [
    "$H_4$ is quite the complex molecule. Let's start with a normal RHF calculation and check the stability."
   ]
  },
  {
   "cell_type": "code",
   "execution_count": 39,
   "metadata": {},
   "outputs": [
    {
     "name": "stdout",
     "output_type": "stream",
     "text": [
      "Number of iterations: 103\n",
      "Converged SCF energy in Hartree: -1.9403598392830816 (Real RHF)\n",
      "The wave function is stable within the real RHF space.\n",
      "There is an external real/complex instability in the real RHF wave function.\n",
      "There is an external RHF/UHF instability in the real RHF wave function.\n"
     ]
    }
   ],
   "source": [
    "rhf_h4 = RHF.MF(h4, 4)\n",
    "rhf_h4.get_scf_solution()\n",
    "rhf_h4.stability_analysis('internal')\n",
    "rhf_h4.stability_analysis('external')"
   ]
  },
  {
   "cell_type": "markdown",
   "metadata": {},
   "source": [
    "The result is a stable solution within the real RHF space, which means we can now check the external stability. As previously shown, the UHF calculation finds a lower energy state, the triplet state. It thus makes sense that an RHF->UHF instability is found. But we also find a real complex instability. Let's see what happens when we follow that."
   ]
  },
  {
   "cell_type": "code",
   "execution_count": 40,
   "metadata": {
    "scrolled": true
   },
   "outputs": [
    {
     "name": "stdout",
     "output_type": "stream",
     "text": [
      "Number of iterations: 96\n",
      "Converged SCF energy in Hartree: -1.9567491787232192 (Complex RHF)\n",
      "The wave function is stable within the complex RHF space.\n",
      "There is an external RHF/UHF instability in the complex RHF wave function.\n"
     ]
    }
   ],
   "source": [
    "rhf_h4.get_scf_solution(complex_method=True)\n",
    "rhf_h4.stability_analysis('internal')\n",
    "rhf_h4.stability_analysis('external')"
   ]
  },
  {
   "cell_type": "markdown",
   "metadata": {},
   "source": [
    "We find a lower lying energy state, that still has the RHF->UHF instability. However the real->complex instability is now resolved."
   ]
  },
  {
   "cell_type": "markdown",
   "metadata": {},
   "source": [
    "## Example 2: $H_3$ using complex GHF"
   ]
  },
  {
   "cell_type": "markdown",
   "metadata": {},
   "source": [
    "Let's start with a normal calculation, followed by stability analysis."
   ]
  },
  {
   "cell_type": "code",
   "execution_count": 41,
   "metadata": {},
   "outputs": [
    {
     "name": "stdout",
     "output_type": "stream",
     "text": [
      "Number of iterations: 56\n",
      "Converged SCF energy in Hartree: -1.5062743202608853 (Real GHF)\n",
      " <S^2> = 0.7735672499981336, <S_z> = 0.5000000000000002, Multiplicity = 2.0234300086715464\n",
      "There is an internal instability in the real GHF wave function.\n",
      "There is an external real/complex instability in the real GHF wave function.\n"
     ]
    }
   ],
   "source": [
    "c_ghf_h3 = GHF.MF(h3, 3)\n",
    "c_ghf_h3.get_scf_solution()\n",
    "c_ghf_h3.stability_analysis('internal')\n",
    "c_ghf_h3.stability_analysis('external')"
   ]
  },
  {
   "cell_type": "markdown",
   "metadata": {},
   "source": [
    "We see an internal instability, and an external real->complex intstability. Previously, we followed the internal instability. What happens when we follow the external one?"
   ]
  },
  {
   "cell_type": "code",
   "execution_count": 42,
   "metadata": {},
   "outputs": [
    {
     "name": "stdout",
     "output_type": "stream",
     "text": [
      "Number of iterations: 709\n",
      "Converged SCF energy in Hartree: -1.5077312813102774 (Complex GHF)\n",
      " <S^2> = 0.7790732147530122, <S_z> = 5.324106001247664e-05, Multiplicity = 2.0288649188677024\n",
      "The wave function is stable in the complex GHF space.\n"
     ]
    }
   ],
   "source": [
    "c_ghf_h3.get_scf_solution(complex_method=True)\n",
    "c_ghf_h3.stability_analysis('internal')"
   ]
  },
  {
   "cell_type": "markdown",
   "metadata": {},
   "source": [
    "We find a state with the exact same energy and spin expectation values. Let's try and verify whether or not the solutions are the same."
   ]
  },
  {
   "cell_type": "code",
   "execution_count": 43,
   "metadata": {},
   "outputs": [
    {
     "name": "stdout",
     "output_type": "stream",
     "text": [
      "MO energies of the complex solution\n",
      "-----------------------------------\n",
      "[-0.72835842 -0.72834994 -0.23820129  0.11734821  0.11734842  0.15213046\n",
      "  0.42797555  0.42797828  0.65209139  0.73032519  0.73032565  0.76510993\n",
      "  1.0725577   1.07256027  1.49753212  1.49753237  1.51838402  1.5345525\n",
      "  1.71812901  1.71813411  1.77283121  1.81632756  1.81632778  1.83667948\n",
      "  2.36018226  2.36018655  2.77131251  2.79701447  2.79701483  2.81304015]\n",
      "\n",
      "MO energies of the real solution\n",
      "--------------------------------\n",
      "[-0.7283584  -0.72834996 -0.23820129  0.11734821  0.11734842  0.15213046\n",
      "  0.42797556  0.42797827  0.65209139  0.73032519  0.73032565  0.76510993\n",
      "  1.0725577   1.07256026  1.49753212  1.49753237  1.51838402  1.5345525\n",
      "  1.71812903  1.7181341   1.77283121  1.81632756  1.81632778  1.83667948\n",
      "  2.36018228  2.36018653  2.77131251  2.79701447  2.79701483  2.81304015]\n"
     ]
    }
   ],
   "source": [
    "print('MO energies of the complex solution')\n",
    "print('-----------------------------------')\n",
    "print(c_ghf_h3.get_mo_energy())\n",
    "print('')\n",
    "print('MO energies of the real solution')\n",
    "print('--------------------------------')\n",
    "print(h_3_g.get_mo_energy())"
   ]
  },
  {
   "cell_type": "markdown",
   "metadata": {},
   "source": [
    "The MO's have the exact same energies. Next, look at the Hessian eigenvalues. "
   ]
  },
  {
   "cell_type": "code",
   "execution_count": 44,
   "metadata": {},
   "outputs": [
    {
     "name": "stdout",
     "output_type": "stream",
     "text": [
      "Hessian eigenvalues of the complex solution\n",
      "-------------------------------------------\n",
      "[-2.37691780e-08 -3.68357444e-11  2.36787659e-08  7.71060340e-03\n",
      "  7.71208850e-03  2.42905908e-02  2.78090741e-01  2.91109137e-01\n",
      "  3.26367987e-01  3.26368330e-01  3.34415822e-01  3.34416791e-01\n",
      "  3.47410345e-01  3.47428963e-01  4.37976542e-01  4.37982362e-01\n",
      "  4.86995664e-01  4.96733804e-01  5.25023357e-01  5.25023632e-01\n",
      "  5.48709455e-01  5.48714904e-01  5.64790810e-01  5.86114495e-01\n",
      "  5.88882855e-01  5.96817196e-01  5.96817541e-01  6.05650019e-01\n",
      "  6.07363660e-01  6.07368410e-01  6.97613169e-01  6.97613372e-01\n",
      "  7.01740234e-01  8.12189919e-01  8.12586281e-01  8.12586362e-01\n",
      "  8.13182493e-01  8.76239027e-01  8.76239071e-01  8.81692653e-01\n",
      "  8.81693797e-01  9.28503951e-01  9.32848515e-01  9.32852149e-01\n",
      "  9.42049142e-01  9.42052749e-01  9.63026201e-01  9.85210268e-01\n",
      "  1.01612765e+00  1.01612991e+00  1.05278024e+00  1.05278543e+00\n",
      "  1.05858586e+00  1.06116567e+00  1.08402251e+00  1.08402380e+00\n",
      "  1.10156748e+00  1.10156749e+00  1.10163106e+00  1.16409196e+00\n",
      "  1.16409336e+00  1.30702930e+00  1.30705618e+00  1.30705643e+00\n",
      "  1.30707941e+00  1.32218564e+00  1.32696937e+00  1.33051253e+00\n",
      "  1.33051305e+00  1.33557521e+00  1.33657793e+00  1.36818692e+00\n",
      "  1.36818865e+00  1.46996230e+00  1.52179720e+00  1.52179820e+00\n",
      "  1.52544616e+00  1.52544787e+00  1.62158981e+00  1.62803761e+00\n",
      "  1.63020945e+00  1.63021098e+00  1.63124996e+00  1.63193454e+00\n",
      "  1.63193454e+00  1.63265276e+00  1.63791312e+00  1.63791636e+00\n",
      "  1.64978768e+00  1.64978810e+00  1.65291595e+00  1.65506668e+00\n",
      "  1.72015142e+00  1.72222064e+00  1.72913001e+00  1.72913446e+00\n",
      "  1.73626558e+00  1.73626726e+00  1.75645390e+00  1.75645501e+00\n",
      "  1.81430419e+00  1.81430424e+00  1.81986644e+00  1.87016771e+00\n",
      "  1.87016871e+00  1.93828726e+00  1.94163328e+00  1.94163345e+00\n",
      "  1.94457833e+00  1.94871386e+00  1.94871739e+00  1.96250073e+00\n",
      "  1.96250133e+00  1.97434017e+00  1.97515901e+00  2.00784852e+00\n",
      "  2.00784999e+00  2.04171079e+00  2.04171712e+00  2.04809468e+00\n",
      "  2.04884015e+00  2.06802923e+00  2.06803139e+00  2.08043598e+00\n",
      "  2.13234347e+00  2.13234565e+00  2.19392204e+00  2.19392299e+00\n",
      "  2.19528669e+00  2.19528746e+00  2.52351735e+00  2.52568754e+00\n",
      "  2.52568767e+00  2.56872282e+00  2.57587126e+00  2.57587139e+00\n",
      "  2.58380415e+00  2.60049282e+00  2.61731357e+00  2.61816939e+00\n",
      "  2.62011970e+00  2.62011973e+00  2.62341508e+00  2.62341533e+00\n",
      "  2.62376528e+00  2.65559819e+00  2.91494233e+00  2.91494393e+00\n",
      "  2.92342773e+00  2.92343169e+00  2.92855005e+00  2.93153968e+00\n",
      "  2.97711415e+00  2.97711956e+00  3.00088685e+00  3.00089193e+00\n",
      "  3.00481299e+00  3.00550445e+00  3.02210969e+00  3.02211171e+00\n",
      "  3.09360413e+00  3.09360713e+00]\n",
      "\n",
      "Hessian eigenvalues of the real solution\n",
      "----------------------------------------\n",
      "[-2.36434676e-08 -3.64498516e-11  2.35540049e-08  7.71060731e-03\n",
      "  7.71208458e-03  2.42905908e-02  2.78090741e-01  2.91109137e-01\n",
      "  3.26367988e-01  3.26368329e-01  3.34415825e-01  3.34416788e-01\n",
      "  3.47410394e-01  3.47428914e-01  4.37976557e-01  4.37982347e-01\n",
      "  4.86995664e-01  4.96733804e-01  5.25023358e-01  5.25023631e-01\n",
      "  5.48709470e-01  5.48714889e-01  5.64790810e-01  5.86114495e-01\n",
      "  5.88882855e-01  5.96817197e-01  5.96817540e-01  6.05650019e-01\n",
      "  6.07363673e-01  6.07368397e-01  6.97613169e-01  6.97613372e-01\n",
      "  7.01740234e-01  8.12189919e-01  8.12586281e-01  8.12586362e-01\n",
      "  8.13182493e-01  8.76239027e-01  8.76239071e-01  8.81692656e-01\n",
      "  8.81693794e-01  9.28503951e-01  9.32848525e-01  9.32852139e-01\n",
      "  9.42049151e-01  9.42052739e-01  9.63026201e-01  9.85210268e-01\n",
      "  1.01612765e+00  1.01612991e+00  1.05278025e+00  1.05278541e+00\n",
      "  1.05858586e+00  1.06116567e+00  1.08402252e+00  1.08402379e+00\n",
      "  1.10156748e+00  1.10156749e+00  1.10163106e+00  1.16409196e+00\n",
      "  1.16409335e+00  1.30702931e+00  1.30705618e+00  1.30705642e+00\n",
      "  1.30707941e+00  1.32218564e+00  1.32696937e+00  1.33051253e+00\n",
      "  1.33051305e+00  1.33557521e+00  1.33657793e+00  1.36818692e+00\n",
      "  1.36818865e+00  1.46996230e+00  1.52179720e+00  1.52179820e+00\n",
      "  1.52544616e+00  1.52544787e+00  1.62158981e+00  1.62803761e+00\n",
      "  1.63020946e+00  1.63021097e+00  1.63124996e+00  1.63193454e+00\n",
      "  1.63193454e+00  1.63265276e+00  1.63791313e+00  1.63791635e+00\n",
      "  1.64978768e+00  1.64978810e+00  1.65291595e+00  1.65506668e+00\n",
      "  1.72015142e+00  1.72222064e+00  1.72913002e+00  1.72913445e+00\n",
      "  1.73626559e+00  1.73626725e+00  1.75645391e+00  1.75645501e+00\n",
      "  1.81430419e+00  1.81430424e+00  1.81986644e+00  1.87016771e+00\n",
      "  1.87016871e+00  1.93828726e+00  1.94163328e+00  1.94163345e+00\n",
      "  1.94457833e+00  1.94871387e+00  1.94871738e+00  1.96250073e+00\n",
      "  1.96250133e+00  1.97434017e+00  1.97515901e+00  2.00784852e+00\n",
      "  2.00784999e+00  2.04171081e+00  2.04171711e+00  2.04809468e+00\n",
      "  2.04884015e+00  2.06802923e+00  2.06803138e+00  2.08043598e+00\n",
      "  2.13234347e+00  2.13234565e+00  2.19392204e+00  2.19392298e+00\n",
      "  2.19528669e+00  2.19528746e+00  2.52351735e+00  2.52568754e+00\n",
      "  2.52568767e+00  2.56872282e+00  2.57587126e+00  2.57587139e+00\n",
      "  2.58380415e+00  2.60049282e+00  2.61731357e+00  2.61816939e+00\n",
      "  2.62011970e+00  2.62011973e+00  2.62341508e+00  2.62341533e+00\n",
      "  2.62376528e+00  2.65559819e+00  2.91494233e+00  2.91494393e+00\n",
      "  2.92342774e+00  2.92343168e+00  2.92855005e+00  2.93153968e+00\n",
      "  2.97711417e+00  2.97711954e+00  3.00088686e+00  3.00089192e+00\n",
      "  3.00481299e+00  3.00550445e+00  3.02210970e+00  3.02211171e+00\n",
      "  3.09360414e+00  3.09360713e+00]\n"
     ]
    }
   ],
   "source": [
    "print('Hessian eigenvalues of the complex solution')\n",
    "print('-------------------------------------------')\n",
    "h_3_c_val, h_3_c_vec = la.eigh(c_ghf_h3.get_hessian())\n",
    "print(h_3_c_val)\n",
    "print('')\n",
    "print('Hessian eigenvalues of the real solution')\n",
    "print('----------------------------------------')\n",
    "print(val3)"
   ]
  },
  {
   "cell_type": "code",
   "execution_count": 45,
   "metadata": {},
   "outputs": [
    {
     "data": {
      "image/png": "[encoded data removed]",
      "text/plain": [
       "<Figure size 432x288 with 1 Axes>"
      ]
     },
     "metadata": {
      "needs_background": "light"
     },
     "output_type": "display_data"
    }
   ],
   "source": [
    "lowest3_c = h_3_c_val[:10]\n",
    "x = np.arange(1, 11)\n",
    "plt.plot(x, lowest3_c)\n",
    "plt.scatter(x, lowest3_c)\n",
    "plt.axis([1, 10, 0, 0.6])\n",
    "plt.xlabel('n-th eigenvalue')\n",
    "plt.ylabel('value (a.u.)')\n",
    "plt.title('complex H_3 eigenvalues, first 10')\n",
    "plt.xticks(x)\n",
    "plt.show()"
   ]
  },
  {
   "cell_type": "markdown",
   "metadata": {},
   "source": [
    "We find the exact same eigenvalues for both solutions. Both also have three 0 eigenvalues, indicating a GHF solution, which was expected. For clarity we have even plotted the graph of the lowest 10 eigenvalues, which is the same as it was in the real case."
   ]
  },
  {
   "cell_type": "markdown",
   "metadata": {},
   "source": [
    "But, how do we know we don't just converged to the real solution? If our solution is actually complex, it should have different, complex valued MO coefficients than the real solution. Let's verify this."
   ]
  },
  {
   "cell_type": "code",
   "execution_count": 46,
   "metadata": {},
   "outputs": [
    {
     "name": "stdout",
     "output_type": "stream",
     "text": [
      "MO coefficients of the complex solution\n",
      "---------------------------------------\n",
      "[[-3.55405026e-01+2.12892760e-04j  6.00343170e-02+1.83346680e-03j\n",
      "   2.66491379e-01-4.85304488e-09j -1.63651712e-01+3.62589436e-05j\n",
      "  -8.37122690e-02-7.37016148e-05j  7.84284824e-02+1.26005136e-08j\n",
      "   5.68001756e-01-1.96465392e-05j  5.17224712e-02+2.23185641e-04j\n",
      "   6.14339454e-01+1.46782493e-08j  6.14519197e-01-2.31098450e-04j\n",
      "  -3.52836451e-01-4.27174674e-04j  3.41264347e-01+6.58471099e-08j\n",
      "  -5.18076903e-16-4.49124524e-18j -8.59539207e-17+1.27464289e-17j\n",
      "  -1.71294031e-01-1.48316132e-04j  2.00149111e-01-1.19134728e-04j\n",
      "  -1.24099683e-01-3.18422434e-08j -2.07420303e-01-5.04017586e-09j\n",
      "   4.23975274e-01-3.44711724e-05j -3.00601112e-02-4.41748360e-04j\n",
      "   1.85116205e-15+3.08332545e-18j -1.44600252e-15-7.45297647e-18j\n",
      "   3.65471642e-16+1.68643675e-18j -3.50415596e-16+1.38161708e-18j\n",
      "   1.57400816e-02+2.51095864e-06j -1.22487797e-02+3.17158996e-06j\n",
      "  -7.84392367e-01-3.96719229e-09j  7.55419406e-01-5.37280607e-05j\n",
      "  -4.71834994e-01-8.68651998e-05j -4.18778070e-01-2.70125314e-08j]\n",
      " [-1.17566287e-01+2.27185276e-04j  3.36778774e-02+1.95663177e-03j\n",
      "   7.69140320e-01-3.12263627e-09j -9.01716088e-01+1.20790777e-03j\n",
      "  -5.50503055e-01-2.45524669e-03j  5.22427825e-01+2.32404163e-07j\n",
      "  -5.66342062e-01+2.46242267e-04j -7.14788870e-02-2.79747839e-03j\n",
      "  -1.23469036e+00-9.24927294e-08j -1.06701683e+00+8.18672556e-04j\n",
      "   6.49594900e-01+1.51320418e-03j -5.72864647e-01-2.31078261e-07j\n",
      "   8.82621535e-16+1.48303126e-17j  3.23762176e-17-4.02795836e-17j\n",
      "   3.71422823e-02+4.02899550e-04j -1.05631228e-02+3.23657230e-04j\n",
      "   1.17264490e-02+6.32474253e-08j  2.41908736e-02+5.42555133e-08j\n",
      "  -2.24232353e-01+2.13977306e-04j -1.25513067e-03+2.74232151e-03j\n",
      "  -2.92458364e-16-1.01848779e-17j  2.79641144e-16-2.25088670e-18j\n",
      "  -5.04211360e-16+2.14050638e-17j  5.11058289e-16+2.17602017e-17j\n",
      "   6.42784482e-03+2.92833810e-05j -2.49941086e-03+3.69728052e-05j\n",
      "  -3.04685710e-01-5.89296410e-09j  2.86350506e-01-1.96184682e-05j\n",
      "  -1.78787358e-01-3.16995786e-05j -1.56329393e-01-2.32088860e-08j]\n",
      " [ 1.48892507e-16-4.24007452e-18j  1.78761740e-17-4.78298972e-17j\n",
      "  -1.42543630e-17-2.58625881e-18j -4.62100452e-17-2.50281387e-17j\n",
      "   4.53826995e-17+7.57962687e-17j -2.88887880e-17+4.56851135e-18j\n",
      "  -5.32722907e-18-1.79366578e-17j  9.26177196e-17+1.74442695e-16j\n",
      "   4.10249298e-16-6.39235538e-17j  1.27167804e-16+1.06561703e-16j\n",
      "   2.33281859e-17-2.24399101e-17j -2.10801889e-16-1.84527519e-16j\n",
      "   4.74044641e-01-2.66300095e-03j  3.27717398e-02-1.04433977e-03j\n",
      "   9.56132166e-16+1.60464683e-17j  1.27071865e-15-2.26169908e-16j\n",
      "   9.83475257e-16-1.62823898e-16j -2.04134981e-16-1.33738405e-16j\n",
      "   1.01592309e-15-3.07375544e-17j -5.48123166e-16-7.59020496e-16j\n",
      "  -5.97767470e-01+7.38995243e-04j  5.73569664e-01+1.05476968e-02j\n",
      "   3.44785471e-01-1.98657811e-02j -3.17735304e-01-1.50653001e-02j\n",
      "   3.09004540e-16-2.53770496e-17j -1.46298804e-16-1.19787907e-17j\n",
      "  -6.92132716e-16+5.47990524e-18j  9.07736623e-16+1.31168131e-17j\n",
      "  -7.28701884e-16-2.99391141e-18j -1.01484205e-15+2.73894613e-17j]\n",
      " [-1.55217536e-02-6.50476671e-05j -4.70980321e-03-4.80706493e-04j\n",
      "   7.57138133e-03+3.16940732e-04j -1.30628453e-02+1.25983901e-04j\n",
      "   1.16136479e-02+2.82319741e-04j -5.82872731e-03+2.48264391e-04j\n",
      "   2.13927000e-02-6.18095270e-06j  4.44809682e-03+1.74855363e-04j\n",
      "  -1.00244171e-02+1.26909672e-03j -1.88583539e-03-1.28084197e-03j\n",
      "   1.33814179e-01+2.58179274e-03j -1.35887418e-01+2.67361817e-03j\n",
      "  -2.27403175e-16+2.70938212e-16j -2.26379933e-17+2.59539223e-16j\n",
      "  -2.71284800e-01-6.67026768e-03j -3.18073131e-01+5.03330215e-03j\n",
      "  -3.20776205e-01+9.54540542e-03j  2.85792841e-01+5.00037654e-03j\n",
      "  -2.82903999e-01+9.24874499e-05j  2.89499015e-02-2.36238342e-03j\n",
      "  -7.15144064e-16-2.72164102e-16j  1.43827928e-16-2.20779044e-16j\n",
      "   5.46350592e-16+3.92142075e-17j -7.22646728e-16+1.26684125e-16j\n",
      "  -8.06594624e-01+3.69208495e-03j -3.30572627e-02+8.53209223e-03j\n",
      "  -3.04860410e-01+4.88925627e-03j  2.83016073e-01+4.89707570e-03j\n",
      "  -6.25193889e-01-8.24085923e-03j -6.06266991e-01+8.96767357e-03j]\n",
      " [-1.53941056e-02-3.27734256e-05j -6.51997736e-04-3.28165477e-04j\n",
      "  -1.49533526e-02-1.82983523e-04j  2.07998890e-03-1.86381690e-04j\n",
      "   6.69340727e-04+6.79943205e-05j  1.18844208e-02-1.43365931e-04j\n",
      "   4.79781575e-02+4.49566906e-05j -8.93184196e-04-5.71169792e-04j\n",
      "  -1.29745564e-01-7.32726965e-04j -1.41004381e-01+1.04921990e-03j\n",
      "   2.70179106e-02-9.18072375e-04j  1.32544261e-03-1.54369791e-03j\n",
      "  -3.19301990e-16-1.43847124e-16j -2.13559541e-17-1.71596051e-16j\n",
      "   3.39783850e-01+4.25913820e-03j -8.27579204e-03-2.57819355e-03j\n",
      "   2.89409246e-01-5.51094318e-03j  5.23281896e-02-2.88694732e-03j\n",
      "  -3.94722941e-01+4.98307675e-04j -2.15183846e-02+8.43466134e-03j\n",
      "   5.07932138e-16+1.20023418e-16j -6.98187972e-16+1.14140875e-16j\n",
      "  -1.12520867e-15+1.60279530e-17j  1.17309225e-15-3.10053406e-17j\n",
      "   4.91256136e-01-2.05019223e-03j  6.03871327e-03-4.82318019e-03j\n",
      "  -9.60961643e-01-2.82281482e-03j  9.30608953e-01-2.83986539e-03j\n",
      "  -3.16582826e-01+4.73758712e-03j -2.56398633e-01-5.17749126e-03j]\n",
      " [-2.67552423e-01-2.45091484e-04j  1.35254444e-02-3.01680200e-03j\n",
      "  -1.04505225e-02+3.20227377e-03j -6.02356985e-03+1.93900520e-03j\n",
      "   2.12472362e-01+4.79521591e-03j -1.66777114e-01+3.32778804e-03j\n",
      "   5.09492509e-01+3.04079839e-04j  2.08614551e-02-3.97328892e-03j\n",
      "  -2.40922577e-02+7.38239764e-03j  2.39246229e-02-7.68656495e-03j\n",
      "   7.56920023e-01+1.55084443e-02j -7.25718419e-01+1.44806963e-02j\n",
      "   4.16450469e-16+4.62324411e-17j -1.30547184e-16-4.23624342e-16j\n",
      "   1.86536607e-01+2.54953008e-03j  9.70742736e-03-3.08679104e-03j\n",
      "   2.63931616e-01-5.26649197e-03j  8.13665719e-03-2.49324110e-03j\n",
      "   5.05541851e-01-6.37299382e-04j  1.29417276e-02-6.44471469e-03j\n",
      "   1.19596130e-15+7.64479841e-17j -6.67218634e-16+1.33996956e-16j\n",
      "   5.84585784e-16-9.05604225e-17j -4.68100242e-16-1.36256753e-16j\n",
      "   7.22181950e-04-2.29747295e-04j  1.59764050e-02+2.21565020e-04j\n",
      "   3.07636568e-02-9.42664695e-03j  3.07048922e-02-9.83512052e-03j\n",
      "   8.90073969e-01+1.59062964e-02j  8.90585685e-01-1.77745736e-02j]\n",
      " [-6.29273396e-02-5.76486171e-05j  4.75187715e-03-1.05996848e-03j\n",
      "  -3.01618205e-02+9.24225623e-03j -3.62096277e-02+1.16554580e-02j\n",
      "   1.07580346e+00+2.42794245e-02j -1.11099162e+00+2.21681773e-02j\n",
      "  -4.71019223e-01-2.81122736e-04j -2.12048202e-02+4.03880529e-03j\n",
      "   4.84201045e-02-1.48369850e-02j -4.27917543e-02+1.37480391e-02j\n",
      "  -1.27496566e+00-2.61226132e-02j  1.21824454e+00-2.43083664e-02j\n",
      "  -8.35835994e-17-3.67681403e-16j  2.04702897e-16+4.02086111e-16j\n",
      "   2.00459036e-02+2.73988359e-04j -1.46400642e-03+4.65402086e-04j\n",
      "  -2.49506011e-02+4.97864342e-04j -9.49010291e-04+2.90796530e-04j\n",
      "  -2.35437543e-01+2.96795614e-04j -7.16270186e-03+3.56700189e-03j\n",
      "  -1.53862941e-15+3.95718657e-17j  1.45702322e-15+6.54449554e-17j\n",
      "  -1.67045515e-15+6.53449121e-17j  1.64294366e-15-1.39054856e-17j\n",
      "   2.10158226e-04-6.68693597e-05j  9.18563144e-03+1.27389308e-04j\n",
      "   1.19496266e-02-3.66162292e-03j  1.16367288e-02-3.72737479e-03j\n",
      "   3.37461329e-01+6.03068973e-03j  3.32453607e-01-6.63520784e-03j]\n",
      " [ 1.36386819e-18-1.05584594e-18j  1.01709149e-17-9.41500688e-18j\n",
      "   2.12707796e-17-2.23616376e-18j  8.11619620e-17+4.11221026e-17j\n",
      "  -2.12767499e-16-2.98704517e-17j -1.15988824e-16-1.77372264e-17j\n",
      "  -5.65652697e-18-2.70266177e-17j -1.76643863e-17+2.19277862e-17j\n",
      "   2.60968382e-16-8.08203542e-18j  1.23965978e-16+6.44214388e-17j\n",
      "  -2.15358396e-16+3.26979443e-17j -5.28434842e-16-6.12028020e-17j\n",
      "   4.44530984e-01-2.32754295e-03j  1.72110195e-02-3.21567943e-03j\n",
      "  -4.14498300e-16-5.60573225e-18j -1.28130084e-15+1.25963502e-17j\n",
      "  -1.06787597e-15-3.62875687e-16j  3.36661960e-16+2.32841539e-16j\n",
      "   1.54688955e-15+4.39656456e-18j  6.17811135e-16-4.93824085e-17j\n",
      "   2.34343976e-02-7.21251318e-03j  2.30094955e-02-6.91107172e-03j\n",
      "  -6.89260338e-01+2.70260604e-02j  6.76329908e-01+1.85533002e-02j\n",
      "   1.17697589e-16+4.77496068e-17j  2.23375493e-17+5.87644217e-17j\n",
      "  -9.68470792e-17+5.26441804e-18j -5.51835176e-16-8.29022113e-17j\n",
      "  -9.27149407e-16-1.02499477e-16j -4.76138050e-16+5.31352096e-20j]\n",
      " [ 2.78778633e-02+2.55356457e-05j -6.72481637e-04+1.49957435e-04j\n",
      "  -3.59367287e-04+1.10118171e-04j -1.23881850e-04+3.98256600e-05j\n",
      "  -1.55076015e-02-3.49987226e-04j  1.56853485e-02-3.12977685e-04j\n",
      "  -5.30069488e-02-3.16352696e-05j -1.85169281e-03+3.52655118e-04j\n",
      "  -4.60308206e-03+1.41048559e-03j  5.45591489e-03-1.75278053e-03j\n",
      "   1.30671966e-01+2.67731889e-03j -1.42055319e-01+2.83451527e-03j\n",
      "  -5.83277561e-16+1.29513212e-17j -9.56619380e-17-1.39040518e-17j\n",
      "   1.37479385e-01+1.87902588e-03j  8.61576097e-03-2.73958680e-03j\n",
      "   1.91946046e-01-3.83009177e-03j  7.38334442e-03-2.26241040e-03j\n",
      "   5.04740130e-01-6.36281636e-04j  1.54650534e-02-7.70155557e-03j\n",
      "   2.60675043e-15+4.28528776e-17j -1.94749939e-15-1.29518785e-16j\n",
      "   1.04921136e-15+1.52932823e-16j -1.07717575e-15+3.87685477e-17j\n",
      "  -8.15044542e-04+2.59317710e-04j -2.87848069e-02-3.99196603e-04j\n",
      "  -3.86174918e-02+1.18332311e-02j -3.83402310e-02+1.22808319e-02j\n",
      "  -1.12164161e+00-2.00445865e-02j -1.11685852e+00+2.22905941e-02j]\n",
      " [-2.39954252e-04+7.49148810e-05j  6.56099493e-03+5.52187286e-04j\n",
      "  -2.98586979e-02-1.82983832e-04j  4.77290894e-03-3.76010009e-05j\n",
      "   6.13224031e-04-1.76946503e-04j  4.27712553e-04-1.43363485e-04j\n",
      "  -2.53389415e-04+7.91942969e-05j -5.43227129e-03-6.28581616e-04j\n",
      "  -1.19556910e-01-7.32723341e-04j -1.15377009e-01+8.45061495e-04j\n",
      "   4.36479524e-03-1.26951292e-03j  4.60539026e-03-1.54366520e-03j\n",
      "   2.83016397e-16-9.57628346e-17j -4.94670382e-19-2.50166947e-17j\n",
      "  -1.71884584e-02+5.12669658e-03j  4.57336028e-01-1.99373291e-03j\n",
      "   1.64413532e-02-5.51092896e-03j -4.70954343e-01-2.88682108e-03j\n",
      "  -2.16432155e-03+6.80858244e-04j -4.84713302e-02+7.75517204e-03j\n",
      "   3.18723034e-16+8.95723554e-19j -3.11870047e-16-2.68849136e-17j\n",
      "  -6.39863971e-16+2.70681018e-16j  8.33318673e-16+2.18308370e-17j\n",
      "  -9.46272821e-01+4.24496304e-03j -3.27712465e-02+9.76259597e-03j\n",
      "  -4.60557842e-01-2.82279190e-03j  4.71652647e-01-3.04193924e-03j\n",
      "  -1.50394900e-02+4.41719740e-03j  1.54460720e-02-5.17739702e-03j]\n",
      " [-3.51965868e-01-8.60842338e-04j -3.90744662e-02-6.50773964e-03j\n",
      "  -2.56040908e-01-3.20225299e-03j  1.71632698e-01-2.60503154e-03j\n",
      "  -7.20431389e-02-3.44147943e-03j  8.83572380e-02-3.32797237e-03j\n",
      "   5.65711297e-01+6.96256961e-04j -1.40835023e-02-7.39138919e-03j\n",
      "  -5.90246966e-01-7.38248279e-03j -6.41720968e-01+8.97003317e-03j\n",
      "  -3.09142272e-01-1.31360122e-02j  3.84467428e-01-1.44810287e-02j\n",
      "   5.10354038e-16-1.08020236e-16j  2.21091770e-16+4.21731651e-16j\n",
      "  -1.57234165e-01-4.34194739e-03j -2.04951655e-01+1.64687820e-03j\n",
      "  -1.39810707e-01+5.26610027e-03j  1.99284501e-01+2.49298397e-03j\n",
      "   4.27166650e-01-1.03847495e-03j  6.11308394e-02-1.50318451e-02j\n",
      "  -7.74308327e-17+2.67163973e-17j  4.48459612e-16-1.50705087e-16j\n",
      "   7.14099548e-16+1.53293515e-18j -8.33762620e-16+6.06812866e-17j\n",
      "  -1.62062574e-02+1.45827424e-04j -1.11392513e-02-3.27524549e-04j\n",
      "   7.53628754e-01+9.42663730e-03j -7.86123251e-01+9.88851345e-03j\n",
      "  -4.18266502e-01-1.58199231e-02j -4.71806213e-01+1.77745727e-02j]\n",
      " [-1.15427368e-01-4.40603721e-04j -2.79623909e-02-3.23114460e-03j\n",
      "  -7.38978520e-01-9.24224686e-03j  9.39267046e-01-1.32949175e-02j\n",
      "  -4.86430575e-01-2.09469316e-02j  5.88566197e-01-2.21684576e-02j\n",
      "  -5.62610767e-01-9.20007372e-04j  3.57223547e-02+9.60704713e-03j\n",
      "   1.18627004e+00+1.48371444e-02j  1.11158815e+00-1.51381737e-02j\n",
      "   5.73819421e-01+2.35531709e-02j -6.45388422e-01+2.43087677e-02j\n",
      "  -9.48020336e-16+4.03960644e-16j -2.42426469e-16-3.70730955e-16j\n",
      "   3.64706213e-02+6.03235659e-04j  8.79189466e-03+2.39280172e-04j\n",
      "   1.32114000e-02-4.97673130e-04j -2.32423601e-02-2.90698471e-04j\n",
      "  -2.24670799e-01+3.51911974e-04j -1.37829225e-02+4.74670565e-03j\n",
      "   3.32705245e-16-8.25698156e-17j -7.90959947e-16-4.34661827e-17j\n",
      "   1.33557158e-15-4.09091928e-17j -1.30173150e-15+3.75303053e-17j\n",
      "  -6.79848581e-03+8.86188483e-05j -2.04009293e-03-9.99274147e-05j\n",
      "   2.92736063e-01+3.66163481e-03j -2.97993923e-01+3.74913449e-03j\n",
      "  -1.58481424e-01-5.99554915e-03j -1.76124823e-01+6.63524319e-03j]\n",
      " [ 2.98064010e-18+1.88810980e-18j  1.60798519e-17+1.55069437e-18j\n",
      "  -1.56982816e-18-7.14730652e-19j  3.29596085e-17+7.93152169e-18j\n",
      "  -9.63611258e-17+2.61452843e-17j  1.08261634e-16+3.31441337e-17j\n",
      "  -7.25363624e-17-6.60201280e-18j  2.42481198e-16-3.39387866e-17j\n",
      "   5.48135124e-17+7.84031293e-18j -3.32540528e-16+1.42770230e-16j\n",
      "  -5.91383708e-16+1.50711129e-16j  1.71755145e-16-8.48391088e-17j\n",
      "   4.72891317e-01-2.29512129e-03j -4.11180645e-04-5.00157399e-03j\n",
      "  -6.11877073e-16-1.70049952e-17j -1.59621458e-16-4.69448853e-17j\n",
      "  -4.31369094e-16+6.08813336e-17j -6.51896399e-17-1.46511982e-16j\n",
      "  -2.82998617e-15+2.98508675e-18j  4.88976665e-16+6.91666416e-16j\n",
      "   5.74332956e-01+6.47355402e-03j -5.97956948e-01-3.22300837e-03j\n",
      "   3.04818697e-01-5.60535863e-03j -3.58604141e-01-3.48826175e-03j\n",
      "  -1.27450494e-16-7.44244281e-18j  1.63507800e-16-4.23064802e-17j\n",
      "   2.88763572e-16-7.20534350e-18j -1.39989873e-16-1.03869772e-16j\n",
      "   9.63251651e-16-1.39076989e-16j  7.24822270e-16-1.24739786e-17j]\n",
      " [-1.58464132e-02+3.63154926e-05j  5.25891258e-03+3.58281931e-04j\n",
      "  -9.30256192e-03+2.13531709e-04j  1.29160098e-02-7.86692951e-05j\n",
      "   1.17433863e-02+2.44818516e-04j -4.99149991e-03-3.23629290e-05j\n",
      "   2.12717051e-02+3.16455003e-05j -2.22823878e-03-5.97680527e-04j\n",
      "   1.51038627e-03+1.33978957e-03j  1.01330963e-02-1.36887431e-03j\n",
      "   1.32786819e-01+2.88056387e-03j -1.36127401e-01+2.75405721e-03j\n",
      "  -5.90899445e-16+1.01647555e-16j -7.16532693e-17-5.76019244e-17j\n",
      "  -2.90277907e-01-1.00502967e-03j  2.94818878e-01+2.36144147e-03j\n",
      "  -3.00825021e-01+2.85802660e-03j -3.06580166e-01+1.36929232e-03j\n",
      "  -2.84589841e-01+6.22913298e-04j -4.23796006e-02+9.04997859e-03j\n",
      "  -5.67888667e-17-5.50587531e-17j -1.76593301e-16-1.13486295e-17j\n",
      "   5.53640661e-17-6.18914537e-17j -4.66659896e-17+2.47404512e-17j\n",
      "   8.06124531e-01-3.54253974e-03j  2.46165611e-02-8.64914988e-03j\n",
      "   2.61617701e-01+8.36124105e-03j -3.25852843e-01+8.82399421e-03j\n",
      "  -6.06374777e-01-1.37682053e-02j -6.26140405e-01+1.56290793e-02j]\n",
      " [ 1.55133669e-02-4.46007283e-06j -2.43115724e-03+6.86806150e-05j\n",
      "  -1.55378627e-02-3.87658079e-06j  9.96960910e-04+1.62143379e-04j\n",
      "  -1.00936515e-03+3.01052096e-05j -1.24793453e-02+3.42776607e-04j\n",
      "  -4.80823907e-02-1.23727946e-05j -3.94925916e-03+1.08383132e-05j\n",
      "  -1.29346018e-01-8.55156576e-04j -1.40899151e-01+1.01553684e-03j\n",
      "  -1.75646341e-02-1.83152280e-03j  8.30077341e-03-1.68288088e-03j\n",
      "   7.19731841e-17+2.31312645e-17j  7.44707409e-17+5.26277922e-17j\n",
      "  -3.37315367e-01-4.99531279e-03j -2.49442517e-02+2.72301780e-03j\n",
      "  -2.91083749e-01+6.07221513e-03j  3.18021978e-02+3.40264354e-03j\n",
      "   3.94718442e-01-4.96856997e-04j  8.01741744e-03-6.27457524e-03j\n",
      "   7.34289824e-16+1.23070261e-17j -4.00341173e-16+1.00086050e-16j\n",
      "   2.04404097e-16-2.88377040e-16j -2.39277427e-16-5.45103946e-17j\n",
      "   4.92235467e-01-2.36174030e-03j  2.54398186e-02-4.55412078e-03j\n",
      "  -9.41336100e-01-8.83650387e-03j  9.50758975e-01-9.29409643e-03j\n",
      "   2.49855016e-01+1.48602591e-02j  3.21713839e-01-1.67156317e-02j]\n",
      " [ 1.53132443e-02+3.44405426e-02j -6.86906895e-02-2.86420869e-01j\n",
      "  -4.61358252e-02-1.34109026e-01j -3.71243409e-02-1.15713844e-01j\n",
      "   4.87548853e-02+1.57575852e-01j  4.79471891e-02+1.39372891e-01j\n",
      "  -1.00445452e-02-1.09312567e-02j -1.06338154e-01-5.16631615e-01j\n",
      "  -1.06361306e-01-3.09175653e-01j  1.26339844e-01+3.96463396e-01j\n",
      "   1.83904807e-01+5.88584274e-01j  2.08633083e-01+6.06454391e-01j\n",
      "   3.90901789e-16+9.64380735e-16j  5.44757034e-16+3.20303306e-17j\n",
      "   6.05874465e-02+1.87280853e-01j  2.21461361e-02+7.33438688e-02j\n",
      "  -7.58705975e-02-2.20540180e-01j  3.59170766e-02+1.04406957e-01j\n",
      "   1.47094305e-02+5.92726747e-02j -2.19799224e-01-4.27267530e-01j\n",
      "   6.39215459e-16+8.82777089e-16j -2.50454400e-16-3.22739597e-17j\n",
      "   4.73682310e-16+6.99518092e-16j  4.14532911e-16+1.61018873e-15j\n",
      "   2.14788579e-03+6.98480046e-03j  4.77799152e-03+1.48252104e-02j\n",
      "   1.35812208e-01+3.94787305e-01j  1.42225478e-01+4.49766424e-01j\n",
      "   2.27532134e-01+7.20145390e-01j -2.56083300e-01-7.44368140e-01j]\n",
      " [ 9.57328119e-03+2.51692437e-02j -1.87739910e-02-7.74711257e-02j\n",
      "  -1.33155682e-01-3.87060942e-01j -1.74788074e-01-5.49245596e-01j\n",
      "   2.67729561e-01+8.61918804e-01j  3.19390367e-01+9.28403688e-01j\n",
      "   1.65390519e-02+3.08159299e-02j  1.01100988e-01+4.89976787e-01j\n",
      "   2.13761599e-01+6.21371116e-01j -2.07065252e-01-6.51815730e-01j\n",
      "  -3.18940770e-01-1.01937030e+00j -3.50226376e-01-1.01803740e+00j\n",
      "  -5.66478822e-16-1.36457752e-15j -4.85152981e-16+9.94373771e-17j\n",
      "  -2.89388142e-03-7.89706647e-03j  8.10421709e-03+2.39713764e-02j\n",
      "   7.17101967e-03+2.08445767e-02j -4.18739372e-03-1.21719791e-02j\n",
      "  -2.11335084e-03-1.41579575e-02j  1.06279814e-01+2.06219676e-01j\n",
      "  -3.98432319e-16-5.17518485e-16j -1.02480121e-16-7.76493629e-17j\n",
      "  -1.30839846e-16-1.50529715e-16j  1.76332402e-16+1.20128669e-16j\n",
      "   1.70310514e-03+5.33132014e-03j  1.97799642e-03+6.23047522e-03j\n",
      "   5.27541370e-02+1.53348955e-01j  5.39342064e-02+1.70554745e-01j\n",
      "   8.62494295e-02+2.72984310e-01j -9.55960152e-02-2.77872952e-01j]\n",
      " [ 2.84011103e-19+7.08525111e-18j  1.13410801e-17+4.66881454e-17j\n",
      "  -1.43127438e-17-4.90158377e-17j -8.19214547e-18+1.31250172e-17j\n",
      "   6.32272799e-18+3.69879197e-17j  2.07162085e-19-2.02277769e-18j\n",
      "  -7.53328400e-18-4.54999599e-18j  3.91798114e-17+1.26040153e-17j\n",
      "   1.72094010e-19+2.98835595e-18j -6.62776998e-17-1.21621329e-16j\n",
      "  -1.55793246e-16-6.02375204e-17j  2.00027081e-17+6.49840256e-17j\n",
      "  -4.96766082e-03+1.30982489e-03j -8.97697273e-02-4.44630546e-01j\n",
      "  -2.86033795e-16+5.58900567e-18j -3.82375485e-16-4.18316566e-16j\n",
      "   2.43850468e-17+8.32988231e-17j -1.81438524e-16-5.10411962e-16j\n",
      "  -1.34160752e-16-2.21395451e-16j -7.12169892e-16-4.88962874e-16j\n",
      "   1.03867621e-01+3.00718741e-01j  1.05841438e-01+3.56373668e-01j\n",
      "  -2.03895368e-01-5.37076994e-01j -1.67499253e-01-5.73922968e-01j\n",
      "  -2.37883348e-16+7.56135308e-17j -1.91373406e-16+3.64801731e-16j\n",
      "   2.54043189e-16+7.60294936e-16j  2.06145046e-16+9.32144251e-16j\n",
      "   1.15223698e-16+8.55373337e-16j -2.65191399e-16-7.84054048e-16j]\n",
      " [-1.46904928e-03-5.02947578e-03j -1.78325005e-03-7.73006721e-03j\n",
      "   7.65750649e-03+2.40897989e-02j  6.71059710e-04+1.54903926e-03j\n",
      "   5.38958823e-04+2.20910327e-03j  4.02774690e-03+1.13017607e-02j\n",
      "  -5.34919378e-04-8.89820324e-04j -6.27728727e-03-3.04217605e-02j\n",
      "   3.76463858e-02+1.16762409e-01j -3.81649732e-02-1.13530908e-01j\n",
      "  -4.35300245e-03-9.28915483e-03j -1.32397396e-03-8.22184720e-03j\n",
      "   2.61537747e-16-1.03918288e-16j  1.74777784e-16+2.38410502e-16j\n",
      "  -8.18542330e-02-2.71212482e-01j  1.06338558e-01+3.08395284e-01j\n",
      "   9.57575678e-02+2.62734179e-01j  9.20037431e-02+2.96321696e-01j\n",
      "  -7.80370941e-03-3.34484119e-02j  9.50927973e-02+1.85232076e-01j\n",
      "  -3.40002098e-16+1.84880079e-16j -8.11188784e-17+1.08060665e-16j\n",
      "   3.01857637e-16-1.49371841e-16j  3.68583446e-16+8.93569584e-16j\n",
      "   1.61089474e-03-2.27606449e-02j  2.48248014e-01+7.92117753e-01j\n",
      "   1.91132615e-01+5.83834308e-01j  1.97856483e-01+5.99573662e-01j\n",
      "   8.00013211e-02+2.36355910e-01j -9.65262148e-02-2.95241901e-01j]\n",
      " [-5.44292334e-04-2.19880625e-03j -5.81693102e-03-2.45243748e-02j\n",
      "  -2.58901252e-03-8.58277816e-03j -5.01767865e-03-1.48201585e-02j\n",
      "   1.41928017e-03+4.70284995e-03j  2.88181546e-03+8.61137185e-03j\n",
      "   4.93328661e-04+3.17294466e-03j -8.61520830e-03-4.21319325e-02j\n",
      "   1.72956949e-03+7.95398258e-04j  3.76265013e-04-3.66475500e-03j\n",
      "  -3.97766136e-02-1.29128544e-01j -4.63908962e-02-1.32323949e-01j\n",
      "  -1.31431318e-16-3.71441764e-16j -3.35149646e-17+3.65783092e-16j\n",
      "  -1.06322304e-02-2.16553712e-02j -7.63900863e-02-2.29644367e-01j\n",
      "   8.42663592e-03+3.35087293e-02j -9.07511095e-02-2.80475471e-01j\n",
      "  -1.99218891e-04-1.42406470e-02j  2.08626357e-01+4.04351817e-01j\n",
      "  -7.62559295e-16-8.17469305e-16j -9.64287294e-17-5.95371810e-16j\n",
      "   9.04884706e-17+2.54695606e-16j  3.07765549e-16+4.19931327e-16j\n",
      "   4.82006488e-03+3.12730354e-02j -1.35490780e-01-4.32763061e-01j\n",
      "   8.65087847e-02+2.35165747e-01j  9.36594097e-02+3.10915793e-01j\n",
      "   2.83386753e-01+9.06872010e-01j -3.15100320e-01-9.07448577e-01j]\n",
      " [-1.28298646e-04-9.69653402e-03j -8.85002301e-02-3.72018728e-01j\n",
      "   9.24220635e-02+2.87152363e-01j  5.58454753e-02+1.65524595e-01j\n",
      "  -6.60066945e-05+7.69887518e-03j -2.05455085e-04-6.04061139e-03j\n",
      "   2.49840022e-04+1.84636246e-02j -1.17747315e-01-5.74038077e-01j\n",
      "   2.13066249e-01+6.61990699e-01j -2.21398829e-01-6.57421416e-01j\n",
      "  -1.78291704e-04+2.74254261e-02j -8.94025304e-04-2.62852787e-02j\n",
      "  -5.14931142e-17-3.02060764e-16j -2.08150627e-16-1.54846329e-16j\n",
      "   1.87528668e-06+6.75724324e-03j -8.89478779e-02-2.66733641e-01j\n",
      "   3.25145817e-04+9.55951488e-03j -7.19584130e-02-2.23573536e-01j\n",
      "   2.81454514e-04+1.83185285e-02j -1.82846709e-01-3.54528166e-01j\n",
      "   4.28830687e-16+2.25447824e-16j  1.39569154e-16+2.18576420e-16j\n",
      "   1.87077029e-16+7.99322558e-16j -9.03574132e-17-2.17087219e-16j\n",
      "  -6.62019650e-03-1.98440239e-02j  5.25658861e-08+5.78768509e-04j\n",
      "  -2.72066141e-01-8.45302864e-01j -2.83319872e-01-8.43729097e-01j\n",
      "  -1.25437344e-04+3.22481823e-02j  1.09727916e-03+3.22567124e-02j]\n",
      " [-3.02905991e-05-2.28094108e-03j -3.10943609e-02-1.30707973e-01j\n",
      "   2.66744337e-01+8.28766031e-01j  3.35689582e-01+9.94975484e-01j\n",
      "  -3.34612303e-04+3.89801017e-02j -1.36864625e-03-4.02397454e-02j\n",
      "  -2.31113862e-04-1.70698091e-02j  1.19687542e-01+5.83497035e-01j\n",
      "  -4.28215993e-01-1.33045476e+00j  3.95989457e-01+1.17585059e+00j\n",
      "   3.00493396e-04-4.61951569e-02j  1.50077688e-03+4.41244102e-02j\n",
      "  -6.67229016e-17+7.53719132e-16j  1.69872056e-16+1.64158951e-16j\n",
      "   3.82920291e-07+7.26737222e-04j  1.34108111e-02+4.02158358e-02j\n",
      "  -3.07374286e-05-9.03702381e-04j  8.39279311e-03+2.60762621e-02j\n",
      "  -1.31168542e-04-8.53145906e-03j  1.01203123e-01+1.96226442e-01j\n",
      "  -5.75610103e-16-1.70262494e-15j -3.29466548e-16-9.66314152e-16j\n",
      "  -4.15505260e-16-9.88706337e-16j -3.71326676e-16-1.30517576e-15j\n",
      "  -1.92685372e-03-5.77574093e-03j  4.50239381e-08+3.32810158e-04j\n",
      "  -1.05679530e-01-3.28343722e-01j -1.07374317e-01-3.19761671e-01j\n",
      "  -4.75577914e-05+1.22265293e-02j  4.09611807e-04+1.20413572e-02j]\n",
      " [-1.61974076e-19+2.37192249e-18j -3.60972763e-18-1.57893050e-17j\n",
      "  -2.57450094e-18-8.18909783e-18j  8.51310561e-18+1.07782439e-17j\n",
      "  -2.07823360e-17-2.35440606e-17j -1.48735026e-18-5.43108098e-18j\n",
      "   1.46944947e-18-4.03059427e-18j -8.88715480e-18+1.22819940e-17j\n",
      "   5.39946841e-17+1.70703619e-16j -3.16688573e-16-2.28334852e-16j\n",
      "  -4.51885400e-16+1.34337307e-16j  5.69788781e-17+1.55877842e-16j\n",
      "   3.11872531e-04+1.61079176e-02j -9.54237827e-02-4.73608856e-01j\n",
      "   1.76190147e-16+3.04679539e-17j  2.99472843e-16+5.45031593e-16j\n",
      "   6.37028662e-18+1.15709311e-17j  1.98104773e-16+6.15065756e-16j\n",
      "   2.86406884e-16+7.63991615e-16j  1.56044232e-16-1.02205006e-15j\n",
      "  -2.08123040e-01-6.43902172e-01j -1.99640070e-01-6.32453471e-01j\n",
      "  -1.32803858e-03-2.49528003e-02j -3.27929576e-04+2.45127555e-02j\n",
      "   1.17916666e-16+2.26079831e-17j -3.69013904e-17-5.81388230e-16j\n",
      "   1.45758458e-16+4.57104120e-16j  1.76394555e-16+4.09679752e-16j\n",
      "   2.14495085e-17-1.41619121e-16j  4.41933463e-17+1.11575588e-16j]\n",
      " [ 1.33141343e-05+1.01017380e-03j  4.39941701e-03+1.84933420e-02j\n",
      "   3.17816320e-03+9.87445031e-03j  1.14698466e-03+3.39962827e-03j\n",
      "   4.77782098e-06-5.62044600e-04j  1.93230102e-05+5.68118106e-04j\n",
      "  -2.59697827e-05-1.92086089e-03j  1.04510578e-02+5.09506711e-02j\n",
      "   4.07085730e-02+1.26480364e-01j -5.04858787e-02-1.49912696e-01j\n",
      "  -3.08735615e-05+4.73432023e-03j -1.75000433e-04-5.14519616e-03j\n",
      "  -1.03843256e-17+1.34178968e-16j  2.56901974e-17+3.05778593e-16j\n",
      "   1.27637928e-06+4.97981969e-03j -7.89429338e-02-2.36731173e-01j\n",
      "   2.36464469e-04+6.95222155e-03j -6.52963171e-02-2.02874520e-01j\n",
      "   2.81213005e-04+1.82900993e-02j -2.18508983e-01-4.23675071e-01j\n",
      "   7.22194534e-16+5.41405016e-16j -2.60181446e-17+3.11929115e-16j\n",
      "   5.04503196e-16+1.37290088e-15j  6.35674255e-16+1.94949716e-15j\n",
      "   7.47228328e-03+2.23981552e-02j -1.29792643e-07-1.04288361e-03j\n",
      "   3.41523507e-01+1.06110521e+00j  3.53773384e-01+1.05354029e+00j\n",
      "   1.58046653e-04-4.06381686e-02j -1.37606702e-03-4.04522380e-02j]\n",
      " [ 2.16041171e-03+6.59427817e-03j -1.66794818e-05+2.37928438e-04j\n",
      "  -8.56869652e-06-1.08186854e-03j  3.74448251e-06+1.72762566e-04j\n",
      "  -5.12077824e-03-1.68551065e-02j -4.12210276e-03-1.17476249e-02j\n",
      "   2.28371290e-03+6.96311997e-03j  2.00206474e-05-1.97070283e-04j\n",
      "  -3.43083808e-05-4.33189886e-03j -8.90088531e-05-4.17866448e-03j\n",
      "  -3.67257175e-02-1.19985851e-01j -4.43847084e-02-1.26492418e-01j\n",
      "  -2.37853929e-16-3.67919266e-16j  2.67550058e-16-4.14130515e-18j\n",
      "   1.48141047e-01+4.72452714e-01j  3.03708516e-04+1.65642624e-02j\n",
      "  -1.58454672e-01-4.51580952e-01j -1.35127792e-04-1.70640617e-02j\n",
      "   1.96283397e-02+5.94742088e-02j -3.05401009e-04-1.75169589e-03j\n",
      "  -2.87969200e-16-1.87151186e-16j -4.99157249e-16-3.30279030e-16j\n",
      "   4.19207017e-16+1.99806552e-16j -4.73905566e-18+7.11410722e-17j\n",
      "  -6.37941038e-04-3.42886049e-02j  2.82115345e-01+9.00356410e-01j\n",
      "  -1.32155963e-04-1.66873665e-02j  3.49125829e-04+1.70829027e-02j\n",
      "   1.27727995e-01+4.13428294e-01j -1.48864607e-01-4.24244336e-01j]\n",
      " [-1.56513621e-02-6.00734936e-02j -6.84387437e-02-2.90015002e-01j\n",
      "  -4.62857788e-02-1.53041910e-01j -3.68588854e-02-1.03570556e-01j\n",
      "  -4.87062466e-02-1.63218775e-01j -4.77417235e-02-1.33331968e-01j\n",
      "   1.05998438e-02+5.20142074e-02j -1.06095664e-01-5.19019089e-01j\n",
      "  -1.06706977e-01-3.52821366e-01j  1.25370410e-01+3.50964671e-01j\n",
      "  -1.83748434e-01-6.12568244e-01j -2.07739041e-01-5.80168629e-01j\n",
      "  -7.88275071e-17+2.16348243e-16j -2.36756355e-16-1.39279168e-16j\n",
      "  -6.05916388e-02-1.99184547e-01j  2.18770274e-02+5.86712502e-02j\n",
      "   7.55454778e-02+2.10981433e-01j  3.60337697e-02+1.19143069e-01j\n",
      "  -1.42348198e-02-2.84289100e-02j -2.19224565e-01-4.23971809e-01j\n",
      "   5.36749370e-16-1.04428336e-16j  2.38198403e-17+1.19287766e-16j\n",
      "  -7.45986397e-17+1.39931253e-16j -2.05041193e-17-4.63393504e-17j\n",
      "   2.12651707e-03+5.82771610e-03j -4.77811112e-03-1.56726121e-02j\n",
      "   1.36253539e-01+4.50514338e-01j  1.41084739e-01+3.93933923e-01j\n",
      "  -2.27406693e-01-7.52394570e-01j  2.54986023e-01+7.12111478e-01j]\n",
      " [-9.68456318e-03-3.36119525e-02j -1.86172944e-02-7.97064803e-02j\n",
      "  -1.33588474e-01-4.41704528e-01j -1.73330508e-01-4.82569107e-01j\n",
      "  -2.67406852e-01-8.99489900e-01j -3.18021718e-01-8.88163855e-01j\n",
      "  -1.70918931e-02-7.17259977e-02j  1.00705959e-01+4.93866101e-01j\n",
      "   2.14456324e-01+7.09089639e-01j -2.05384035e-01-5.72910636e-01j\n",
      "   3.18652178e-01+1.06369681e+00j  3.48725588e-01+9.73912686e-01j\n",
      "   4.17190114e-16+1.66324688e-16j  2.25828069e-16-3.52569999e-17j\n",
      "   2.89502679e-03+1.05649703e-02j  8.11707466e-03+2.46724089e-02j\n",
      "  -7.14029788e-03-1.99413360e-02j -4.20100343e-03-1.38906248e-02j\n",
      "   1.86314370e-03-2.10910950e-03j  1.06200868e-01+2.05766911e-01j\n",
      "   2.60063709e-16+1.58790985e-15j  4.22697997e-16+9.73430185e-16j\n",
      "   1.76267464e-16+3.06965150e-16j  7.95189017e-17+6.01921141e-16j\n",
      "   1.69425812e-03+4.85226742e-03j -1.97799942e-03-6.39488719e-03j\n",
      "   5.29255657e-02+1.74995304e-01j  5.35017924e-02+1.49390614e-01j\n",
      "  -8.62018979e-02-2.85203860e-01j  9.51864027e-02+2.65831573e-01j]\n",
      " [-6.11436202e-20+3.65447727e-18j -2.74413744e-18-1.03064501e-17j\n",
      "  -4.45415259e-18-1.33914880e-17j  6.31347439e-18+8.97717357e-18j\n",
      "  -6.65971945e-18-7.32715691e-18j  4.64416033e-19+5.62262949e-18j\n",
      "  -3.83421394e-19+4.74413506e-19j  2.39081801e-17+8.31376938e-18j\n",
      "  -6.88043740e-17-2.15445428e-16j -4.33648408e-18+2.04016699e-16j\n",
      "  -1.75858344e-16-1.82628613e-16j -4.80579544e-17-1.37920515e-16j\n",
      "   5.63168964e-03+3.30021624e-02j -8.96431925e-02-4.45834499e-01j\n",
      "  -3.75497103e-16+6.77055573e-17j -2.98802213e-16+1.27041515e-17j\n",
      "  -6.30712736e-17-1.95626439e-16j  2.49759499e-17+2.96097573e-17j\n",
      "  -1.26941514e-16-4.76466610e-16j  7.14004671e-16+1.67160513e-15j\n",
      "   1.04256461e-01+3.43186653e-01j  1.05747002e-01+3.13931842e-01j\n",
      "   2.05146770e-01+5.60593537e-01j  1.67827187e-01+5.49409867e-01j\n",
      "   3.03653031e-17-5.77154610e-17j  8.96261602e-17+1.13090070e-16j\n",
      "  -2.39462301e-16-7.35276286e-16j -2.30102905e-16-7.65173678e-16j\n",
      "  -4.87044891e-17-2.50740878e-16j  7.38757911e-17+2.32472745e-16j]\n",
      " [ 1.45408344e-03+3.89287493e-03j -1.80859047e-03-7.36855155e-03j\n",
      "   7.65266409e-03+2.34784062e-02j  6.91687570e-04+2.49011481e-03j\n",
      "  -5.46178551e-04-1.36264793e-03j -4.04107650e-03-1.16936657e-02j\n",
      "   5.55875245e-04+2.43605156e-03j -6.25269084e-03-3.06640075e-02j\n",
      "   3.76496958e-02+1.17180349e-01j -3.81557450e-02-1.13095743e-01j\n",
      "   4.29021757e-03+1.89489303e-02j  9.88874100e-04-1.63043872e-03j\n",
      "   3.17803536e-17-1.27847514e-16j  1.12304703e-16+2.13770441e-16j\n",
      "   8.18481556e-02+2.50868630e-01j  1.06745876e-01+3.30594554e-01j\n",
      "  -9.65233383e-02-2.85248368e-01j  9.18337774e-02+2.74858279e-01j\n",
      "   7.48785227e-03+1.28852943e-02j  9.46432092e-02+1.82653992e-01j\n",
      "   3.64432396e-17+1.08350138e-15j  1.54211894e-16+3.84411757e-16j\n",
      "  -1.47167971e-16-1.69649989e-16j -6.97850178e-17+3.37237237e-16j\n",
      "   2.69826686e-03+3.56773464e-02j -2.48248035e-01-7.92423509e-01j\n",
      "   1.91295165e-01+6.04359478e-01j  1.97405741e-01+5.77520753e-01j\n",
      "  -7.98277320e-02-2.80976671e-01j  9.50077816e-02+2.50604522e-01j]\n",
      " [-5.29455471e-04-1.07862072e-03j  5.82476943e-03+2.44125685e-02j\n",
      "   2.58026231e-03+7.47799165e-03j  5.02014915e-03+1.49317011e-02j\n",
      "   1.41972188e-03+4.64175948e-03j  2.85180141e-03+7.72892441e-03j\n",
      "   4.46287416e-04-3.08021840e-04j  8.63304925e-03+4.19562311e-02j\n",
      "  -1.80391913e-03-1.01830491e-02j -5.93835348e-04-6.54535627e-03j\n",
      "  -3.97662195e-02-1.30744251e-01j -4.63823031e-02-1.32071305e-01j\n",
      "   9.87399079e-17+1.78015173e-16j  4.57029441e-17+1.71093129e-16j\n",
      "  -1.06403808e-02-4.61874155e-02j  7.63681183e-02+2.28441448e-01j\n",
      "   7.71150784e-03+1.24834667e-02j  9.07752485e-02+2.83523763e-01j\n",
      "   2.41044375e-04+1.43673828e-02j -2.08711488e-01-4.04839854e-01j\n",
      "   6.30285215e-16+5.57201384e-16j -1.33227620e-16-1.06692410e-18j\n",
      "   8.66072166e-17+2.44890928e-16j  1.51310529e-16+8.49595827e-16j\n",
      "  -4.15722842e-03+4.36361979e-03j -1.35490723e-01-4.32060251e-01j\n",
      "  -8.70546444e-02-3.04091595e-01j -9.22673041e-02-2.42775609e-01j\n",
      "   2.83306882e-01+9.27394422e-01j -3.14388035e-01-8.86509539e-01j]]\n",
      "\n",
      "MO coefficients of the real solution\n",
      "------------------------------------\n",
      "[[-3.55652588e-01 -6.18099450e-02  2.67379625e-01 -1.62896091e-01\n",
      "   8.47242197e-02  7.74982892e-02  5.68108518e-01 -5.46868331e-02\n",
      "   6.16387279e-01 -6.11935080e-01  3.56629316e-01  3.37216815e-01\n",
      "  -1.80435754e-16 -5.14473332e-17  1.72513927e-01 -1.99677172e-01\n",
      "  -1.22627806e-01 -2.08111973e-01  4.23612178e-01  2.66257384e-02\n",
      "  -1.64547743e-15 -1.27042729e-15  4.43885109e-16 -4.33848618e-16\n",
      "   1.56949561e-02  1.23451480e-02 -7.87007393e-01 -7.52492929e-01\n",
      "   4.76487859e-01 -4.13810342e-01]\n",
      " [-1.17738404e-01 -3.42199999e-02  7.71703938e-01 -8.98140227e-01\n",
      "   5.56066600e-01  5.16231599e-01 -5.66579038e-01  7.44398745e-02\n",
      "  -1.23880600e+00  1.06277295e+00 -6.56173872e-01 -5.66070199e-01\n",
      "   7.17964403e-17 -5.05944938e-17 -3.71981700e-02  1.07220821e-02\n",
      "   1.15873495e-02  2.42715060e-02 -2.24153411e-01  3.11533596e-03\n",
      "   2.84328089e-16 -1.36289704e-17 -2.90901512e-16  1.59664509e-16\n",
      "   6.39303994e-03  2.53950999e-03 -3.05701472e-01 -2.85240753e-01\n",
      "   1.80551098e-01 -1.54474938e-01]\n",
      " [ 9.39731454e-17  6.08009271e-17  1.64100994e-17 -1.03505568e-16\n",
      "  -1.96877377e-16 -7.11491535e-17  1.41582505e-16  1.30901325e-16\n",
      "   2.03110942e-16 -1.68730461e-16 -3.73317270e-16 -3.39981600e-16\n",
      "   4.74073028e-01  3.52391756e-02 -7.18410422e-16 -9.05200532e-16\n",
      "   6.40325686e-16 -2.55521388e-16  4.90254751e-16  2.86924123e-15\n",
      "   5.99760643e-01  5.71359191e-01  3.48893984e-01 -3.14319194e-01\n",
      "  -4.29036834e-16  8.39242720e-17 -7.51161744e-16 -6.58780830e-16\n",
      "   9.09255470e-16 -1.01082712e-15]\n",
      " [-1.54897692e-02  4.68444541e-03  7.41608582e-03 -1.30745193e-02\n",
      "  -1.16032662e-02 -5.90746006e-03  2.13998687e-02 -4.63211985e-03\n",
      "  -1.07807164e-02  1.12959103e-03 -1.33907392e-01 -1.35868093e-01\n",
      "  -1.85610088e-16 -3.59304379e-16  2.69594570e-01  3.20137668e-01\n",
      "  -3.22656559e-01  2.83897668e-01 -2.82701757e-01 -2.76665964e-02\n",
      "  -1.13486749e-16 -3.36507173e-16 -1.73934725e-16  3.69893801e-16\n",
      "  -8.06503704e-01  3.80990106e-02 -3.08661708e-01 -2.79053241e-01\n",
      "   6.26820552e-01 -6.04416085e-01]\n",
      " [-1.53806662e-02  5.20439602e-04 -1.48989646e-02  2.17889150e-03\n",
      "  -6.40169548e-04  1.18288473e-02  4.79603184e-02  6.85591613e-04\n",
      "  -1.29760692e-01  1.40992723e-01 -2.78369651e-02  2.22909036e-03\n",
      "  -4.40807250e-16  1.70764367e-16 -3.39971999e-01  6.75502937e-03\n",
      "   2.89258880e-01  5.41470814e-02 -3.94654327e-01  2.54113589e-02\n",
      "  -3.49787829e-16 -6.57475078e-16 -7.74436596e-16  4.64927471e-16\n",
      "   4.91085514e-01 -8.79097623e-03 -9.62557427e-01 -9.28620776e-01\n",
      "   3.22383357e-01 -2.50273561e-01]\n",
      " [-2.67505513e-01 -1.56040976e-02 -1.23093923e-02 -7.12838241e-03\n",
      "  -2.12488866e-01 -1.66781062e-01  5.09403000e-01 -2.39116894e-02\n",
      "  -2.83776237e-02 -2.83068324e-02 -7.56944867e-01 -7.25735527e-01\n",
      "  -4.03431674e-16 -9.47897590e-16 -1.86520945e-01 -1.14734535e-02\n",
      "   2.63937764e-01  9.58393824e-03  5.05453356e-01 -1.62774751e-02\n",
      "  -6.33007706e-16 -1.23775901e-15  8.06740382e-16 -6.61846345e-16\n",
      "   8.53619367e-04 -1.59751192e-02  3.62356722e-02 -3.63180772e-02\n",
      "  -8.90057964e-01  8.90607205e-01]\n",
      " [-6.29163158e-02 -5.48246445e-03 -3.55268064e-02 -4.28490214e-02\n",
      "  -1.07588685e+00 -1.11101777e+00 -4.70936492e-01  2.43057017e-02\n",
      "   5.70327420e-02  5.06290293e-02  1.27500747e+00  1.21827324e+00\n",
      "   3.57642990e-16  1.80934409e-15 -2.00442714e-02  1.72987189e-03\n",
      "  -2.49511604e-02 -1.11781191e-03 -2.35396330e-01  9.00935535e-03\n",
      "   9.52301346e-16  2.13046599e-15 -1.02463235e-15  1.17863690e-15\n",
      "   2.48451665e-04 -9.18489448e-03  1.40751394e-02 -1.37640497e-02\n",
      "  -3.37455269e-01  3.32461648e-01]\n",
      " [-1.62078039e-17 -1.14784058e-17  1.70442374e-17  9.36916120e-17\n",
      "   2.27870892e-17 -5.50064128e-17  8.19490208e-17  1.81212873e-17\n",
      "  -1.00467669e-16 -2.33319616e-16 -3.43072620e-16 -1.42532964e-16\n",
      "   4.44458904e-01  1.97142782e-02  4.23845593e-16  4.00969451e-16\n",
      "  -4.34252308e-16  4.53525978e-16  1.59896869e-15  4.59161086e-16\n",
      "  -2.76132246e-02  2.70628422e-02 -6.89667647e-01  6.76465841e-01\n",
      "   7.26675955e-16 -2.11195551e-16 -1.29992308e-17 -2.99990758e-16\n",
      "  -2.70546399e-16 -4.49465629e-16]\n",
      " [ 2.78729732e-02  7.75692342e-04 -4.23289223e-04 -1.46406996e-04\n",
      "   1.55088164e-02  1.56857244e-02 -5.29976381e-02  2.12236269e-03\n",
      "  -5.42184663e-03 -6.45484691e-03 -1.30676224e-01 -1.42058649e-01\n",
      "  -1.68721336e-16 -1.78486935e-16 -1.37467820e-01 -1.01829085e-02\n",
      "   1.91950500e-01  8.69663192e-03  5.04651758e-01 -1.94522158e-02\n",
      "  -1.67709583e-15 -1.70612055e-15  3.31929153e-16 -3.33545795e-16\n",
      "  -9.63488601e-04  2.87824965e-02 -4.54864907e-02  4.53493398e-02\n",
      "   1.12162146e+00 -1.11688552e+00]\n",
      " [-2.83156178e-04 -6.58302836e-03 -2.98539916e-02  4.77221316e-03\n",
      "  -7.18824139e-04  5.08022541e-04 -2.99025530e-04  5.46755348e-03\n",
      "  -1.19538076e-01  1.15359766e-01 -5.12031064e-03  5.47012943e-03\n",
      "  -2.40252243e-16  2.86074116e-16  2.02042185e-02 -4.57259416e-01\n",
      "   1.95284969e-02 -4.70880473e-01 -2.55563217e-03  4.90791523e-02\n",
      "  -6.95962495e-16 -9.09970322e-16 -6.66637287e-16  9.04335237e-16\n",
      "  -9.46115937e-01  3.85009564e-02 -4.60485401e-01 -4.71579252e-01\n",
      "   1.76569718e-02  1.83463502e-02]\n",
      " [-3.51594185e-01  3.76316824e-02 -2.55070294e-01  1.72339665e-01\n",
      "   7.10432110e-02  8.92913342e-02  5.65405376e-01  1.15465495e-02\n",
      "  -5.88009386e-01  6.44117369e-01  3.05370992e-01  3.88531998e-01\n",
      "   5.84684726e-16  8.19195479e-16  1.55986916e-01  2.05355748e-01\n",
      "  -1.41288843e-01  1.98529038e-01  4.27380752e-01 -6.57087270e-02\n",
      "   1.74014914e-16  1.06398171e-15  3.23039740e-16 -1.74160279e-17\n",
      "  -1.62461046e-02  1.10410068e-02  7.50771773e-01  7.88809769e-01\n",
      "   4.13597638e-01 -4.76795469e-01]\n",
      " [-1.15214358e-01  2.76272760e-02 -7.36177156e-01  9.42575747e-01\n",
      "   4.80947359e-01  5.94788556e-01 -5.62175458e-01 -3.34576552e-02\n",
      "   1.18177300e+00 -1.11550645e+00 -5.67280474e-01 -6.52211527e-01\n",
      "  -3.37735791e-16 -1.64320693e-15 -3.64086495e-02 -8.62968377e-03\n",
      "   1.33511256e-02 -2.31542765e-02 -2.24671155e-01  1.58002241e-02\n",
      "  -8.42610977e-17 -1.37986113e-15  6.06011429e-16 -8.45457731e-16\n",
      "  -6.83110181e-03  1.99962690e-03  2.91626310e-01  2.99012709e-01\n",
      "   1.56711624e-01 -1.77987315e-01]\n",
      " [-1.30730826e-17  4.89159551e-18 -3.61661452e-19  4.86550256e-17\n",
      "  -2.74038243e-17  3.77352860e-17 -1.15966576e-17  6.36348516e-17\n",
      "  -1.32468276e-16  1.26853164e-16  1.61609707e-16  2.67443821e-16\n",
      "   4.72709394e-01  1.82702053e-03  1.31967456e-16 -5.76579422e-16\n",
      "  -1.34889667e-17  5.18587879e-16 -2.29868459e-15 -2.87211969e-15\n",
      "  -5.72147281e-01 -6.00041734e-01  3.01093983e-01 -3.62156136e-01\n",
      "  -1.24254846e-16 -5.50043834e-17  3.07327630e-16  4.79906037e-16\n",
      "  -2.45768466e-16  7.93398358e-16]\n",
      " [-1.58728920e-02 -5.31774827e-03 -9.45519734e-03  1.29005721e-02\n",
      "  -1.17555913e-02 -4.91302880e-03  2.12570420e-02  2.08757857e-03\n",
      "   7.52268106e-04 -1.08875367e-02 -1.32702352e-01 -1.36153136e-01\n",
      "  -3.17015537e-16 -2.71428533e-16  2.91921121e-01 -2.92651751e-01\n",
      "  -2.98959198e-01 -3.08382470e-01 -2.84692735e-01  4.45573760e-02\n",
      "  -1.98448335e-17  1.71425499e-17 -2.39199649e-16 -3.13502142e-16\n",
      "   8.05948073e-01 -2.96589913e-02  2.57727301e-01  3.29720933e-01\n",
      "   6.04725966e-01 -6.28021091e-01]\n",
      " [ 1.55213979e-02  2.57306946e-03 -1.55874435e-02  8.97614490e-04\n",
      "   1.03869163e-03 -1.25354786e-02 -4.80833502e-02  4.18830473e-03\n",
      "  -1.29290078e-01  1.40868690e-01  1.67470796e-02  9.20460943e-03\n",
      "  -1.54427190e-16 -2.20868299e-17  3.37070733e-01  2.64594169e-02\n",
      "  -2.91247799e-01  2.99700901e-02  3.94648881e-01 -1.17410931e-02\n",
      "  -7.70524800e-16 -2.02797247e-16  1.01183603e-15 -9.56359015e-16\n",
      "   4.92243061e-01 -2.81905218e-02 -9.39441035e-01 -9.52454265e-01\n",
      "  -2.44044280e-01  3.27852867e-01]\n",
      " [-3.52874059e-02 -2.94179885e-01  1.40141044e-01  1.22534780e-01\n",
      "   1.64428292e-01 -1.47880884e-01  9.98542179e-03 -5.27162274e-01\n",
      "   3.23081892e-01  4.19898889e-01  6.14460244e-01 -6.43475333e-01\n",
      "   8.31331416e-16  5.13426706e-16  1.95770054e-01  7.78339710e-02\n",
      "   2.34003083e-01 -1.09103049e-01 -6.35347679e-02 -4.80691995e-01\n",
      "   2.34583854e-15  6.55302480e-16 -1.10877048e-15  1.35142027e-16\n",
      "  -7.40396176e-03  1.54998954e-02 -4.12544244e-01  4.76372506e-01\n",
      "   7.52308978e-01  7.89808660e-01]\n",
      " [-2.61685343e-02 -7.95057046e-02  4.04470344e-01  5.81944844e-01\n",
      "   8.99129070e-01 -9.85077956e-01 -3.09147297e-02  4.99873484e-01\n",
      "  -6.49319412e-01 -6.90492468e-01 -1.06407289e+00  1.08018337e+00\n",
      "  -5.65022266e-16 -1.64989197e-15 -8.17042017e-03  2.52391704e-02\n",
      "  -2.21170326e-02  1.27194570e-02  1.55018150e-02  2.31994378e-01\n",
      "  -4.32463025e-16 -3.30848432e-16 -8.37517430e-17 -5.82566023e-16\n",
      "  -5.63658091e-03  6.52151743e-03 -1.60246358e-01  1.80643681e-01\n",
      "   2.85176705e-01  2.94835912e-01]\n",
      " [-1.66670586e-18  3.91410218e-17  4.81806387e-17  2.89786941e-17\n",
      "   8.76310434e-17  5.13729963e-18 -4.31671111e-18 -5.62547084e-17\n",
      "  -2.08719494e-17 -3.22192618e-16 -2.94079510e-16 -6.46461004e-17\n",
      "  -2.61446699e-03  4.53418080e-01  4.37754932e-16 -1.28666133e-16\n",
      "  -9.93517453e-17  5.55114040e-16  1.20591774e-17  2.31078235e-15\n",
      "   3.14378553e-01 -3.75295848e-01  5.72337196e-01  5.99857692e-01\n",
      "   3.06662951e-16 -1.13342879e-16 -7.99742606e-16  9.45090923e-16\n",
      "   8.56243737e-16  8.35658542e-16]\n",
      " [ 5.33366356e-03 -7.96272999e-03 -2.53255607e-02 -1.60098496e-03\n",
      "   2.34281982e-03 -1.19620303e-02  8.79305714e-04 -3.10361906e-02\n",
      "  -1.22623780e-01 -1.19790502e-01 -9.32248628e-03  9.04305356e-03\n",
      "   4.62932149e-16 -2.09598080e-16 -2.84982672e-01  3.24227050e-01\n",
      "  -2.77632859e-01 -3.12051106e-01  3.59700948e-02  2.08403609e-01\n",
      "  -6.80194024e-16 -2.13978071e-16 -6.64202362e-16 -7.30414140e-16\n",
      "   2.60972850e-02  8.29934628e-01 -6.12442551e-01  6.33156241e-01\n",
      "   2.45550891e-01  3.14335956e-01]\n",
      " [ 2.35471419e-03 -2.52100099e-02  9.05671418e-03  1.56342214e-02\n",
      "   4.91657731e-03 -9.15417148e-03 -3.46717745e-03 -4.30113778e-02\n",
      "  -4.79232952e-04 -4.23225160e-03 -1.34953158e-01  1.40217294e-01\n",
      "  -3.68202019e-16 -3.43157356e-16 -2.17276037e-02 -2.42077701e-01\n",
      "  -3.62124242e-02  2.94477257e-01  1.60401296e-02  4.54877721e-01\n",
      "  -2.27767743e-15  8.41973092e-16 -1.36485080e-15 -1.18334290e-15\n",
      "  -3.42473957e-02 -4.53458125e-01 -2.44387381e-01  3.30371630e-01\n",
      "   9.48178642e-01  9.62226247e-01]\n",
      " [ 1.09176574e-02 -3.82333315e-01 -3.01606221e-01 -1.74660585e-01\n",
      "   8.67226093e-03  6.80680100e-03 -2.07901748e-02 -5.85886778e-01\n",
      "  -6.95311973e-01 -6.93577965e-01  3.08930145e-02  2.96192939e-02\n",
      "  -1.70036954e-16 -2.80447350e-16  7.61243158e-03 -2.81124095e-01\n",
      "  -1.07720374e-02  2.34826815e-01 -2.06289739e-02 -3.98832336e-01\n",
      "   2.38321983e-15 -4.96275399e-16  3.59117258e-16  3.53016744e-16\n",
      "   2.09154955e-02  6.51988677e-04  8.87850827e-01 -8.89870499e-01\n",
      "   3.63257282e-02 -3.63481676e-02]\n",
      " [ 2.56779417e-03 -1.34331967e-01 -8.70482112e-01 -1.04989239e+00\n",
      "   4.39099281e-02  4.53437384e-02  1.92202495e-02  5.95540939e-01\n",
      "   1.39742315e+00  1.24051950e+00 -5.20365806e-02 -4.97211338e-02\n",
      "   3.52815474e-16  6.90807043e-16  8.18064080e-04  4.23855147e-02\n",
      "   1.01832655e-03 -2.73887627e-02  9.60718759e-03  2.20748162e-01\n",
      "  -2.72376095e-15  1.62381712e-15  9.13780473e-16  8.79325126e-16\n",
      "   6.08759878e-03  3.74861036e-04  3.44870771e-01 -3.37248630e-01\n",
      "   1.37724832e-02 -1.35686885e-02]\n",
      " [ 8.67246356e-18 -2.57763004e-17  1.13420520e-17 -1.14595019e-17\n",
      "  -2.17822432e-17  1.21796383e-17 -4.58661785e-21 -2.85112613e-17\n",
      "  -1.67997549e-16 -7.35151124e-16 -7.89704177e-16 -1.50216144e-16\n",
      "  -1.81396223e-02  4.83041340e-01 -4.54974323e-16  2.65901927e-16\n",
      "   2.95319527e-17 -6.03277116e-16 -5.22416645e-16 -3.85635287e-15\n",
      "  -6.76582574e-01  6.63097504e-01  2.81472447e-02 -2.76084604e-02\n",
      "  -1.97039962e-16 -4.08121241e-16 -4.76691157e-16  4.47789430e-16\n",
      "  -1.24539760e-16 -1.13964020e-16]\n",
      " [-1.13757440e-03  1.90060895e-02 -1.03714838e-02 -3.58727498e-03\n",
      "  -6.32958180e-04 -6.40178224e-04  2.16298302e-03  5.20023532e-02\n",
      "  -1.32846743e-01 -1.58157532e-01  5.33325720e-03  5.79781027e-03\n",
      "  -3.26332718e-16 -4.36446999e-16  5.61043758e-03 -2.49502966e-01\n",
      "  -7.83403605e-03  2.13085928e-01 -2.05962605e-02 -4.76620218e-01\n",
      "   3.00397131e-15 -2.83727297e-16 -1.37058312e-15 -7.69507905e-16\n",
      "  -2.36075332e-02 -1.17469345e-03 -1.11451550e+00  1.11115574e+00\n",
      "  -4.57764753e-02  4.55832178e-02]\n",
      " [-6.93793127e-03  2.68671589e-04  1.21842478e-03 -1.94767026e-04\n",
      "  -1.76127183e-02  1.24476298e-02 -7.32676331e-03 -2.23145934e-04\n",
      "   4.87868277e-03 -4.70815069e-03 -1.25458552e-01  1.34029774e-01\n",
      "   1.35894274e-16 -3.87774247e-16  4.95046574e-01  1.86620178e-02\n",
      "   4.78489595e-01  1.92179473e-02 -6.26184408e-02 -2.00305562e-03\n",
      "  -1.91481843e-16  8.54349357e-16 -1.08454301e-16  2.57931449e-16\n",
      "   3.86136592e-02  9.43354477e-01  1.87936954e-02  1.92464551e-02\n",
      "   4.32633564e-01  4.49524495e-01]\n",
      " [ 6.41521379e-02 -2.98238373e-01  1.61463685e-01  1.08852879e-01\n",
      "  -1.70785592e-01  1.41073733e-01 -5.62473180e-02 -5.29865442e-01\n",
      "   3.72236684e-01  3.68635916e-01 -6.41478303e-01  6.13855497e-01\n",
      "   5.63990178e-17 -4.08909330e-16 -2.09177086e-01  6.13034594e-02\n",
      "  -2.23231908e-01 -1.25699204e-01  2.88033439e-02 -4.76923570e-01\n",
      "   2.31841337e-15 -6.55470161e-16  8.92283868e-16  5.16823647e-16\n",
      "  -6.10035871e-03 -1.64543493e-02 -4.75305307e-01  4.13467678e-01\n",
      "  -7.88635830e-01 -7.53460549e-01]\n",
      " [ 3.56759915e-02 -8.20298630e-02  4.66011183e-01  5.06820118e-01\n",
      "  -9.41452486e-01  9.39734120e-01  7.69823801e-02  5.04277081e-01\n",
      "  -7.48110002e-01 -6.01590864e-01  1.11400544e+00 -1.03046189e+00\n",
      "  -2.96160058e-16  1.01657016e-15  1.11745217e-02  2.60289693e-02\n",
      "   2.10992238e-02  1.46550356e-02  2.81598142e-03  2.31476673e-01\n",
      "  -4.32952095e-16 -9.84323552e-16 -1.02104485e-15 -7.57660841e-16\n",
      "  -5.09686710e-03 -6.70677200e-03 -1.84624974e-01  1.56798680e-01\n",
      "  -2.98941330e-01 -2.81267199e-01]\n",
      " [ 4.16058352e-18 -2.05367204e-17  1.44235865e-17 -1.31436986e-17\n",
      "  -1.83893771e-18 -2.79262403e-18 -5.72496902e-18 -2.93737929e-18\n",
      "   2.33749353e-16  7.15796211e-17 -4.43317995e-16  1.38274431e-16\n",
      "  -3.60263925e-02  4.54781723e-01  7.08964628e-16  5.59540817e-16\n",
      "   2.00528773e-16 -6.74067627e-17  4.68932489e-16  1.31694042e-15\n",
      "   3.62207388e-01 -3.27487736e-01 -5.98865001e-01 -5.72248845e-01\n",
      "   1.04776831e-17  1.82545463e-16  7.69551689e-16 -8.01940611e-16\n",
      "  -2.65674463e-16 -2.53038918e-16]\n",
      " [-4.05366535e-03 -7.55451277e-03 -2.46369965e-02 -2.66110092e-03\n",
      "  -1.38947968e-03  1.24036447e-02 -2.62025505e-03 -3.13104402e-02\n",
      "  -1.23094473e-01 -1.19300051e-01  2.02035678e-02  2.05889256e-03\n",
      "   6.62197604e-17 -5.62379693e-16  2.62065670e-01  3.49236680e-01\n",
      "   3.03002734e-01 -2.87878499e-01 -1.28131298e-02  2.05455948e-01\n",
      "  -6.01816410e-16 -4.52689200e-16 -1.03795282e-16 -7.87273641e-16\n",
      "  -3.97114201e-02 -8.30279088e-01 -6.35558469e-01  6.08310481e-01\n",
      "  -2.95813711e-01 -2.64036752e-01]\n",
      " [ 1.09351329e-03  2.50837553e-02 -7.81247871e-03 -1.57597823e-02\n",
      "   4.84805772e-03 -8.15979528e-03  4.52635214e-04  4.28124605e-02\n",
      "   1.10518184e-02 -7.27129216e-03 -1.36772757e-01  1.39932603e-01\n",
      "   7.16414413e-16 -5.33686488e-16 -4.93595930e-02  2.40722129e-01\n",
      "  -1.25203252e-02 -2.97910313e-01 -1.61735632e-02 -4.55435643e-01\n",
      "   2.51288066e-15  8.30555443e-17 -2.70040669e-16  2.62892867e-16\n",
      "  -5.88501413e-03 -4.52666377e-01  3.22013251e-01 -2.53599754e-01\n",
      "   9.71296120e-01  9.38631293e-01]]\n"
     ]
    }
   ],
   "source": [
    "print('MO coefficients of the complex solution')\n",
    "print('---------------------------------------')\n",
    "print(c_ghf_h3.get_mo_coeff())\n",
    "print('')\n",
    "print('MO coefficients of the real solution')\n",
    "print('------------------------------------')\n",
    "print(h_3_g.get_mo_coeff())"
   ]
  },
  {
   "cell_type": "markdown",
   "metadata": {},
   "source": [
    "Indeed, our MO coefficients are different and have complex values for complex GHF. In conclusion, we can say that we can find a complex and a real solution for the exact same system, meaning the complex solution is just another way of writing the real solution, and is not fundamentally complex."
   ]
  },
  {
   "cell_type": "markdown",
   "metadata": {},
   "source": [
    "## Example 3: complex $H_{13}$ calculation"
   ]
  },
  {
   "cell_type": "markdown",
   "metadata": {},
   "source": [
    "We have shown that a complex calculation for $H_3$ finds the same solution as the real calculation. Let's see if this is also the case for a bigger system, like $H_{13}$."
   ]
  },
  {
   "cell_type": "code",
   "execution_count": 47,
   "metadata": {},
   "outputs": [
    {
     "name": "stdout",
     "output_type": "stream",
     "text": [
      "Number of iterations: 83\n",
      "Converged SCF energy in Hartree: -6.946518342199742 (Real GHF)\n",
      " <S^2> = 0.8834691530288739, <S_z> = 0.4999999999999969, Multiplicity = 2.129290166256233\n",
      "There is an internal instability in the real GHF wave function.\n",
      "There is an external real/complex instability in the real GHF wave function.\n"
     ]
    }
   ],
   "source": [
    "c_ghf_h13 = GHF.MF(h13, 13)\n",
    "c_ghf_h13.get_scf_solution()\n",
    "c_ghf_h13.stability_analysis('internal')\n",
    "c_ghf_h13.stability_analysis('external')"
   ]
  },
  {
   "cell_type": "markdown",
   "metadata": {},
   "source": [
    "We see the same instabilities as we saw with $H_3$. Now let's see what happens when we follow the real->complex instability instead of the internal one."
   ]
  },
  {
   "cell_type": "code",
   "execution_count": 48,
   "metadata": {},
   "outputs": [
    {
     "name": "stdout",
     "output_type": "stream",
     "text": [
      "Number of iterations: 117\n",
      "Converged SCF energy in Hartree: -6.959102869501557 (Complex GHF)\n",
      " <S^2> = 1.0706124261393326, <S_z> = 5.7525641983247056e-06, Multiplicity = 2.298358045335263\n",
      "The wave function is stable in the complex GHF space.\n"
     ]
    }
   ],
   "source": [
    "c_ghf_h13.get_scf_solution(complex_method=True)\n",
    "c_ghf_h13.stability_analysis('internal')"
   ]
  },
  {
   "cell_type": "markdown",
   "metadata": {},
   "source": [
    "We find a solution with the same energies and spin expectation values, as we did for $H_3$. Now let's verify, as we did for $H_3$, that it is indeed the same solution, and not a fundamentally complex solution."
   ]
  },
  {
   "cell_type": "code",
   "execution_count": 49,
   "metadata": {},
   "outputs": [
    {
     "name": "stdout",
     "output_type": "stream",
     "text": [
      "Are the MO energies the same?\n",
      "True\n",
      "\n",
      "Are the hessian eigenvalues the same?\n",
      "True\n"
     ]
    }
   ],
   "source": [
    "print('Are the MO energies the same?')\n",
    "print(np.allclose(h_13_g.get_mo_energy(), c_ghf_h13.get_mo_energy()))\n",
    "print('')\n",
    "print('Are the hessian eigenvalues the same?')\n",
    "h_13_c_val, h_13_c_vec = la.eigh(c_ghf_h13.get_hessian())\n",
    "print(np.allclose(val13, h_13_c_val))"
   ]
  },
  {
   "cell_type": "code",
   "execution_count": 50,
   "metadata": {},
   "outputs": [
    {
     "data": {
      "image/png": "[encoded data removed]",
      "text/plain": [
       "<Figure size 432x288 with 1 Axes>"
      ]
     },
     "metadata": {
      "needs_background": "light"
     },
     "output_type": "display_data"
    }
   ],
   "source": [
    "lowest13_c = h_13_c_val[:10]\n",
    "x = np.arange(1, 11)\n",
    "plt.plot(x, lowest13_c)\n",
    "plt.scatter(x, lowest13_c)\n",
    "plt.axis([1, 10, 0, 0.6])\n",
    "plt.xlabel('n-th eigenvalue')\n",
    "plt.ylabel('value (a.u.)')\n",
    "plt.title('complex H_13 eigenvalues, first 10')\n",
    "plt.xticks(x)\n",
    "plt.show()"
   ]
  },
  {
   "cell_type": "markdown",
   "metadata": {},
   "source": [
    "Next let's check the MO's and whether or not they have complex values."
   ]
  },
  {
   "cell_type": "code",
   "execution_count": 51,
   "metadata": {},
   "outputs": [
    {
     "name": "stdout",
     "output_type": "stream",
     "text": [
      "The MOs are complex valued.\n"
     ]
    }
   ],
   "source": [
    "imag_part = np.sum(c_ghf_h13.get_mo_coeff().imag)\n",
    "if abs(imag_part) > 1e-3:\n",
    "    print('The MOs are complex valued.')"
   ]
  },
  {
   "cell_type": "markdown",
   "metadata": {},
   "source": [
    "As with $H_3$, we find the exact same solution, with complex MO's. We can thus once again conclude that the soliution is not fundamentally complex."
   ]
  },
  {
   "cell_type": "markdown",
   "metadata": {},
   "source": [
    "## Example 4: Beryllium atom"
   ]
  },
  {
   "cell_type": "markdown",
   "metadata": {},
   "source": [
    "The Be atom in the 4-31g basis set is often reported in literature as a system with a known GHF solution, as well as still showing a real->complex instability. Let's see if we can find the real and complex GHF solutions of this system."
   ]
  },
  {
   "cell_type": "code",
   "execution_count": 52,
   "metadata": {},
   "outputs": [],
   "source": [
    "Be = gto.M(atom='Be 1 0 0', basis='4-31g')"
   ]
  },
  {
   "cell_type": "code",
   "execution_count": 53,
   "metadata": {},
   "outputs": [
    {
     "name": "stdout",
     "output_type": "stream",
     "text": [
      "Number of iterations: 10\n",
      "Converged SCF energy in Hartree: -14.55687105484466 (Real GHF)\n",
      " <S^2> = 3.3306690738754696e-16, <S_z> = -1.1102230246251565e-16, Multiplicity = 1.0000000000000007\n",
      "There is an internal instability in the real GHF wave function.\n",
      "Number of iterations: 1206\n",
      "Converged SCF energy in Hartree: -14.557798355722761 (Real GHF)\n",
      " <S^2> = 0.20766136552188708, <S_z> = -4.440892098500626e-16, Multiplicity = 1.3530134744663662\n",
      "The wave function is stable within the real GHF space.\n",
      "There is an external real/complex instability in the real GHF wave function.\n"
     ]
    }
   ],
   "source": [
    "ghf_be = GHF.MF(Be, 4)\n",
    "ghf_be.get_scf_solution()\n",
    "improved_mos = ghf_be.stability_analysis('internal')\n",
    "ghf_be.get_scf_solution(improved_mos)\n",
    "ghf_be.stability_analysis('internal')\n",
    "ghf_be.stability_analysis('external')"
   ]
  },
  {
   "cell_type": "markdown",
   "metadata": {},
   "source": [
    "What we see here, is what's reported in literature. A GHF solution is found (<$S_z$> = 0), but there is still an external real->complex instability. Let's follow this, and try to run the calculation using complex GHF."
   ]
  },
  {
   "cell_type": "code",
   "execution_count": 54,
   "metadata": {},
   "outputs": [
    {
     "name": "stdout",
     "output_type": "stream",
     "text": [
      "Number of iterations: 212\n",
      "Converged SCF energy in Hartree: -14.557742512430341 (Complex GHF)\n",
      " <S^2> = 0.1930624150311291, <S_z> = -4.440892098500626e-16, Multiplicity = 1.3312586751358717\n",
      "There is an internal instability in the complex GHF wave function.\n",
      "Number of iterations: 2797\n",
      "Converged SCF energy in Hartree: -14.557818595924125 (Complex GHF)\n",
      " <S^2> = 0.21301370352031346, <S_z> = 0.0, Multiplicity = 1.3609022059212241\n",
      "The wave function is stable in the complex GHF space.\n"
     ]
    }
   ],
   "source": [
    "ghf_be.get_scf_solution(complex_method=True)\n",
    "improved_mos_c = ghf_be.stability_analysis('internal')\n",
    "ghf_be.get_scf_solution(improved_mos, complex_method=True)\n",
    "ghf_be.stability_analysis('internal')"
   ]
  },
  {
   "cell_type": "code",
   "execution_count": 55,
   "metadata": {},
   "outputs": [
    {
     "name": "stdout",
     "output_type": "stream",
     "text": [
      "[-4.84347620e-07 -4.80842595e-07  9.59711943e-07  1.49313787e-03\n",
      "  1.49460560e-03  1.49461625e-03  1.49901137e-03  1.49901138e-03\n",
      "  3.23642376e-02  1.26521341e-01]\n"
     ]
    },
    {
     "data": {
      "image/png": "[encoded data removed]",
      "text/plain": [
       "<Figure size 432x288 with 1 Axes>"
      ]
     },
     "metadata": {
      "needs_background": "light"
     },
     "output_type": "display_data"
    }
   ],
   "source": [
    "be_val, be_vec = la.eigh(ghf_be.get_hessian())\n",
    "lowest_be = be_val[:10]\n",
    "print(lowest_be)\n",
    "x = np.arange(1, 11)\n",
    "plt.plot(x, lowest_be)\n",
    "plt.scatter(x, lowest_be)\n",
    "plt.axis([1, 10, 0, 0.2])\n",
    "plt.xlabel('n-th eigenvalue')\n",
    "plt.ylabel('value (a.u.)')\n",
    "plt.title('complex Be Hessian eigenvalues, first 10')\n",
    "plt.xticks(x)\n",
    "plt.show()"
   ]
  },
  {
   "cell_type": "markdown",
   "metadata": {},
   "source": [
    "What we see is that the complex method finds a GHF solution (3 Hessian eigenvalue of zero) Thats slightly lower in energy than the real GHF solution, and has slightly more spin contamination as well. We can thus say that the Be atom, in contrast to the hydrogen rings, has a true, fundamentally complex GHF solution."
   ]
  },
  {
   "cell_type": "markdown",
   "metadata": {},
   "source": [
    "## conclusion"
   ]
  },
  {
   "cell_type": "markdown",
   "metadata": {},
   "source": [
    "For the hydrogen rings, complex GHF is not necessary. The most stable solution can already be found using real generalised Hartree-Fock calculations. When looking for the lowest Hartree-Fock solution, you should always look for an internally stable solution first. This way, you will always avoid breaking symmetries when it's not necessary to do so. The Be atom however, has a true complex GHF solution."
   ]
  },
  {
   "cell_type": "markdown",
   "metadata": {},
   "source": [
    "# Finding the lowest HF solution"
   ]
  },
  {
   "cell_type": "markdown",
   "metadata": {},
   "source": [
    "Stability analysis is a powerful tool. By following the internal and external stability analysis, one can 'cascade' towards the lowest HF solution, breaking more and more symmetry along the way. The 'lowest_HF' algorithm does this for us. First internal stabilities are checked. When an internally stable solution is found, external stabilities are checked. If a lower lying solution can be found through symmetry breaking, this path is followed. If this isn't the case, but a lower lying energy can be found by going complex, then the algorithm will look for a complex solution. If there is no external instability, and the solution is internally stable, the most stable solution has been found. For open shell systems, the first method that will be checked is UHF, for closed shell systems RHF will be checked first. Let's take a look at a couple of examples."
   ]
  },
  {
   "cell_type": "markdown",
   "metadata": {},
   "source": [
    "## Example 1: $H_6$"
   ]
  },
  {
   "cell_type": "markdown",
   "metadata": {},
   "source": [
    "$H_6$ has no zero eigenvalues in the GHF Hessian, pointing towards it actually being a RHF solution. "
   ]
  },
  {
   "cell_type": "code",
   "execution_count": 56,
   "metadata": {},
   "outputs": [
    {
     "name": "stdout",
     "output_type": "stream",
     "text": [
      "====================================\n",
      "Checking real RHF internal stability\n",
      "====================================\n",
      "Number of iterations: 10\n",
      "Converged SCF energy in Hartree: -3.2496082173277276 (Real RHF)\n",
      "The wave function is stable within the real RHF space.\n",
      "====================================\n",
      "Checking real RHF external stability\n",
      "====================================\n",
      "The wave function is stable within the real/complex & RHF/UHF space.\n",
      "======================================\n",
      "Real RHF converges to lowest HF energy\n",
      "======================================\n"
     ]
    }
   ],
   "source": [
    "lowest.Find(h6, 6).run_algorithm()"
   ]
  },
  {
   "cell_type": "markdown",
   "metadata": {},
   "source": [
    "## Example 2: $H_4$"
   ]
  },
  {
   "cell_type": "markdown",
   "metadata": {},
   "source": [
    "$H_4$ shows two zero eigenvalues in the GHF Hessian, meaning it's an UHF solution."
   ]
  },
  {
   "cell_type": "code",
   "execution_count": 57,
   "metadata": {},
   "outputs": [
    {
     "name": "stdout",
     "output_type": "stream",
     "text": [
      "====================================\n",
      "Checking real RHF internal stability\n",
      "====================================\n",
      "Number of iterations: 103\n",
      "Converged SCF energy in Hartree: -1.9403598392830816 (Real RHF)\n",
      "The wave function is stable within the real RHF space.\n",
      "====================================\n",
      "Checking real RHF external stability\n",
      "====================================\n",
      "There is an external real/complex instability in the real RHF wave function.\n",
      "There is an external RHF/UHF instability in the real RHF wave function.\n",
      "====================================\n",
      "Checking real UHF internal stability\n",
      "====================================\n",
      "Number of iterations: 95\n",
      "Converged SCF energy in Hartree: -1.9403598392825958 (Real UHF)\n",
      "<S^2> = -6.217248937900877e-15, <S_z> = 0.0, Multiplicity = 0.9999999999999876\n",
      "There is an internal instability in the real UHF wave function.\n",
      "Number of iterations: 38\n",
      "Converged SCF energy in Hartree: -2.0210882477047014 (Real UHF)\n",
      "<S^2> = 1.0565277000970748, <S_z> = 0.0, Multiplicity = 2.2860688529412885\n",
      "The wave function is stable within the real UHF space.\n",
      "====================================\n",
      "Checking real UHF external stability\n",
      "====================================\n",
      "The wave function is stable within the real/complex & UHF/GHF space.\n",
      "======================================\n",
      "Real UHF converges to lowest HF energy\n",
      "======================================\n"
     ]
    }
   ],
   "source": [
    "lowest.Find(h4, 4).run_algorithm()"
   ]
  },
  {
   "cell_type": "markdown",
   "metadata": {},
   "source": [
    "## Example 3: $H_3$"
   ]
  },
  {
   "cell_type": "markdown",
   "metadata": {},
   "source": [
    "The $H_3$ GHF Hessian has 3 zero eigenvalues, pointing towards a GHF solution."
   ]
  },
  {
   "cell_type": "code",
   "execution_count": 58,
   "metadata": {},
   "outputs": [
    {
     "name": "stdout",
     "output_type": "stream",
     "text": [
      "====================================\n",
      "Checking real UHF internal stability\n",
      "====================================\n",
      "Number of iterations: 133\n",
      "Converged SCF energy in Hartree: -1.5062743202605442 (Real UHF)\n",
      "<S^2> = 0.7735672502962203, <S_z> = 0.5, Multiplicity = 2.0234300089661814\n",
      "The wave function is stable within the real UHF space.\n",
      "====================================\n",
      "Checking real UHF external stability\n",
      "====================================\n",
      "There is an external UHF/GHF instability in the real UHF wave function.\n",
      "====================================\n",
      "Checking real GHF internal stability\n",
      "====================================\n",
      "Number of iterations: 56\n",
      "Converged SCF energy in Hartree: -1.5062743202608853 (Real GHF)\n",
      " <S^2> = 0.7735672499981336, <S_z> = 0.5000000000000002, Multiplicity = 2.0234300086715464\n",
      "There is an internal instability in the real GHF wave function.\n",
      "Number of iterations: 995\n",
      "Converged SCF energy in Hartree: -1.5077312813097308 (Real GHF)\n",
      " <S^2> = 0.7790732147497723, <S_z> = 5.382224540673164e-05, Multiplicity = 2.0288649188645085\n",
      "The wave function is stable within the real GHF space.\n",
      "====================================\n",
      "Checking real GHF external stability\n",
      "====================================\n",
      "The wave function is stable within the real/complex space.\n",
      "======================================\n",
      "Real GHF converges to lowest HF energy\n",
      "======================================\n"
     ]
    }
   ],
   "source": [
    "lowest.Find(h3, 3).run_algorithm()"
   ]
  },
  {
   "cell_type": "markdown",
   "metadata": {},
   "source": [
    "## Example 4: Be-atom"
   ]
  },
  {
   "cell_type": "markdown",
   "metadata": {},
   "source": [
    "The Beryllium atom in the 4-31G basis set is often referred to in literature as a GHF example. The real GHF energy value is known, but it is also reported that the molecule still has an external real/complex instability. Let's check this. "
   ]
  },
  {
   "cell_type": "code",
   "execution_count": 59,
   "metadata": {},
   "outputs": [
    {
     "name": "stdout",
     "output_type": "stream",
     "text": [
      "====================================\n",
      "Checking real RHF internal stability\n",
      "====================================\n",
      "Number of iterations: 10\n",
      "Converged SCF energy in Hartree: -14.556871054844663 (Real RHF)\n",
      "The wave function is stable within the real RHF space.\n",
      "====================================\n",
      "Checking real RHF external stability\n",
      "====================================\n",
      "There is an external RHF/UHF instability in the real RHF wave function.\n",
      "====================================\n",
      "Checking real UHF internal stability\n",
      "====================================\n",
      "Number of iterations: 10\n",
      "Converged SCF energy in Hartree: -14.55687105484466 (Real UHF)\n",
      "<S^2> = -1.7763568394002505e-15, <S_z> = 0.0, Multiplicity = 0.9999999999999964\n",
      "There is an internal instability in the real UHF wave function.\n",
      "Number of iterations: 144\n",
      "Converged SCF energy in Hartree: -14.557742512430162 (Real UHF)\n",
      "<S^2> = 0.1930621810250548, <S_z> = 0.0, Multiplicity = 1.3312583235796946\n",
      "The wave function is stable within the real UHF space.\n",
      "====================================\n",
      "Checking real UHF external stability\n",
      "====================================\n",
      "There is an external UHF/GHF instability in the real UHF wave function.\n",
      "====================================\n",
      "Checking real GHF internal stability\n",
      "====================================\n",
      "Number of iterations: 10\n",
      "Converged SCF energy in Hartree: -14.55687105484466 (Real GHF)\n",
      " <S^2> = 3.3306690738754696e-16, <S_z> = -1.1102230246251565e-16, Multiplicity = 1.0000000000000007\n",
      "There is an internal instability in the real GHF wave function.\n",
      "Number of iterations: 1206\n",
      "Converged SCF energy in Hartree: -14.557798355722761 (Real GHF)\n",
      " <S^2> = 0.20766136552188708, <S_z> = -4.440892098500626e-16, Multiplicity = 1.3530134744663662\n",
      "The wave function is stable within the real GHF space.\n",
      "====================================\n",
      "Checking real GHF external stability\n",
      "====================================\n",
      "There is an external real/complex instability in the real GHF wave function.\n",
      "=======================================\n",
      "Checking complex GHF internal stability\n",
      "=======================================\n",
      "Number of iterations: 212\n",
      "Converged SCF energy in Hartree: -14.557742512430341 (Complex GHF)\n",
      " <S^2> = 0.1930624150311291, <S_z> = -4.440892098500626e-16, Multiplicity = 1.3312586751358717\n",
      "There is an internal instability in the complex GHF wave function.\n",
      "Number of iterations: 2690\n",
      "Converged SCF energy in Hartree: -14.5578185959235 (Complex GHF)\n",
      " <S^2> = 0.21301370334406655, <S_z> = -2.220446049250313e-16, Multiplicity = 1.3609022056622093\n",
      "The wave function is stable in the complex GHF space.\n",
      "=========================================\n",
      "Complex GHF converges to lowest HF energy\n",
      "=========================================\n"
     ]
    }
   ],
   "source": [
    "lowest.Find(Be, 4).run_algorithm()"
   ]
  },
  {
   "cell_type": "markdown",
   "metadata": {},
   "source": [
    "Indeed, we are able to find a complex GHF solution with an even lower energy than the real GHF solution."
   ]
  },
  {
   "cell_type": "markdown",
   "metadata": {},
   "source": [
    "# When does spin frustration disappear?"
   ]
  },
  {
   "cell_type": "markdown",
   "metadata": {},
   "source": [
    "In order to check when spin frustration disappears, we're going to run an UHF calculation on $H_3$, where the atom at the top of the triangle slowly moves further and further away. The initial value for x is chosen to create an equilateral triangle, where each side is 1 angstrom."
   ]
  },
  {
   "cell_type": "code",
   "execution_count": 60,
   "metadata": {},
   "outputs": [
    {
     "name": "stdout",
     "output_type": "stream",
     "text": [
      "Number of iterations: 133\n",
      "Converged SCF energy in Hartree: -1.5062743202605442 (Real UHF)\n",
      "<S^2> = 0.7735672502962203, <S_z> = 0.5, Multiplicity = 2.0234300089661814\n",
      "There is an external UHF/GHF instability in the real UHF wave function.\n",
      "There is an external UHF/GHF instability in the real UHF wave function.\n",
      "There is an external UHF/GHF instability in the real UHF wave function.\n",
      "There is an external UHF/GHF instability in the real UHF wave function.\n",
      "There is an external UHF/GHF instability in the real UHF wave function.\n",
      "There is an external UHF/GHF instability in the real UHF wave function.\n",
      "There is an external UHF/GHF instability in the real UHF wave function.\n",
      "There is an external UHF/GHF instability in the real UHF wave function.\n",
      "There is an external UHF/GHF instability in the real UHF wave function.\n",
      "There is an external UHF/GHF instability in the real UHF wave function.\n",
      "There is an external UHF/GHF instability in the real UHF wave function.\n",
      "There is an external UHF/GHF instability in the real UHF wave function.\n",
      "There is an external UHF/GHF instability in the real UHF wave function.\n",
      "There is an external UHF/GHF instability in the real UHF wave function.\n",
      "There is an external UHF/GHF instability in the real UHF wave function.\n",
      "There is an external UHF/GHF instability in the real UHF wave function.\n",
      "There is an external UHF/GHF instability in the real UHF wave function.\n",
      "There is an external UHF/GHF instability in the real UHF wave function.\n",
      "There is an external UHF/GHF instability in the real UHF wave function.\n",
      "There is an external UHF/GHF instability in the real UHF wave function.\n",
      "There is an external UHF/GHF instability in the real UHF wave function.\n",
      "There is an external UHF/GHF instability in the real UHF wave function.\n",
      "There is an external UHF/GHF instability in the real UHF wave function.\n",
      "There is an external UHF/GHF instability in the real UHF wave function.\n",
      "There is an external UHF/GHF instability in the real UHF wave function.\n",
      "There is an external UHF/GHF instability in the real UHF wave function.\n",
      "There is an external UHF/GHF instability in the real UHF wave function.\n",
      "There is an external UHF/GHF instability in the real UHF wave function.\n",
      "There is an external UHF/GHF instability in the real UHF wave function.\n",
      "There is an external UHF/GHF instability in the real UHF wave function.\n",
      "There is an external UHF/GHF instability in the real UHF wave function.\n",
      "There is an external UHF/GHF instability in the real UHF wave function.\n",
      "There is an external UHF/GHF instability in the real UHF wave function.\n",
      "There is an external UHF/GHF instability in the real UHF wave function.\n",
      "There is an external UHF/GHF instability in the real UHF wave function.\n",
      "There is an external UHF/GHF instability in the real UHF wave function.\n",
      "There is an external UHF/GHF instability in the real UHF wave function.\n",
      "There is an external UHF/GHF instability in the real UHF wave function.\n",
      "There is an external UHF/GHF instability in the real UHF wave function.\n",
      "There is an external UHF/GHF instability in the real UHF wave function.\n",
      "There is an external UHF/GHF instability in the real UHF wave function.\n",
      "There is an external UHF/GHF instability in the real UHF wave function.\n",
      "There is an external UHF/GHF instability in the real UHF wave function.\n",
      "The wave function is stable within the real/complex & UHF/GHF space.\n"
     ]
    },
    {
     "data": {
      "image/png": "[encoded data removed]",
      "text/plain": [
       "<Figure size 432x288 with 1 Axes>"
      ]
     },
     "metadata": {
      "needs_background": "light"
     },
     "output_type": "display_data"
    },
    {
     "name": "stdout",
     "output_type": "stream",
     "text": [
      "the length of the sides is:\n",
      "---------------------------\n",
      "|H1, H2| = 1 Angstrom\n",
      "|H1, H3| = 1.0 Angstrom\n",
      "|H2, H3| = 1.0 Angstrom\n"
     ]
    },
    {
     "data": {
      "image/png": "[encoded data removed]",
      "text/plain": [
       "<Figure size 432x288 with 1 Axes>"
      ]
     },
     "metadata": {
      "needs_background": "light"
     },
     "output_type": "display_data"
    },
    {
     "name": "stdout",
     "output_type": "stream",
     "text": [
      "the length of the sides is:\n",
      "---------------------------\n",
      "|H1, H2| = 1 Angstrom\n",
      "|H1, H3| = 1.19979 Angstrom\n",
      "|H2, H3| = 1.19979 Angstrom\n",
      "\n",
      "The top atom was moved 0.043 Angstrom away from the botom side, before spin frustration disappeared.\n",
      "There no longer is an external UHF->GHF instability at this geometry.\n"
     ]
    }
   ],
   "source": [
    "i = 0\n",
    "x = 0.86602540378\n",
    "h3_test = gto.M(atom = 'h 0 0 0; h 0 {} 0.5; h 0 0 1'.format(x), spin = 1, basis = 'cc-pvdz')\n",
    "\n",
    "test = UHF.MF(h3_test, 3)\n",
    "calc = test.get_scf_solution()\n",
    "test.stability_analysis('external')\n",
    "while test.ext_instability_ug:\n",
    "    x += 0.001\n",
    "    i += 1\n",
    "    h3_test = gto.M(atom = 'h 0 0 0; h 0 {} 0.5; h 0 0 1'.format(x), spin = 1, basis = 'cc-pvdz')\n",
    "    test = UHF.MF(h3_test, 3)\n",
    "    calc = test.scf()\n",
    "    test.stability_analysis('external')\n",
    "\n",
    "atom1_x = 0\n",
    "atom1_y = 0\n",
    "atom2_x = 1\n",
    "atom2_y = 0\n",
    "atom3_x = 0.5\n",
    "atom3_y = 0.86602540378\n",
    "H3_init = [[atom1_x, atom1_y], [atom2_x, atom2_y], [atom3_x, atom3_y]]\n",
    "color = 'tab:blue'\n",
    "plt.scatter(atom1_x, atom1_y, color=color)\n",
    "plt.annotate('H1', (atom1_x, atom1_y), xytext=(-0.02, 0.05))\n",
    "plt.scatter(atom2_x, atom2_y, color=color)\n",
    "plt.annotate('H2', (atom2_x, atom2_y), xytext=(1, 0.05))\n",
    "plt.scatter(atom3_x, atom3_y, color=color)\n",
    "plt.annotate('H3', (atom3_x, atom3_y), xytext=(0.45, x-0.05))\n",
    "init = plt.Polygon(H3_init, color=color)\n",
    "plt.gca().add_patch(init)\n",
    "plt.title('initial H_3 geometry')\n",
    "plt.xlabel('distance (angstrom)')\n",
    "plt.ylabel('distance (angstrom)')\n",
    "plt.show()\n",
    "angle = m.acos(atom3_y)\n",
    "side = np.around(0.5 / m.sin(angle), 5)\n",
    "print('the length of the sides is:')\n",
    "print('---------------------------')\n",
    "print('|H1, H2| = ' + str(atom2_x - atom1_x) + ' Angstrom')\n",
    "print('|H1, H3| = ' + str(side) + ' Angstrom')\n",
    "print('|H2, H3| = ' + str(side) + ' Angstrom')\n",
    "atom1_x = 0\n",
    "atom1_y = 0\n",
    "atom2_x = 1\n",
    "atom2_y = 0\n",
    "atom3_x = 0.5\n",
    "atom3_y = x\n",
    "H3_init = [[atom1_x, atom1_y], [atom2_x, atom2_y], [atom3_x, atom3_y]]\n",
    "color = 'tab:green'\n",
    "plt.scatter(atom1_x, atom1_y, color=color)\n",
    "plt.annotate('H1', (atom1_x, atom1_y), xytext=(-0.02, 0.05))\n",
    "plt.scatter(atom2_x, atom2_y, color=color)\n",
    "plt.annotate('H2', (atom2_x, atom2_y), xytext=(1, 0.05))\n",
    "plt.scatter(atom3_x, atom3_y, color=color)\n",
    "plt.annotate('H3', (atom3_x, atom3_y), xytext=(0.45, x-0.05))\n",
    "init = plt.Polygon(H3_init, color=color)\n",
    "plt.gca().add_patch(init)\n",
    "plt.title('H_3 geometry without spin frustration')\n",
    "plt.xlabel('distance (angstrom)')\n",
    "plt.ylabel('distance (angstrom)')\n",
    "plt.show()\n",
    "angle = m.acos(x)\n",
    "side = np.around(0.5 / m.sin(angle), 5)\n",
    "print('the length of the sides is:')\n",
    "print('---------------------------')\n",
    "print('|H1, H2| = ' + str(atom2_x - atom1_x) + ' Angstrom')\n",
    "print('|H1, H3| = ' + str(side) + ' Angstrom')\n",
    "print('|H2, H3| = ' + str(side) + ' Angstrom')\n",
    "print('')\n",
    "print('The top atom was moved ' + str(np.around((i * 0.001), 3)) + ' Angstrom away from the botom side, before spin frustration disappeared.')\n",
    "print('There no longer is an external UHF->GHF instability at this geometry.')"
   ]
  },
  {
   "cell_type": "markdown",
   "metadata": {},
   "source": [
    "We can thus state that the geometry & symmetry is incredibly important when dealing with spin frustrated systems. The D3h point group is spin frustrated, but when digressing even a small amount from this geometry, the spin frustration disappears. "
   ]
  },
  {
   "cell_type": "markdown",
   "metadata": {},
   "source": [
    "# General summary of the Hartree-Fock methods"
   ]
  },
  {
   "cell_type": "markdown",
   "metadata": {},
   "source": [
    "First, let's calculate the RHF energies."
   ]
  },
  {
   "cell_type": "code",
   "execution_count": 61,
   "metadata": {},
   "outputs": [],
   "source": [
    "rhf_h4 = RHF.MF(h4, 4)\n",
    "e_rhf_h4 = np.around(rhf_h4.scf()[0] * 627.5, 2)\n",
    "\n",
    "rhf_h6 = RHF.MF(h6, 6)\n",
    "e_rhf_h6 = np.around(rhf_h6.scf()[0] * 627.5, 2)\n",
    "\n",
    "rhf_h8 = RHF.MF(h8, 8)\n",
    "e_rhf_h8 = np.around(rhf_h8.scf()[0] * 627.5, 2)\n",
    "\n",
    "rhf_h10 = RHF.MF(h10, 10)\n",
    "e_rhf_h10 = np.around(rhf_h10.scf()[0] * 627.5, 2)\n",
    "\n",
    "rhf_h12 = RHF.MF(h12, 12)\n",
    "e_rhf_h12 = np.around(rhf_h12.scf()[0] * 627.5, 2)\n",
    "\n",
    "rhf_h14 = RHF.MF(h14, 14)\n",
    "e_rhf_h14 = np.around(rhf_h14.scf()[0] * 627.5, 2)"
   ]
  },
  {
   "cell_type": "code",
   "execution_count": 62,
   "metadata": {},
   "outputs": [],
   "source": [
    "c_rhf_h4 = RHF.MF(h4, 4)\n",
    "e_rhf_h4_c = np.around(rhf_h4.scf(complex_method=True)[0].real * 627.5, 2)\n",
    "\n",
    "c_rhf_h6 = RHF.MF(h6, 6)\n",
    "e_rhf_h6_c = np.around(rhf_h6.scf(complex_method=True)[0].real * 627.5, 2)\n",
    "\n",
    "c_rhf_h8 = RHF.MF(h8, 8)\n",
    "e_rhf_h8_c = np.around(rhf_h8.scf(complex_method=True)[0].real * 627.5, 2)\n",
    "\n",
    "c_rhf_h10 = RHF.MF(h10, 10)\n",
    "e_rhf_h10_c = np.around(rhf_h10.scf(complex_method=True)[0].real * 627.5, 2)\n",
    "\n",
    "c_rhf_h12 = RHF.MF(h12, 12)\n",
    "e_rhf_h12_c = np.around(rhf_h12.scf(complex_method=True)[0].real * 627.5, 2)\n",
    "\n",
    "c_rhf_h14 = RHF.MF(h14, 14)\n",
    "e_rhf_h14_c = np.around(rhf_h14.scf(complex_method=True)[0].real * 627.5, 2)"
   ]
  },
  {
   "cell_type": "markdown",
   "metadata": {},
   "source": [
    "Next, calculate the UHF energies."
   ]
  },
  {
   "cell_type": "code",
   "execution_count": 63,
   "metadata": {},
   "outputs": [],
   "source": [
    "e_uhf_3 = np.around(((uhf_h3[0]) * 627.5), 2)\n",
    "e_uhf_4 = np.around(((uhf_h4[0]) * 627.5), 2)\n",
    "e_uhf_5 = np.around(((uhf_h5[0]) * 627.5), 2)\n",
    "e_uhf_6 = np.around(((uhf_h6[0]) * 627.5), 2)\n",
    "e_uhf_7 = np.around(((uhf_h7[0]) * 627.5), 2)\n",
    "e_uhf_8 = np.around(((uhf_h8[0]) * 627.5), 2)\n",
    "e_uhf_9 = np.around(((uhf_h9[0]) * 627.5), 2)\n",
    "e_uhf_10 = np.around(((uhf_h10[0]) * 627.5), 2)\n",
    "e_uhf_11 = np.around(((uhf_h11[0]) * 627.5), 2)\n",
    "e_uhf_12 = np.around(((uhf_h12[0]) * 627.5), 2)\n",
    "e_uhf_13 = np.around(((uhf_h13[0]) * 627.5), 2)\n",
    "e_uhf_14 = np.around(((uhf_h14[0]) * 627.5), 2)\n",
    "e_uhf_15 = np.around(((uhf_h15[0]) * 627.5), 2)"
   ]
  },
  {
   "cell_type": "code",
   "execution_count": 64,
   "metadata": {},
   "outputs": [
    {
     "name": "stdout",
     "output_type": "stream",
     "text": [
      "There is an internal instability in the complex UHF wave function.\n",
      "There is an internal instability in the complex UHF wave function.\n",
      "There is an internal instability in the complex UHF wave function.\n",
      "There is an internal instability in the complex UHF wave function.\n"
     ]
    }
   ],
   "source": [
    "c_uhf_h3 = UHF.MF(h3, 3)\n",
    "e_uhf_h3_c = np.around(c_uhf_h3.scf(complex_method=True)[0].real * 627.5, 2)\n",
    "\n",
    "c_uhf_h4 = UHF.MF(h4, 4)\n",
    "c_uhf_h4.scf(complex_method=True)\n",
    "c_mo_4 = c_uhf_h4.stability_analysis('internal')\n",
    "e_uhf_h4_c = np.around(c_uhf_h4.scf(c_mo_4, complex_method=True)[0].real * 627.5, 2)\n",
    "\n",
    "c_uhf_h5 = UHF.MF(h5, 5)\n",
    "e_uhf_h5_c = np.around(c_uhf_h5.scf(complex_method=True)[0].real * 627.5, 2)\n",
    "\n",
    "c_uhf_h6 = UHF.MF(h6, 6)\n",
    "e_uhf_h6_c = np.around(c_uhf_h6.scf(complex_method=True)[0].real * 627.5, 2)\n",
    "\n",
    "c_uhf_h7 = UHF.MF(h7, 7)\n",
    "e_uhf_h7_c = np.around(c_uhf_h7.diis(complex_method=True)[0].real * 627.5, 2)\n",
    "\n",
    "c_uhf_h8 = UHF.MF(h8, 8)\n",
    "c_uhf_h8.scf(complex_method=True)\n",
    "c_mo_8 = c_uhf_h8.stability_analysis('internal')\n",
    "e_uhf_h8_c = np.around(c_uhf_h8.scf(c_mo_8, complex_method=True)[0].real * 627.5, 2)\n",
    "\n",
    "c_uhf_h9 = UHF.MF(h9, 9)\n",
    "e_uhf_h9_c = np.around(c_uhf_h9.scf(complex_method=True)[0].real * 627.5, 2)\n",
    "\n",
    "c_uhf_h10 = UHF.MF(h10, 10)\n",
    "e_uhf_h10_c = np.around(c_uhf_h10.scf(complex_method=True)[0].real * 627.5, 2)\n",
    "\n",
    "c_uhf_h11 = UHF.MF(h11, 11)\n",
    "e_uhf_h11_c = np.around(c_uhf_h11.scf(complex_method=True)[0].real * 627.5, 2)\n",
    "\n",
    "c_uhf_h12 = UHF.MF(h12, 12)\n",
    "c_uhf_h12.scf(complex_method=True)\n",
    "c_mo_12 = c_uhf_h12.stability_analysis('internal')\n",
    "e_uhf_h12_c = np.around(c_uhf_h12.scf(c_mo_12, complex_method=True)[0].real * 627.5, 2)\n",
    "\n",
    "c_uhf_h13 = UHF.MF(h13, 13)\n",
    "e_uhf_h13_c = np.around(c_uhf_h13.scf(complex_method=True)[0].real * 627.5, 2)\n",
    "\n",
    "c_uhf_h14 = UHF.MF(h14, 14)\n",
    "c_uhf_h14.scf(complex_method=True)\n",
    "c_mo_14 = c_uhf_h14.stability_analysis('internal')\n",
    "e_uhf_h14_c = np.around(c_uhf_h14.scf(c_mo_14, complex_method=True)[0].real * 627.5, 2)\n",
    "\n",
    "c_uhf_h15 = UHF.MF(h15, 15)\n",
    "e_uhf_h15_c = np.around(c_uhf_h15.scf(complex_method=True)[0].real * 627.5, 2)"
   ]
  },
  {
   "cell_type": "markdown",
   "metadata": {},
   "source": [
    "Finally, the GHF energies."
   ]
  },
  {
   "cell_type": "code",
   "execution_count": 65,
   "metadata": {},
   "outputs": [],
   "source": [
    "e_ghf_3 = np.around(((ghf_h3[0]) * 627.5), 2)\n",
    "e_ghf_4 = np.around(((ghf_h4[0]) * 627.5), 2)\n",
    "e_ghf_5 = np.around(((ghf_h5[0]) * 627.5), 2)\n",
    "e_ghf_6 = np.around(((ghf_h6[0]) * 627.5), 2)\n",
    "e_ghf_7 = np.around(((ghf_h7[0]) * 627.5), 2)\n",
    "e_ghf_8 = np.around(((ghf_h8[0]) * 627.5), 2)\n",
    "e_ghf_9 = np.around(((ghf_h9[0]) * 627.5), 2)\n",
    "e_ghf_10 = np.around(((ghf_h10[0]) * 627.5), 2)\n",
    "e_ghf_11 = np.around(((ghf_h11[0]) * 627.5), 2)\n",
    "e_ghf_12 = np.around(((ghf_h12[0]) * 627.5), 2)\n",
    "e_ghf_13 = np.around(((ghf_h13[0]) * 627.5), 2)\n",
    "e_ghf_14 = np.around(((ghf_h14[0]) * 627.5), 2)\n",
    "e_ghf_15 = np.around(((ghf_h15[0]) * 627.5), 2)"
   ]
  },
  {
   "cell_type": "code",
   "execution_count": 66,
   "metadata": {},
   "outputs": [],
   "source": [
    "c_ghf_h3 = GHF.MF(h3, 3)\n",
    "e_ghf_h3_c = np.around(c_ghf_h3.scf(complex_method=True)[0].real * 627.5, 2)\n",
    "\n",
    "c_ghf_h4 = GHF.MF(h4, 4)\n",
    "e_ghf_h4_c = np.around(c_ghf_h4.scf(complex_method=True)[0].real * 627.5, 2)\n",
    "\n",
    "c_ghf_h5 = GHF.MF(h5, 5)\n",
    "e_ghf_h5_c = np.around(c_ghf_h5.scf(complex_method=True)[0].real * 627.5, 2)\n",
    "\n",
    "c_ghf_h6 = GHF.MF(h6, 6)\n",
    "e_ghf_h6_c = np.around(c_ghf_h6.scf(complex_method=True)[0].real * 627.5, 2)\n",
    "\n",
    "c_ghf_h7 = GHF.MF(h7, 7)\n",
    "e_ghf_h7_c = np.around(c_ghf_h7.scf(complex_method=True)[0].real * 627.5, 2)\n",
    "\n",
    "c_ghf_h8 = GHF.MF(h8, 8)\n",
    "e_ghf_h8_c = np.around(c_ghf_h8.scf(complex_method=True)[0].real * 627.5, 2)\n",
    "\n",
    "c_ghf_h9 = GHF.MF(h9, 9)\n",
    "e_ghf_h9_c = np.around(c_ghf_h9.scf(complex_method=True)[0].real * 627.5, 2)\n",
    "\n",
    "c_ghf_h10 = GHF.MF(h10, 10)\n",
    "e_ghf_h10_c = np.around(c_ghf_h10.scf(complex_method=True)[0].real * 627.5, 2)\n",
    "\n",
    "c_ghf_h11 = GHF.MF(h11, 11)\n",
    "e_ghf_h11_c = np.around(c_ghf_h11.scf(complex_method=True)[0].real * 627.5, 2)\n",
    "\n",
    "c_ghf_h12 = GHF.MF(h12, 12)\n",
    "e_ghf_h12_c = np.around(c_ghf_h12.scf(complex_method=True)[0].real * 627.5, 2)\n",
    "\n",
    "c_ghf_h13 = GHF.MF(h13, 13)\n",
    "e_ghf_h13_c = np.around(c_ghf_h13.scf(complex_method=True)[0].real * 627.5, 2)\n",
    "\n",
    "c_ghf_h14 = GHF.MF(h14, 14)\n",
    "e_ghf_h14_c = np.around(c_ghf_h14.scf(complex_method=True)[0].real * 627.5, 2)\n",
    "\n",
    "c_ghf_h15 = GHF.MF(h15, 15)\n",
    "e_ghf_h15_c = np.around(c_ghf_h15.scf(complex_method=True)[0].real * 627.5, 2)"
   ]
  },
  {
   "cell_type": "markdown",
   "metadata": {},
   "source": [
    "## Let's put all the results in a table."
   ]
  },
  {
   "cell_type": "markdown",
   "metadata": {
    "variables": {
     "e_ghf_10": "-3384.45",
     "e_ghf_11": "-3683.0",
     "e_ghf_12": "-4030.5",
     "e_ghf_13": "-4366.84",
     "e_ghf_14": "-4726.24",
     "e_ghf_15": "-5042.3",
     "e_ghf_3": "-946.1",
     "e_ghf_4": "-1268.23",
     "e_ghf_5": "-1626.02",
     "e_ghf_6": "-2039.13",
     "e_ghf_7": "-2315.42",
     "e_ghf_8": "-2660.06",
     "e_ghf_9": "-3006.87",
     "e_ghf_h10_c": "-3384.45",
     "e_ghf_h11_c": "-3683.0",
     "e_ghf_h12_c": "-4030.5",
     "e_ghf_h13_c": "-4366.84",
     "e_ghf_h14_c": "-4726.24",
     "e_ghf_h15_c": "-5042.3",
     "e_ghf_h3_c": "-946.1",
     "e_ghf_h4_c": "-1268.23",
     "e_ghf_h5_c": "-1626.02",
     "e_ghf_h6_c": "-2039.13",
     "e_ghf_h7_c": "-2315.42",
     "e_ghf_h8_c": "-2660.06",
     "e_ghf_h9_c": "-3006.87",
     "e_rhf_h10": "-3384.45",
     "e_rhf_h10_c": "-3384.45",
     "e_rhf_h12": "-3992.92",
     "e_rhf_h12_c": "-3992.92",
     "e_rhf_h14": "-4723.63",
     "e_rhf_h14_c": "-4723.63",
     "e_rhf_h4": "-1217.58",
     "e_rhf_h4_c": "-1227.86",
     "e_rhf_h6": "-2039.13",
     "e_rhf_h6_c": "-2039.13",
     "e_rhf_h8": "-2621.5",
     "e_rhf_h8_c": "-2623.19",
     "e_uhf_10": "-3384.45",
     "e_uhf_11": "-3676.77",
     "e_uhf_12": "-4030.5",
     "e_uhf_13": "-4358.94",
     "e_uhf_14": "-4726.24",
     "e_uhf_15": "-5032.08",
     "e_uhf_3": "-945.19",
     "e_uhf_4": "-1268.23",
     "e_uhf_5": "-1622.69",
     "e_uhf_6": "-2039.13",
     "e_uhf_7": "-2311.96",
     "e_uhf_8": "-2660.06",
     "e_uhf_9": "-3001.46",
     "e_uhf_h10_c": "-3384.45",
     "e_uhf_h11_c": "-3676.77",
     "e_uhf_h12_c": "-4030.5",
     "e_uhf_h13_c": "-4358.94",
     "e_uhf_h14_c": "-4726.24",
     "e_uhf_h15_c": "-5032.08",
     "e_uhf_h3_c": "-945.19",
     "e_uhf_h4_c": "-1268.23",
     "e_uhf_h5_c": "-1622.69",
     "e_uhf_h6_c": "-2039.13",
     "e_uhf_h7_c": "-2311.96",
     "e_uhf_h8_c": "-2660.06",
     "e_uhf_h9_c": "-3001.46"
    }
   },
   "source": [
    "| Molecule | rRHF ($\\frac{kcal}{mol}$) | cRHF ($\\frac{kcal}{mol}$) | rUHF ($\\frac{kcal}{mol}$) | cUHF ($\\frac{kcal}{mol}$) | rGHF ($\\frac{kcal}{mol}$) | cGHF ($\\frac{kcal}{mol}$) |\n",
    "| --- | --- | --- | --- |--- | --- | --- |\n",
    "| $H_3$ | - | - | {{e_uhf_3}} | {{e_uhf_h3_c}} | {{e_ghf_3}} | {{e_ghf_h3_c}} |\n",
    "| $H_4$ | {{e_rhf_h4}} | {{e_rhf_h4_c}} | {{e_uhf_4}} | {{e_uhf_h4_c}} | {{e_ghf_4}} | {{e_ghf_h4_c}} |\n",
    "| $H_5$ | - | - | {{e_uhf_5}} | {{e_uhf_h5_c}} | {{e_ghf_5}} | {{e_ghf_h5_c}} |\n",
    "| $H_6$ | {{e_rhf_h6}} | {{e_rhf_h6_c}} | {{e_uhf_6}} | {{e_uhf_h6_c}} | {{e_ghf_6}} | {{e_ghf_h6_c}} |\n",
    "| $H_7$ | - | - | {{e_uhf_7}} | {{e_uhf_h7_c}} | {{e_ghf_7}} | {{e_ghf_h7_c}} |\n",
    "| $H_8$ | {{e_rhf_h8}} | {{e_rhf_h8_c}} | {{e_uhf_8}} | {{e_uhf_h8_c}} | {{e_ghf_8}} | {{e_ghf_h8_c}} |\n",
    "| $H_9$ | - | - | {{e_uhf_9}} | {{e_uhf_h9_c}} | {{e_ghf_9}} | {{e_ghf_h9_c}} |\n",
    "| $H_{10}$ | {{e_rhf_h10}} | {{e_rhf_h10_c}} | {{e_uhf_10}} | {{e_uhf_h10_c}} | {{e_ghf_10}} | {{e_ghf_h10_c}} |\n",
    "| $H_{11}$ | - | - | {{e_uhf_11}} | {{e_uhf_h11_c}} | {{e_ghf_11}} | {{e_ghf_h11_c}} |\n",
    "| $H_{12}$ | {{e_rhf_h12}} | {{e_rhf_h12_c}} | {{e_uhf_12}} | {{e_uhf_h12_c}} | {{e_ghf_12}} | {{e_ghf_h12_c}} |\n",
    "| $H_{13}$ | - | - | {{e_uhf_13}} | {{e_uhf_h13_c}} | {{e_ghf_13}} | {{e_ghf_h13_c}} |\n",
    "| $H_{14}$ | {{e_rhf_h14}} | {{e_rhf_h14_c}} | {{e_uhf_14}} | {{e_uhf_h14_c}} | {{e_ghf_14}} | {{e_ghf_h14_c}} |\n",
    "| $H_{15}$ | - | - | {{e_uhf_15}} | {{e_uhf_h15_c}} | {{e_ghf_15}} | {{e_ghf_h15_c}} |"
   ]
  }
 ],
 "metadata": {
  "kernelspec": {
   "display_name": "Python 3",
   "language": "python",
   "name": "python3"
  },
  "language_info": {
   "codemirror_mode": {
    "name": "ipython",
    "version": 3
   },
   "file_extension": ".py",
   "mimetype": "text/x-python",
   "name": "python",
   "nbconvert_exporter": "python",
   "pygments_lexer": "ipython3",
   "version": "3.7.6"
  }
 },
 "nbformat": 4,
 "nbformat_minor": 2
}
