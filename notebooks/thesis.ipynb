{
 "cells": [
  {
   "cell_type": "markdown",
   "metadata": {},
   "source": [
    "# The Generalised Hartree-Fock method: results"
   ]
  },
  {
   "cell_type": "markdown",
   "metadata": {},
   "source": [
    "## Install required packages"
   ]
  },
  {
   "cell_type": "code",
   "execution_count": null,
   "metadata": {},
   "outputs": [],
   "source": [
    "\n",
    "!wget https://repo.anaconda.com/miniconda/Miniconda3-py37_4.8.2-Linux-x86_64.sh\n",
    "!chmod +x Miniconda3-py37_4.8.2-Linux-x86_64.sh\n",
    "!bash ./Miniconda3-py37_4.8.2-Linux-x86_64.sh -b -f -p /usr/local\n",
    "import sys\n",
    "sys.path.append('/usr/local/lib/python3.7/site-packages/')\n",
    "!conda install -c psi4 psi4 -y\n",
    "!pip install pyscf\n",
    "!pip install git+https://github.com/xdvriend/GHF_thesis.git"
   ]
  },
  {
   "cell_type": "markdown",
   "metadata": {},
   "source": [
    "## Import statements for calculation"
   ]
  },
  {
   "cell_type": "code",
   "execution_count": null,
   "metadata": {},
   "outputs": [],
   "source": [
    "import pyscf\n",
    "from pyscf import *\n",
    "from hf.HartreeFock import *\n",
    "from hf.HartreeFock import lowest_HF as lowest\n",
    "from hf.properties import spin as spin\n",
    "from hf.utilities import SCF_functions as Scf\n",
    "import numpy as np\n",
    "import scipy.linalg as la\n",
    "import matplotlib.pyplot as plt\n",
    "import math as m"
   ]
  },
  {
   "cell_type": "markdown",
   "metadata": {},
   "source": [
    "## We use pySCF to create the molecules to work with"
   ]
  },
  {
   "cell_type": "markdown",
   "metadata": {},
   "source": [
    "Our test systems are hydrogen rings. The geometry is created by making sure all the hydrogen atoms in a ring are 1 angstrom apart. This forces spin frustration in the uneven rings, and forces the even rings into a triplet state."
   ]
  },
  {
   "cell_type": "code",
   "execution_count": null,
   "metadata": {},
   "outputs": [],
   "source": [
    "h3 = gto.M(atom = 'h 0 0 0; h 0 0.86602540378 0.5; h 0 0 1', spin = 1, basis = 'cc-pvdz')\n",
    "\n",
    "h4 = gto.M(atom = 'h 0 0.707107 0; h 0.707107 0 0; h 0 -0.707107 0; h -0.707107 0 0' ,spin = 2, basis = 'cc-pvdz')\n",
    "\n",
    "h5 = gto.M(atom = 'h 0 0.850651 0; h 0.8090171766429887 0.26286561528204344 0; h 0.5000001126478447, -0.6881911152820434, 0;'\n",
    "                  ' h -0.5000001126478445, -0.6881911152820435, 0; h -0.8090171766429888 0.2628656152820433 0', spin = 1, basis = 'cc-pvdz')\n",
    "\n",
    "h6 = gto.M(atom = 'h 0 0 0; h 0 2 0; h 0.866025 0.5 0; h -0.866025 0.5 0; h 0.866025 1.5 0; h -0.866025 1.5 0',\n",
    "           basis = 'cc-pvdz')\n",
    "\n",
    "h7 = gto.M(atom = 'h 0 1.15238 0; h 0.900966963766508 0.7184971778659673 0; h 1.12348742744009 -0.2564286738725775 0;'\n",
    "                  'h 0.49999894328429173 -1.0382585039933896 0; h -0.4999989432842915 -1.0382585039933898 0;'\n",
    "                  'h -1.12348742744009 -0.2564286738725768 0; h -0.9009669637665083 0.7184971778659671 0', spin = 1, basis = 'cc-pvdz')\n",
    "\n",
    "h8 = gto.M(atom = 'h 0 1.30656 0; h 0.9238774360270954 0.9238774360270956 0; h 1.30656 0 0; h 0.9238774360270956 -0.9238774360270954 0;'\n",
    "                  'h 0 -1.30656 0; h -0.9238774360270954 -0.9238774360270957 0; h -1.30656 0 0; h -0.9238774360270957 0.9238774360270954 0;',spin = 0, basis = 'cc-pvdz')\n",
    "\n",
    "h9 = gto.M(atom = 'h 0 1.4619 0; h 0.9396912066007517 1.119880371395634 0; h 1.439690454128547 0.25385627093128554 0;'\n",
    "                  'h 1.2660425377924711 -0.7309499999999997 0; h 0.49999924752779534 -1.3737366423269193 0; '\n",
    "                  'h -0.499999247527795 -1.3737366423269195 0; h -1.2660425377924704 -0.7309500000000007 0; '\n",
    "                  'h -1.4396904541285471 0.25385627093128493 0; h -0.9396912066007522 1.1198803713956338 0', spin = 1, basis = 'cc-pvdz')\n",
    "\n",
    "h10 = gto.M(atom = 'h 0 1.61803 0; h 0.9510541717667903 1.3090137674084963 0; h 1.5388379750610472 0.49999876740849625 0;'\n",
    "                   'h 1.5388379750610475 -0.4999987674084961 0; h 0.9510541717667905 -1.309013767408496 0; '\n",
    "                   'h 0 -1.61803 0; h -0.9510541717667902 -1.3090137674084963 0; h -1.5388379750610472 -0.4999987674084964 0;'\n",
    "                   'h -1.5388379750610475 0.4999987674084959 0; h -0.9510541717667905 1.309013767408496 0', basis = 'cc-pvdz')\n",
    "\n",
    "h11 = gto.M(atom = 'h 0 1.77473 0; h 0.9594914779629726 1.4929978823214822 0; h 1.6143511911155242 0.7372494860248379 0;'\n",
    "                   'h 1.7566658075493475 -0.2525704129287475 0; h 1.341251442093733 -1.1622009903547155 0; '\n",
    "                   'h 0.49999922060319113 -1.7028409650628566 0; h -0.49999922060319074 -1.7028409650628569 0;'\n",
    "                   'h -1.3412514420937325 -1.162200990354716 0; h -1.7566658075493475 -0.25257041292874755 0; '\n",
    "                   'h -1.614351191115524 0.7372494860248385 0; h -0.9594914779629737 1.4929978823214813 0', spin = 1, basis = 'cc-pvdz')\n",
    "\n",
    "h12 = gto.M(atom = 'h 0 1.93185 0; h 0.9659249999999999 1.673031176300968 0; h 1.6730311763009678 0.9659250000000003 0; '\n",
    "                   'h 1.93185 0 0; h 1.6730311763009682 -0.9659249999999996 0; h 0.9659249999999999 -1.673031176300968 0; h 0 -1.93185 0;'\n",
    "                   'h -0.9659250000000003 -1.6730311763009678 0; h -1.6730311763009673 -0.9659250000000009 0; h -1.93185 0 0;'\n",
    "                   'h -1.6730311763009678  0.965925 0; h -0.9659250000000009 1.6730311763009673 0',spin = 0, basis = 'cc-pvdz')\n",
    "\n",
    "h13 = gto.M(atom = 'h 0 2.08929 0; h 0.9709414761193252 1.849974419836995 0; h 1.7194519611729573 1.1868519946979366 0; '\n",
    "                   'h 2.0740567235643232 0.25183608069064384 0; h 1.9535200856802104 -0.7408724444490994 0; '\n",
    "                   'h 1.3854555386359115 -1.5638560210463994 0; h 0.49999982423935135 -2.0285790297300763 0; '\n",
    "                   'h -0.4999998242393518 -2.0285790297300763 0; h -1.3854555386359113 -1.5638560210463999 0; '\n",
    "                   'h -1.9535200856802102 -0.7408724444490998 0; h -2.0740567235643237 0.2518360806906424 0; '\n",
    "                   'h -1.7194519611729568 1.1868519946979375 0; h -0.9709414761193248 1.8499744198369952 0', spin = 1, basis = 'cc-pvdz')\n",
    "\n",
    "h14 = gto.M(atom = 'h 0 2.24698 0; h 0.9749280841223709 2.024459026799378 0; h 1.7567597044760135 1.4009691149805374 0; '\n",
    "                   'h 2.1906435201143144 0.5000000881811595 0; h 2.1906435201143144 -0.5000000881811593 0; '\n",
    "                   'h 1.7567597044760133 -1.4009691149805379 0; h 0.9749280841223711 -2.0244590267993776 0;'\n",
    "                   'h 0 -2.24698 0; h -0.9749280841223705 -2.024459026799378 0; h -1.7567597044760135 -1.4009691149805377 0; '\n",
    "                   'h -2.1906435201143144 -0.5000000881811578 0; h -2.190643520114314 0.5000000881811608 0; '\n",
    "                   'h -1.756759704476014 1.4009691149805368 0; h -0.9749280841223712 2.0244590267993776 0',spin = 0, basis = 'cc-pvdz')\n",
    "\n",
    "h15 = gto.M(atom = 'h 0 2.40487 0; h 0.9781487508336996 2.1969580647209614 0; h 1.787166696445821 1.6091721213142274 0; '\n",
    "                   'h 2.2871672843427255 0.7431456992624799 0; h 2.391695870514299 -0.251377365458482 0; h 2.0826785127990832 -1.2024349999999995 0;'\n",
    "                   'h 1.4135471196806 -1.9455806992624796 0; h 0.5000005878969047 -2.3523178205767072 0; '\n",
    "                   'h -0.5000005878969053 -2.352317820576707 0; h -1.4135471196805995 -1.9455806992624798 0; '\n",
    "                   'h -2.0826785127990823 -1.202435000000001 0; h -2.3916958705142997 -0.2513773654584815 0; '\n",
    "                   'h -2.287167284342726 0.7431456992624793 0; h -1.7871666964458222 1.6091721213142263 0; '\n",
    "                   'h -0.9781487508336995 2.196958064720962 0', spin = 1, basis = 'cc-pvdz')"
   ]
  },
  {
   "cell_type": "markdown",
   "metadata": {},
   "source": [
    "# Unrestricted Hartree-Fock results"
   ]
  },
  {
   "cell_type": "markdown",
   "metadata": {},
   "source": [
    "We will show the UHF results as a benchmark. UHF calculations are performed as follows:\n",
    "\n",
    "Start off by creating the UHF objects."
   ]
  },
  {
   "cell_type": "code",
   "execution_count": null,
   "metadata": {},
   "outputs": [],
   "source": [
    "h_3 = UHF.MF(h3, 3)\n",
    "h_4 = UHF.MF(h4, 4)\n",
    "h_5 = UHF.MF(h5, 5)\n",
    "h_6 = UHF.MF(h6, 6)\n",
    "h_7 = UHF.MF(h7, 7)\n",
    "h_8 = UHF.MF(h8, 8)\n",
    "h_9 = UHF.MF(h9, 9)\n",
    "h_10 = UHF.MF(h10, 10)\n",
    "h_11 = UHF.MF(h11, 11)\n",
    "h_12 = UHF.MF(h12, 12)\n",
    "h_13 = UHF.MF(h13, 13)\n",
    "h_14 = UHF.MF(h14, 14)\n",
    "h_15 = UHF.MF(h15, 15)"
   ]
  },
  {
   "cell_type": "markdown",
   "metadata": {},
   "source": [
    "Then calculate the energies."
   ]
  },
  {
   "cell_type": "code",
   "execution_count": null,
   "metadata": {},
   "outputs": [],
   "source": [
    "uhf_h3 = h_3.diis()\n",
    "uhf_h4 = h_4.diis()\n",
    "uhf_h5 = h_5.diis()\n",
    "uhf_h6 = h_6.diis()\n",
    "uhf_h7 = h_7.diis()\n",
    "uhf_h8 = h_8.diis()\n",
    "uhf_h9 = h_9.diis()\n",
    "uhf_h10 = h_10.diis()\n",
    "uhf_h11 = h_11.diis()\n",
    "uhf_h12 = h_12.diis()\n",
    "uhf_h13 = h_13.diis()\n",
    "uhf_h14 = h_14.diis()\n",
    "uhf_h15 = h_15.diis()"
   ]
  },
  {
   "cell_type": "markdown",
   "metadata": {
    "variables": {
     "uhf_h10[0]": "-5.393541465149266",
     "uhf_h10[1]": "8",
     "uhf_h11[0]": "-5.859393866124588",
     "uhf_h11[1]": "162",
     "uhf_h12[0]": "-6.354742986360385",
     "uhf_h12[1]": "12",
     "uhf_h13[0]": "-6.946518346867869",
     "uhf_h13[1]": "170",
     "uhf_h14[0]": "-7.527699238606516",
     "uhf_h14[1]": "8",
     "uhf_h15[0]": "-8.019257492591493",
     "uhf_h15[1]": "231",
     "uhf_h3[0]": "-1.5062743192317454",
     "uhf_h3[1]": "62",
     "uhf_h4[0]": "-1.9196374534234786",
     "uhf_h4[1]": "12",
     "uhf_h5[0]": "-2.5859543866953123",
     "uhf_h5[1]": "72",
     "uhf_h6[0]": "-3.249608217327733",
     "uhf_h6[1]": "7",
     "uhf_h7[0]": "-3.6843946688561875",
     "uhf_h7[1]": "101",
     "uhf_h8[0]": "-4.167621820017056",
     "uhf_h8[1]": "14",
     "uhf_h9[0]": "-4.7832015177086475",
     "uhf_h9[1]": "129"
    }
   },
   "source": [
    "| Molecule | Hartree-Fock method | Energy (Hartree) | # iterations\n",
    "| --- | --- | --- | --- |\n",
    "| $H_3$ | UHF | {{uhf_h3[0]}} | {{uhf_h3[1]}} |\n",
    "| $H_4$ | UHF | {{uhf_h4[0]}} | {{uhf_h4[1]}} |\n",
    "| $H_5$ | UHF | {{uhf_h5[0]}} | {{uhf_h5[1]}} |\n",
    "| $H_6$ | UHF | {{uhf_h6[0]}} | {{uhf_h6[1]}} |\n",
    "| $H_7$ | UHF | {{uhf_h7[0]}} | {{uhf_h7[1]}} |\n",
    "| $H_8$ | UHF | {{uhf_h8[0]}} | {{uhf_h8[1]}} |\n",
    "| $H_9$ | UHF | {{uhf_h9[0]}} | {{uhf_h9[1]}} |\n",
    "| $H_{10}$ | UHF | {{uhf_h10[0]}} | {{uhf_h10[1]}} |\n",
    "| $H_{11}$ | UHF | {{uhf_h11[0]}} | {{uhf_h11[1]}} |\n",
    "| $H_{12}$ | UHF | {{uhf_h12[0]}} | {{uhf_h12[1]}} |\n",
    "| $H_{13}$ | UHF | {{uhf_h13[0]}} | {{uhf_h13[1]}} |\n",
    "| $H_{14}$ | UHF | {{uhf_h14[0]}} | {{uhf_h14[1]}} |\n",
    "| $H_{15}$ | UHF | {{uhf_h15[0]}} | {{uhf_h15[1]}} |"
   ]
  },
  {
   "cell_type": "markdown",
   "metadata": {},
   "source": [
    "However, there's a catch. We can't be sure that these solutions are the lowest possible UHF solutions. To verify this, we'll apply stability analysis. Stability analysis calculates the Hessian matrix, and diagonalises it. If the eigenvalues are positive semi-definite, we have a so called stable solution. If there are strictly negative eigenvalues, It's possible to find a lower lying solution. Stability can be checked internally, within the current method (real UHF) or externally (UHF-> GHF or real-> complex). Both stabilities are checked here. This should be able to tell us which systems have a GHF solution as well. The internal stability analysis also returns a set of coefficients that are rotated in the direction of the lowest eigenvector of the Hessian. These new MO coefficients can then be used to \"follow\" the stability analysis to the lower lying energy state."
   ]
  },
  {
   "cell_type": "code",
   "execution_count": null,
   "metadata": {},
   "outputs": [],
   "source": [
    "print(\"Checking H_3 stability\")\n",
    "print(\"----------------------\")\n",
    "new_mo_3 = h_3.stability_analysis('internal')\n",
    "h_3.stability_analysis('external')\n",
    "print('')\n",
    "print(\"Checking H_4 stability\")\n",
    "print(\"----------------------\")\n",
    "new_mo_4 = h_4.stability_analysis('internal')\n",
    "h_4.stability_analysis('external')\n",
    "print('')\n",
    "print(\"Checking H_5 stability\")\n",
    "print(\"----------------------\")\n",
    "new_mo_5 = h_5.stability_analysis('internal')\n",
    "h_5.stability_analysis('external')\n",
    "print('')\n",
    "print(\"Checking H_6 stability\")\n",
    "print(\"----------------------\")\n",
    "new_mo_6 = h_6.stability_analysis('internal')\n",
    "h_6.stability_analysis('external')\n",
    "print('')\n",
    "print(\"Checking H_7 stability\")\n",
    "print(\"----------------------\")\n",
    "#new_mo_7 = h_7.stability_analysis('internal')\n",
    "h_7.stability_analysis('external')\n",
    "print('')\n",
    "print(\"Checking H_8 stability\")\n",
    "print(\"----------------------\")\n",
    "new_mo_8 = h_8.stability_analysis('internal')\n",
    "h_8.stability_analysis('external')\n",
    "print('')\n",
    "print(\"Checking H_9 stability\")\n",
    "print(\"----------------------\")\n",
    "new_mo_9 = h_9.stability_analysis('internal')\n",
    "h_9.stability_analysis('external')\n",
    "print('')\n",
    "print(\"Checking H_10 stability\")\n",
    "print(\"----------------------\")\n",
    "new_mo_10 = h_10.stability_analysis('internal')\n",
    "h_10.stability_analysis('external')\n",
    "print('')\n",
    "print(\"Checking H_11 stability\")\n",
    "print(\"----------------------\")\n",
    "new_mo_11 = h_11.stability_analysis('internal')\n",
    "h_11.stability_analysis('external')\n",
    "print('')\n",
    "print(\"Checking H_12 stability\")\n",
    "print(\"----------------------\")\n",
    "new_mo_12 = h_12.stability_analysis('internal')\n",
    "h_12.stability_analysis('external')\n",
    "print('')\n",
    "print(\"Checking H_13 stability\")\n",
    "print(\"----------------------\")\n",
    "new_mo_13 = h_13.stability_analysis('internal')\n",
    "h_13.stability_analysis('external')\n",
    "print('')\n",
    "print(\"Checking H_14 stability\")\n",
    "print(\"----------------------\")\n",
    "new_mo_14 = h_14.stability_analysis('internal')\n",
    "h_14.stability_analysis('external')\n",
    "print('')\n",
    "print(\"Checking H_15 stability\")\n",
    "print(\"----------------------\")\n",
    "new_mo_15 = h_15.stability_analysis('internal')\n",
    "h_15.stability_analysis('external')"
   ]
  },
  {
   "cell_type": "markdown",
   "metadata": {},
   "source": [
    "We see that the uneven systems are stable within the real UHF method, but have an external instability towards GHF. This means that they should have a lower lying GHF energy state. The even rings (other than $H_6$ and $H_{10}$) however, show an internal instability. We'll now follow the lowest eigenvector, which should lead us towards a lower lying energy state."
   ]
  },
  {
   "cell_type": "code",
   "execution_count": null,
   "metadata": {},
   "outputs": [],
   "source": [
    "uhf_h4 = h_4.scf(new_mo_4)\n",
    "uhf_h8 = h_8.scf(new_mo_8)\n",
    "uhf_h12 = h_12.scf(new_mo_12)\n",
    "uhf_h14 = h_14.scf(new_mo_14)"
   ]
  },
  {
   "cell_type": "markdown",
   "metadata": {},
   "source": [
    "We should also check whether or not the new solutions are stable."
   ]
  },
  {
   "cell_type": "code",
   "execution_count": null,
   "metadata": {},
   "outputs": [],
   "source": [
    "print(\"Checking H_4 stability\")\n",
    "print(\"----------------------\")\n",
    "h_4.stability_analysis('internal')\n",
    "h_4.stability_analysis('external')\n",
    "print('')\n",
    "print(\"Checking H_8 stability\")\n",
    "print(\"----------------------\")\n",
    "h_8.stability_analysis('internal')\n",
    "h_8.stability_analysis('external')\n",
    "print('')\n",
    "print(\"Checking H_12 stability\")\n",
    "print(\"----------------------\")\n",
    "h_12.stability_analysis('internal')\n",
    "h_12.stability_analysis('external')\n",
    "print('')\n",
    "print(\"Checking H_14 stability\")\n",
    "print(\"----------------------\")\n",
    "h_14.stability_analysis('internal')\n",
    "h_14.stability_analysis('external')"
   ]
  },
  {
   "cell_type": "markdown",
   "metadata": {
    "variables": {
     "uhf_h10[0]": "-5.393541465149266",
     "uhf_h10[1]": "8",
     "uhf_h11[0]": "-5.859393866124588",
     "uhf_h11[1]": "162",
     "uhf_h12[0]": "-6.423113768992863",
     "uhf_h12[1]": "162",
     "uhf_h13[0]": "-6.946518346867869",
     "uhf_h13[1]": "170",
     "uhf_h14[0]": "-7.5318510940921755",
     "uhf_h14[1]": "134",
     "uhf_h15[0]": "-8.019257492591493",
     "uhf_h15[1]": "231",
     "uhf_h3[0]": "-1.5062743192317454",
     "uhf_h3[1]": "62",
     "uhf_h4[0]": "-2.0210882477033913",
     "uhf_h4[1]": "145",
     "uhf_h5[0]": "-2.5859543866953123",
     "uhf_h5[1]": "72",
     "uhf_h6[0]": "-3.249608217327733",
     "uhf_h6[1]": "7",
     "uhf_h7[0]": "-3.6843946688561875",
     "uhf_h7[1]": "101",
     "uhf_h8[0]": "-4.239145345540111",
     "uhf_h8[1]": "180",
     "uhf_h9[0]": "-4.7832015177086475",
     "uhf_h9[1]": "129"
    }
   },
   "source": [
    "| Molecule | Hartree-Fock method | Energy (Hartree) | # iterations\n",
    "| --- | --- | --- | --- |\n",
    "| $H_3$ | UHF | {{uhf_h3[0]}} | {{uhf_h3[1]}} |\n",
    "| $H_4$ | UHF | {{uhf_h4[0]}} | {{uhf_h4[1]}} |\n",
    "| $H_5$ | UHF | {{uhf_h5[0]}} | {{uhf_h5[1]}} |\n",
    "| $H_6$ | UHF | {{uhf_h6[0]}} | {{uhf_h6[1]}} |\n",
    "| $H_7$ | UHF | {{uhf_h7[0]}} | {{uhf_h7[1]}} |\n",
    "| $H_8$ | UHF | {{uhf_h8[0]}} | {{uhf_h8[1]}} |\n",
    "| $H_9$ | UHF | {{uhf_h9[0]}} | {{uhf_h9[1]}} |\n",
    "| $H_{10}$ | UHF | {{uhf_h10[0]}} | {{uhf_h10[1]}} |\n",
    "| $H_{11}$ | UHF | {{uhf_h11[0]}} | {{uhf_h11[1]}} |\n",
    "| $H_{12}$ | UHF | {{uhf_h12[0]}} | {{uhf_h12[1]}} |\n",
    "| $H_{13}$ | UHF | {{uhf_h13[0]}} | {{uhf_h13[1]}} |\n",
    "| $H_{14}$ | UHF | {{uhf_h14[0]}} | {{uhf_h14[1]}} |\n",
    "| $H_{15}$ | UHF | {{uhf_h15[0]}} | {{uhf_h15[1]}} |"
   ]
  },
  {
   "cell_type": "markdown",
   "metadata": {},
   "source": [
    "# Generalised Hartree-Fock results"
   ]
  },
  {
   "cell_type": "markdown",
   "metadata": {},
   "source": [
    "Next up, is to check the GHF solutions. We'lll work the same way as we did for UHF, by checking the stability of the solutions and following it when necessary."
   ]
  },
  {
   "cell_type": "markdown",
   "metadata": {},
   "source": [
    "First create the objects in the GHF class."
   ]
  },
  {
   "cell_type": "code",
   "execution_count": null,
   "metadata": {},
   "outputs": [],
   "source": [
    "h_3_g = GHF.MF(h3, 3)\n",
    "h_4_g = GHF.MF(h4, 4)\n",
    "h_5_g = GHF.MF(h5, 5)\n",
    "h_6_g = GHF.MF(h6, 6)\n",
    "h_7_g = GHF.MF(h7, 7)\n",
    "h_8_g = GHF.MF(h8, 8)\n",
    "h_9_g = GHF.MF(h9, 9)\n",
    "h_10_g = GHF.MF(h10, 10)\n",
    "h_11_g = GHF.MF(h11, 11)\n",
    "h_12_g = GHF.MF(h12, 12)\n",
    "h_13_g = GHF.MF(h13, 13)\n",
    "h_14_g = GHF.MF(h14, 14)\n",
    "h_15_g = GHF.MF(h15, 15)"
   ]
  },
  {
   "cell_type": "markdown",
   "metadata": {},
   "source": [
    "Then calculate the energies. We don't use DIIS, since this sometimes leads to another converged solution and provides difficulties when trying to rotate away from this solution."
   ]
  },
  {
   "cell_type": "code",
   "execution_count": null,
   "metadata": {},
   "outputs": [],
   "source": [
    "ghf_h3 = h_3_g.diis()\n",
    "ghf_h4 = h_4_g.diis()\n",
    "ghf_h5 = h_5_g.diis()\n",
    "ghf_h6 = h_6_g.diis()\n",
    "ghf_h7 = h_7_g.diis()\n",
    "ghf_h8 = h_8_g.diis()\n",
    "ghf_h9 = h_9_g.diis()\n",
    "ghf_h10 = h_10_g.diis()\n",
    "ghf_h11 = h_11_g.diis()\n",
    "ghf_h12 = h_12_g.diis()\n",
    "ghf_h13 = h_13_g.diis()\n",
    "ghf_h14 = h_14_g.diis()\n",
    "ghf_h15 = h_15_g.diis()"
   ]
  },
  {
   "cell_type": "markdown",
   "metadata": {
    "variables": {
     "ghf_h10[0]": "-5.393541465149276",
     "ghf_h10[1]": "8",
     "ghf_h11[0]": "-5.8593938757978705",
     "ghf_h11[1]": "18",
     "ghf_h12[0]": "-6.354742986360403",
     "ghf_h12[1]": "9",
     "ghf_h13[0]": "-6.946518342202168",
     "ghf_h13[1]": "18",
     "ghf_h14[0]": "-7.527699238606537",
     "ghf_h14[1]": "8",
     "ghf_h15[0]": "-8.019257489095924",
     "ghf_h15[1]": "18",
     "ghf_h3[0]": "-1.5062743202756033",
     "ghf_h3[1]": "14",
     "ghf_h4[0]": "-1.9196374534240985",
     "ghf_h4[1]": "16",
     "ghf_h5[0]": "-2.585954415372754",
     "ghf_h5[1]": "34",
     "ghf_h6[0]": "-3.2496082173277294",
     "ghf_h6[1]": "7",
     "ghf_h7[0]": "-3.684394656677915",
     "ghf_h7[1]": "14",
     "ghf_h8[0]": "-4.167621820017054",
     "ghf_h8[1]": "8",
     "ghf_h9[0]": "-4.783201475276574",
     "ghf_h9[1]": "14"
    }
   },
   "source": [
    "| Molecule | Hartree-Fock method | Energy (Hartree) | # iterations\n",
    "| --- | --- | --- | --- |\n",
    "| $H_3$ | GHF | {{ghf_h3[0]}} | {{ghf_h3[1]}} |\n",
    "| $H_4$ | GHF | {{ghf_h4[0]}} | {{ghf_h4[1]}} |\n",
    "| $H_5$ | GHF | {{ghf_h5[0]}} | {{ghf_h5[1]}} |\n",
    "| $H_6$ | GHF | {{ghf_h6[0]}} | {{ghf_h6[1]}} |\n",
    "| $H_7$ | GHF | {{ghf_h7[0]}} | {{ghf_h7[1]}} |\n",
    "| $H_8$ | GHF | {{ghf_h8[0]}} | {{ghf_h8[1]}} |\n",
    "| $H_9$ | GHF | {{ghf_h9[0]}} | {{ghf_h9[1]}} |\n",
    "| $H_{10}$ | GHF | {{ghf_h10[0]}} | {{ghf_h10[1]}} |\n",
    "| $H_{11}$ | GHF | {{ghf_h11[0]}} | {{ghf_h11[1]}} |\n",
    "| $H_{12}$ | GHF | {{ghf_h12[0]}} | {{ghf_h12[1]}} |\n",
    "| $H_{13}$ | GHF | {{ghf_h13[0]}} | {{ghf_h13[1]}} |\n",
    "| $H_{14}$ | GHF | {{ghf_h14[0]}} | {{ghf_h14[1]}} |\n",
    "| $H_{15}$ | GHF | {{ghf_h15[0]}} | {{ghf_h15[1]}} |"
   ]
  },
  {
   "cell_type": "markdown",
   "metadata": {},
   "source": [
    "Let's look at the stability analyses, in order to know where we can go lower in energy."
   ]
  },
  {
   "cell_type": "code",
   "execution_count": null,
   "metadata": {},
   "outputs": [],
   "source": [
    "print(\"Checking H_3 stability\")\n",
    "print(\"----------------------\")\n",
    "rot_mo_3 = h_3_g.stability_analysis('internal')\n",
    "h_3_g.stability_analysis('external')\n",
    "print(\" \")\n",
    "\n",
    "print(\"Checking H_4 stability\")\n",
    "print(\"----------------------\")\n",
    "rot_mo_4 = h_4_g.stability_analysis('internal')\n",
    "h_4_g.stability_analysis('external')\n",
    "print(\" \")\n",
    "\n",
    "print(\"Checking H_5 stability\")\n",
    "print(\"----------------------\")\n",
    "rot_mo_5 = h_5_g.stability_analysis('internal')\n",
    "h_5_g.stability_analysis('external')\n",
    "print(\" \")\n",
    "\n",
    "print(\"Checking H_6 stability\")\n",
    "print(\"----------------------\")\n",
    "rot_mo_6 = h_6_g.stability_analysis('internal')\n",
    "h_6_g.stability_analysis('external')\n",
    "print(\" \")\n",
    "\n",
    "print(\"Checking H_7 stability\")\n",
    "print(\"----------------------\")\n",
    "rot_mo_7 = h_7_g.stability_analysis('internal')\n",
    "h_7_g.stability_analysis('external')\n",
    "print(\" \")\n",
    "\n",
    "print(\"Checking H_8 stability\")\n",
    "print(\"----------------------\")\n",
    "rot_mo_8 = h_8_g.stability_analysis('internal')\n",
    "h_8_g.stability_analysis('external')\n",
    "print(\" \")\n",
    "\n",
    "print(\"Checking H_9 stability\")\n",
    "print(\"----------------------\")\n",
    "rot_mo_9 = h_9_g.stability_analysis('internal')\n",
    "h_9_g.stability_analysis('external')\n",
    "print(\" \")\n",
    "\n",
    "print(\"Checking H_10 stability\")\n",
    "print(\"-----------------------\")\n",
    "rot_mo_10 = h_10_g.stability_analysis('internal')\n",
    "h_10_g.stability_analysis('external')\n",
    "print(\" \")\n",
    "\n",
    "print(\"Checking H_11 stability\")\n",
    "print(\"-----------------------\")\n",
    "rot_mo_11 = h_11_g.stability_analysis('internal')\n",
    "h_11_g.stability_analysis('external')\n",
    "print(\" \")\n",
    "\n",
    "print(\"Checking H_12 stability\")\n",
    "print(\"-----------------------\")\n",
    "rot_mo_12 = h_12_g.stability_analysis('internal')\n",
    "h_12_g.stability_analysis('external')\n",
    "print(\" \")\n",
    "\n",
    "print(\"Checking H_13 stability\")\n",
    "print(\"-----------------------\")\n",
    "rot_mo_13 = h_13_g.stability_analysis('internal')\n",
    "h_13_g.stability_analysis('external')\n",
    "print(\" \")\n",
    "\n",
    "print(\"Checking H_14 stability\")\n",
    "print(\"-----------------------\")\n",
    "rot_mo_14 = h_14_g.stability_analysis('internal')\n",
    "h_14_g.stability_analysis('external')\n",
    "print(\" \")\n",
    "\n",
    "print(\"Checking H_15 stability\")\n",
    "print(\"-----------------------\")\n",
    "rot_mo_15 = h_15_g.stability_analysis('internal')\n",
    "h_15_g.stability_analysis('external')"
   ]
  },
  {
   "cell_type": "markdown",
   "metadata": {},
   "source": [
    "The first thing we follow is always the internal stability analysis, until an internally stable solution is found. After that, The external stability analysis must be checked and followed. $H_6$ and $H_{10}$ are fully stable solutions already. We will follow the rest."
   ]
  },
  {
   "cell_type": "code",
   "execution_count": null,
   "metadata": {},
   "outputs": [],
   "source": [
    "ghf_h3 = h_3_g.scf(rot_mo_3)\n",
    "ghf_h4 = h_4_g.scf(rot_mo_4)\n",
    "ghf_h5 = h_5_g.scf(rot_mo_5)\n",
    "ghf_h7 = h_7_g.scf(rot_mo_7)\n",
    "ghf_h8 = h_8_g.scf(rot_mo_8)\n",
    "ghf_h9 = h_9_g.scf(rot_mo_9)\n",
    "ghf_h11 = h_11_g.scf(rot_mo_11)\n",
    "ghf_h12 = h_12_g.scf(rot_mo_12)\n",
    "ghf_h13 = h_13_g.scf(rot_mo_13)\n",
    "ghf_h14 = h_14_g.scf(rot_mo_14)\n",
    "ghf_h15 = h_15_g.scf(rot_mo_15)"
   ]
  },
  {
   "cell_type": "markdown",
   "metadata": {
    "variables": {
     "ghf_h10[0]": "-5.393541465149276",
     "ghf_h10[1]": "8",
     "ghf_h11[0]": "-5.8693157801002585",
     "ghf_h11[1]": "145",
     "ghf_h12[0]": "-6.423113768992785",
     "ghf_h12[1]": "176",
     "ghf_h13[0]": "-6.959102869501052",
     "ghf_h13[1]": "129",
     "ghf_h14[0]": "-7.531851094092509",
     "ghf_h14[1]": "179",
     "ghf_h15[0]": "-8.035541550465542",
     "ghf_h15[1]": "130",
     "ghf_h3[0]": "-1.5077312813105173",
     "ghf_h3[1]": "903",
     "ghf_h4[0]": "-2.0210882476658463",
     "ghf_h4[1]": "929",
     "ghf_h5[0]": "-2.591266602896848",
     "ghf_h5[1]": "252",
     "ghf_h6[0]": "-3.2496082173277294",
     "ghf_h6[1]": "7",
     "ghf_h7[0]": "-3.6899063396460825",
     "ghf_h7[1]": "213",
     "ghf_h8[0]": "-4.2391453455402015",
     "ghf_h8[1]": "164",
     "ghf_h9[0]": "-4.79182691146903",
     "ghf_h9[1]": "138"
    }
   },
   "source": [
    "| Molecule | Hartree-Fock method | Energy (Hartree) | # iterations\n",
    "| --- | --- | --- | --- |\n",
    "| $H_3$ | GHF | {{ghf_h3[0]}} | {{ghf_h3[1]}} |\n",
    "| $H_4$ | GHF | {{ghf_h4[0]}} | {{ghf_h4[1]}} |\n",
    "| $H_5$ | GHF | {{ghf_h5[0]}} | {{ghf_h5[1]}} |\n",
    "| $H_6$ | GHF | {{ghf_h6[0]}} | {{ghf_h6[1]}} |\n",
    "| $H_7$ | GHF | {{ghf_h7[0]}} | {{ghf_h7[1]}} |\n",
    "| $H_8$ | GHF | {{ghf_h8[0]}} | {{ghf_h8[1]}} |\n",
    "| $H_9$ | GHF | {{ghf_h9[0]}} | {{ghf_h9[1]}} |\n",
    "| $H_{10}$ | GHF | {{ghf_h10[0]}} | {{ghf_h10[1]}} |\n",
    "| $H_{11}$ | GHF | {{ghf_h11[0]}} | {{ghf_h11[1]}} |\n",
    "| $H_{12}$ | GHF | {{ghf_h12[0]}} | {{ghf_h12[1]}} |\n",
    "| $H_{13}$ | GHF | {{ghf_h13[0]}} | {{ghf_h13[1]}} |\n",
    "| $H_{14}$ | GHF | {{ghf_h14[0]}} | {{ghf_h14[1]}} |\n",
    "| $H_{15}$ | GHF | {{ghf_h15[0]}} | {{ghf_h15[1]}} |"
   ]
  },
  {
   "cell_type": "markdown",
   "metadata": {},
   "source": [
    "Now, the stability of the new solutions should be checked."
   ]
  },
  {
   "cell_type": "code",
   "execution_count": null,
   "metadata": {},
   "outputs": [],
   "source": [
    "print(\"Checking H_3 stability\")\n",
    "print(\"----------------------\")\n",
    "rot_mo_3 = h_3_g.stability_analysis('internal')\n",
    "h_3_g.stability_analysis('external')\n",
    "print(\" \")\n",
    "\n",
    "print(\"Checking H_4 stability\")\n",
    "print(\"----------------------\")\n",
    "rot_mo_4 = h_4_g.stability_analysis('internal')\n",
    "h_4_g.stability_analysis('external')\n",
    "print(\" \")\n",
    "\n",
    "print(\"Checking H_5 stability\")\n",
    "print(\"----------------------\")\n",
    "rot_mo_5 = h_5_g.stability_analysis('internal')\n",
    "h_5_g.stability_analysis('external')\n",
    "print(\" \")\n",
    "\n",
    "print(\"Checking H_6 stability\")\n",
    "print(\"----------------------\")\n",
    "rot_mo_6 = h_6_g.stability_analysis('internal')\n",
    "h_6_g.stability_analysis('external')\n",
    "print(\" \")\n",
    "\n",
    "print(\"Checking H_7 stability\")\n",
    "print(\"----------------------\")\n",
    "rot_mo_7 = h_7_g.stability_analysis('internal')\n",
    "h_7_g.stability_analysis('external')\n",
    "print(\" \")\n",
    "\n",
    "print(\"Checking H_8 stability\")\n",
    "print(\"----------------------\")\n",
    "rot_mo_8 = h_8_g.stability_analysis('internal')\n",
    "h_8_g.stability_analysis('external')\n",
    "print(\" \")\n",
    "\n",
    "print(\"Checking H_9 stability\")\n",
    "print(\"----------------------\")\n",
    "rot_mo_9 = h_9_g.stability_analysis('internal')\n",
    "h_9_g.stability_analysis('external')\n",
    "print(\" \")\n",
    "\n",
    "print(\"Checking H_10 stability\")\n",
    "print(\"-----------------------\")\n",
    "rot_mo_10 = h_10_g.stability_analysis('internal')\n",
    "h_10_g.stability_analysis('external')\n",
    "print(\" \")\n",
    "\n",
    "print(\"Checking H_11 stability\")\n",
    "print(\"-----------------------\")\n",
    "rot_mo_11 = h_11_g.stability_analysis('internal')\n",
    "h_11_g.stability_analysis('external')\n",
    "print(\" \")\n",
    "\n",
    "print(\"Checking H_12 stability\")\n",
    "print(\"-----------------------\")\n",
    "rot_mo_12 = h_12_g.stability_analysis('internal')\n",
    "h_12_g.stability_analysis('external')\n",
    "print(\" \")\n",
    "\n",
    "print(\"Checking H_13 stability\")\n",
    "print(\"-----------------------\")\n",
    "rot_mo_13 = h_13_g.stability_analysis('internal')\n",
    "h_13_g.stability_analysis('external')\n",
    "print(\" \")\n",
    "\n",
    "print(\"Checking H_14 stability\")\n",
    "print(\"-----------------------\")\n",
    "rot_mo_14 = h_14_g.stability_analysis('internal')\n",
    "h_14_g.stability_analysis('external')\n",
    "print(\" \")\n",
    "\n",
    "print(\"Checking H_15 stability\")\n",
    "print(\"-----------------------\")\n",
    "rot_mo_15 = h_15_g.stability_analysis('internal')\n",
    "h_15_g.stability_analysis('external')"
   ]
  },
  {
   "cell_type": "markdown",
   "metadata": {},
   "source": [
    "## Compare UHF and GHF"
   ]
  },
  {
   "cell_type": "code",
   "execution_count": null,
   "metadata": {},
   "outputs": [],
   "source": [
    "h = gto.M(atom = 'h 0 0 0', spin = 1, basis = 'cc-pvdz')\n",
    "ref = GHF.MF(h, 1).scf()[0]"
   ]
  },
  {
   "cell_type": "markdown",
   "metadata": {},
   "source": [
    "We compare each UHF energy to the energy of an equal amount of hydrogens at infinite distance."
   ]
  },
  {
   "cell_type": "code",
   "execution_count": null,
   "metadata": {},
   "outputs": [],
   "source": [
    "u3 = np.around(((uhf_h3[0] - 3 * ref) * 627.5), 2)\n",
    "u4 = np.around(((uhf_h4[0] - 4 * ref) * 627.5), 2)\n",
    "u5 = np.around(((uhf_h5[0] - 5 * ref) * 627.5), 2)\n",
    "u6 = np.around(((uhf_h6[0] - 6 * ref) * 627.5), 2)\n",
    "u7 = np.around(((uhf_h7[0] - 7 * ref) * 627.5), 2)\n",
    "u8 = np.around(((uhf_h8[0] - 8 * ref) * 627.5), 2)\n",
    "u9 = np.around(((uhf_h9[0] - 9 * ref) * 627.5), 2)\n",
    "u10 = np.around(((uhf_h10[0] - 10 * ref) * 627.5), 2)\n",
    "u11 = np.around(((uhf_h11[0] - 11 * ref) * 627.5), 2)\n",
    "u12 = np.around(((uhf_h12[0] - 12 * ref) * 627.5), 2)\n",
    "u13 = np.around(((uhf_h13[0] - 13 * ref) * 627.5), 2)\n",
    "u14 = np.around(((uhf_h14[0] - 14 * ref) * 627.5), 2)\n",
    "u15 = np.around(((uhf_h15[0] - 15 * ref) * 627.5), 2)"
   ]
  },
  {
   "cell_type": "markdown",
   "metadata": {},
   "source": [
    "We do the same for the GHF results."
   ]
  },
  {
   "cell_type": "code",
   "execution_count": null,
   "metadata": {},
   "outputs": [],
   "source": [
    "g3 = np.around(((ghf_h3[0] - 3 * ref) * 627.5), 2)\n",
    "g4 = np.around(((ghf_h4[0] - 4 * ref) * 627.5), 2)\n",
    "g5 = np.around(((ghf_h5[0] - 5 * ref) * 627.5), 2)\n",
    "g6 = np.around(((ghf_h6[0] - 6 * ref) * 627.5), 2)\n",
    "g7 = np.around(((ghf_h7[0] - 7 * ref) * 627.5), 2)\n",
    "g8 = np.around(((ghf_h8[0] - 8 * ref) * 627.5), 2)\n",
    "g9 = np.around(((ghf_h9[0] - 9 * ref) * 627.5), 2)\n",
    "g10 = np.around(((ghf_h10[0] - 10 * ref) * 627.5), 2)\n",
    "g11 = np.around(((ghf_h11[0] - 11 * ref) * 627.5), 2)\n",
    "g12 = np.around(((ghf_h12[0] - 12 * ref) * 627.5), 2)\n",
    "g13 = np.around(((ghf_h13[0] - 13 * ref) * 627.5), 2)\n",
    "g14 = np.around(((ghf_h14[0] - 14 * ref) * 627.5), 2)\n",
    "g15 = np.around(((ghf_h15[0] - 15 * ref) * 627.5), 2)"
   ]
  },
  {
   "cell_type": "code",
   "execution_count": null,
   "metadata": {},
   "outputs": [],
   "source": [
    "d3 = np.around(g3-u3, 2)\n",
    "d4 = np.around(g4-u4, 2)\n",
    "d5 = np.around(g5-u5, 2)\n",
    "d6 = np.around(g6-u6, 2)\n",
    "d7 = np.around(g7-u7, 2)\n",
    "d8 = np.around(g8-u8, 2)\n",
    "d9 = np.around(g9-u9, 2)\n",
    "d10 = np.around(g10-u10, 2)\n",
    "d11 = np.around(g11-u11, 2)\n",
    "d12 = np.around(g12-u12, 2)\n",
    "d13 = np.around(g13-u13, 2)\n",
    "d14 = np.around(g14-u14, 2)\n",
    "d15 = np.around(g15-u15, 2)"
   ]
  },
  {
   "cell_type": "markdown",
   "metadata": {
    "variables": {
     "d10": "0.0",
     "d11": "-6.23",
     "d12": "0.0",
     "d13": "-7.89",
     "d14": "0.0",
     "d15": "-10.21",
     "d3": "-0.91",
     "d4": "0.0",
     "d5": "-3.33",
     "d6": "0.0",
     "d7": "-3.46",
     "d8": "0.0",
     "d9": "-5.42",
     "g10": "-251.48",
     "g11": "-236.73",
     "g12": "-270.94",
     "g13": "-293.97",
     "g14": "-340.08",
     "g15": "-342.84",
     "g3": "-6.21",
     "g4": "-15.04",
     "g5": "-59.53",
     "g6": "-159.35",
     "g7": "-122.34",
     "g8": "-153.69",
     "g9": "-187.2",
     "u10": "-251.48",
     "u11": "-230.5",
     "u12": "-270.94",
     "u13": "-286.08",
     "u14": "-340.08",
     "u15": "-332.63",
     "u3": "-5.3",
     "u4": "-15.04",
     "u5": "-56.2",
     "u6": "-159.35",
     "u7": "-118.88",
     "u8": "-153.69",
     "u9": "-181.78"
    }
   },
   "source": [
    "| Molecule | $\\Delta$ UHF ($\\frac{kcal}{mol}$) | $\\Delta$ GHF ($\\frac{kcal}{mol}$) | $\\Delta$(GHF - UHF)($\\frac{kcal}{mol}$)\n",
    "| --- | --- | --- | --- |\n",
    "| $H_3$ | {{u3}} | {{g3}} | {{d3}} |\n",
    "| $H_4$ | {{u4}} | {{g4}} | {{d4}} |\n",
    "| $H_5$ | {{u5}} | {{g5}} | {{d5}} |\n",
    "| $H_6$ | {{u6}} | {{g6}} | {{d6}} |\n",
    "| $H_7$ | {{u7}} | {{g7}} | {{d7}} |\n",
    "| $H_8$ | {{u8}} | {{g8}} | {{d8}} |\n",
    "| $H_9$ | {{u9}} | {{g9}} | {{d9}} |\n",
    "| $H_{10}$ | {{u10}} | {{g10}} | {{d10}} |\n",
    "| $H_{11}$ | {{u11}} | {{g11}} | {{d11}} |\n",
    "| $H_{12}$ | {{u12}} | {{g12}} | {{d12}} |\n",
    "| $H_{13}$ | {{u13}} | {{g13}} | {{d13}} |\n",
    "| $H_{14}$ | {{u14}} | {{g14}} | {{d14}} |\n",
    "| $H_{15}$ | {{u15}} | {{g15}} | {{d15}} |"
   ]
  },
  {
   "cell_type": "markdown",
   "metadata": {},
   "source": [
    "## Conclusions"
   ]
  },
  {
   "cell_type": "markdown",
   "metadata": {},
   "source": [
    "We can see that when following stability analysis, real GHF is enough to find the lowest lying energies and there is no need to resort to complex methods. We'll come back to this later."
   ]
  },
  {
   "cell_type": "markdown",
   "metadata": {},
   "source": [
    "# Spin expectation values"
   ]
  },
  {
   "cell_type": "markdown",
   "metadata": {},
   "source": [
    "## Unrestricted Hartree-Fock"
   ]
  },
  {
   "cell_type": "markdown",
   "metadata": {},
   "source": [
    "An unrestricted Hartree-Fock wavefunction no longer is an eigenfunction of $S^2$. This means that spin contamination will show in the $S^2$ expectation value. It is however still an eigenfunction of $S_z$, which means that the expectation value for this operator will either be 0 or 0.5."
   ]
  },
  {
   "cell_type": "code",
   "execution_count": null,
   "metadata": {},
   "outputs": [],
   "source": [
    "mo_3 = h_3.get_mo_coeff()\n",
    "s_values_h3 = np.around(spin.uhf(h_3.n_a, h_3.n_b, mo_3[0], mo_3[1], h_3.get_ovlp()), 5)\n",
    "\n",
    "mo_4 = h_4.get_mo_coeff()\n",
    "s_values_h4 = np.around(spin.uhf(h_4.n_a, h_4.n_b, mo_4[0], mo_4[1], h_4.get_ovlp()), 5)\n",
    "\n",
    "mo_5 = h_5.get_mo_coeff()\n",
    "s_values_h5 = np.around(spin.uhf(h_5.n_a, h_5.n_b, mo_5[0], mo_5[1], h_5.get_ovlp()), 5)\n",
    "\n",
    "mo_6 = h_6.get_mo_coeff()\n",
    "s_values_h6 = np.around(spin.uhf(h_6.n_a, h_6.n_b, mo_6[0], mo_6[1], h_6.get_ovlp()), 5)\n",
    "\n",
    "mo_7 = h_7.get_mo_coeff()\n",
    "s_values_h7 = np.around(spin.uhf(h_7.n_a, h_7.n_b, mo_7[0], mo_7[1], h_7.get_ovlp()), 5)\n",
    "\n",
    "mo_8 = h_8.get_mo_coeff()\n",
    "s_values_h8 = np.around(spin.uhf(h_8.n_a, h_8.n_b, mo_8[0], mo_8[1], h_8.get_ovlp()), 5)\n",
    "\n",
    "mo_9 = h_9.get_mo_coeff()\n",
    "s_values_h9 = np.around(spin.uhf(h_9.n_a, h_9.n_b, mo_9[0], mo_9[1], h_9.get_ovlp()), 5)\n",
    "\n",
    "mo_10 = h_10.get_mo_coeff()\n",
    "s_values_h10 = np.around(spin.uhf(h_10.n_a, h_10.n_b, mo_10[0], mo_10[1], h_10.get_ovlp()), 5)\n",
    "\n",
    "mo_11 = h_11.get_mo_coeff()\n",
    "s_values_h11 = np.around(spin.uhf(h_11.n_a, h_11.n_b, mo_11[0], mo_11[1], h_11.get_ovlp()), 5)\n",
    "\n",
    "mo_12 = h_12.get_mo_coeff()\n",
    "s_values_h12 = np.around(spin.uhf(h_12.n_a, h_12.n_b, mo_12[0], mo_12[1], h_12.get_ovlp()), 5)\n",
    "\n",
    "mo_13 = h_13.get_mo_coeff()\n",
    "s_values_h13 = np.around(spin.uhf(h_13.n_a, h_13.n_b, mo_13[0], mo_13[1], h_13.get_ovlp()),5 )\n",
    "\n",
    "mo_14 = h_14.get_mo_coeff()\n",
    "s_values_h14 = np.around(spin.uhf(h_14.n_a, h_14.n_b, mo_14[0], mo_14[1], h_14.get_ovlp()), 5)\n",
    "\n",
    "mo_15 = h_15.get_mo_coeff()\n",
    "s_values_h15 = np.around(spin.uhf(h_15.n_a, h_15.n_b, mo_15[0], mo_15[1], h_15.get_ovlp()), 5)"
   ]
  },
  {
   "cell_type": "markdown",
   "metadata": {
    "variables": {
     "s_values_h10[0]": "-0.0",
     "s_values_h10[1]": "0.0",
     "s_values_h10[2]": "1.0",
     "s_values_h11[0]": "0.83277",
     "s_values_h11[1]": "0.5",
     "s_values_h11[2]": "2.08112",
     "s_values_h12[0]": "1.28111",
     "s_values_h12[1]": "0.0",
     "s_values_h12[2]": "2.47476",
     "s_values_h13[0]": "0.88345",
     "s_values_h13[1]": "0.5",
     "s_values_h13[2]": "2.12927",
     "s_values_h14[0]": "0.51173",
     "s_values_h14[1]": "0.0",
     "s_values_h14[2]": "1.74555",
     "s_values_h15[0]": "1.01934",
     "s_values_h15[1]": "0.5",
     "s_values_h15[2]": "2.2533",
     "s_values_h3[0]": "0.77355",
     "s_values_h3[1]": "0.5",
     "s_values_h3[2]": "2.02341",
     "s_values_h4[0]": "1.05653",
     "s_values_h4[1]": "0.0",
     "s_values_h4[2]": "2.28607",
     "s_values_h5[0]": "0.77591",
     "s_values_h5[1]": "0.5",
     "s_values_h5[2]": "2.02575",
     "s_values_h6[0]": "-0.0",
     "s_values_h6[1]": "0.0",
     "s_values_h6[2]": "1.0",
     "s_values_h7[0]": "0.77855",
     "s_values_h7[1]": "0.5",
     "s_values_h7[2]": "2.02835",
     "s_values_h8[0]": "1.14955",
     "s_values_h8[1]": "0.0",
     "s_values_h8[2]": "2.36605",
     "s_values_h9[0]": "0.8078",
     "s_values_h9[1]": "0.5",
     "s_values_h9[2]": "2.05698"
    }
   },
   "source": [
    "| Molecule | <$\\hat{S^2}$> | <$\\hat{S_z}$> | Multiplicity (2S+1)\n",
    "| --- | --- | --- | --- |\n",
    "| $H_3$ | {{s_values_h3[0]}} | {{s_values_h3[1]}} | {{s_values_h3[2]}} |\n",
    "| $H_4$ | {{s_values_h4[0]}} | {{s_values_h4[1]}} | {{s_values_h4[2]}} |\n",
    "| $H_5$ | {{s_values_h5[0]}} | {{s_values_h5[1]}} | {{s_values_h5[2]}} |\n",
    "| $H_6$ | {{s_values_h6[0]}} | {{s_values_h6[1]}} | {{s_values_h6[2]}} |\n",
    "| $H_7$ | {{s_values_h7[0]}} | {{s_values_h7[1]}} | {{s_values_h7[2]}} |\n",
    "| $H_8$ | {{s_values_h8[0]}} | {{s_values_h8[1]}} | {{s_values_h8[2]}} |\n",
    "| $H_9$ | {{s_values_h9[0]}} | {{s_values_h9[1]}} | {{s_values_h9[2]}} |\n",
    "| $H_{10}$ | {{s_values_h10[0]}} | {{s_values_h10[1]}} | {{s_values_h10[2]}} |\n",
    "| $H_{11}$ | {{s_values_h11[0]}} | {{s_values_h11[1]}} | {{s_values_h11[2]}} |\n",
    "| $H_{12}$ | {{s_values_h12[0]}} | {{s_values_h12[1]}} | {{s_values_h12[2]}} |\n",
    "| $H_{13}$ | {{s_values_h13[0]}} | {{s_values_h13[1]}} | {{s_values_h13[2]}} |\n",
    "| $H_{14}$ | {{s_values_h14[0]}} | {{s_values_h14[1]}} | {{s_values_h14[2]}} |\n",
    "| $H_{15}$ | {{s_values_h15[0]}} | {{s_values_h15[1]}} | {{s_values_h15[2]}} |"
   ]
  },
  {
   "cell_type": "markdown",
   "metadata": {},
   "source": [
    "To visualize this, let's plot the expectation values."
   ]
  },
  {
   "cell_type": "code",
   "execution_count": null,
   "metadata": {},
   "outputs": [],
   "source": [
    "s_2 = [s_values_h3[0], s_values_h4[0], s_values_h5[0], s_values_h6[0], s_values_h7[0], s_values_h8[0], s_values_h9[0], s_values_h10[0], s_values_h11[0], s_values_h12[0], s_values_h13[0], s_values_h14[0], s_values_h15[0]]\n",
    "s_z = [s_values_h3[1], s_values_h4[1], s_values_h5[1], s_values_h6[1], s_values_h7[1], s_values_h8[1], s_values_h9[1], s_values_h10[1], s_values_h11[1], s_values_h12[1], s_values_h13[1], s_values_h14[1], s_values_h15[1]]\n",
    "x_axis = np.arange(3, 16)"
   ]
  },
  {
   "cell_type": "code",
   "execution_count": null,
   "metadata": {},
   "outputs": [],
   "source": [
    "plt.plot(x_axis, s_2, label='<S^2>', linestyle='--', alpha=0.5)\n",
    "plt.plot(x_axis, s_z, label='<S_z>', linestyle=':', alpha=0.5)\n",
    "plt.scatter(x_axis, s_2, marker='x', alpha=0.5)\n",
    "plt.scatter(x_axis, s_z, marker='v', alpha=0.5)\n",
    "plt.axis([3, 15, 0, 1.5])\n",
    "plt.xticks(x_axis)\n",
    "plt.xlabel('size of the hydrogen ring')\n",
    "plt.ylabel('value (a.u.)')\n",
    "plt.title('UHF spin expectation values')\n",
    "plt.legend()\n",
    "plt.show()"
   ]
  },
  {
   "cell_type": "markdown",
   "metadata": {},
   "source": [
    "## Generalised Hartree-Fock"
   ]
  },
  {
   "cell_type": "markdown",
   "metadata": {},
   "source": [
    "A generalised Hartree-Fock wave function also breaks $S_z$ symmetry. This will show in the expectation values. All $S_z$ values will drop to zero, since the spins will be positioned in a way that they even each other out."
   ]
  },
  {
   "cell_type": "code",
   "execution_count": null,
   "metadata": {},
   "outputs": [],
   "source": [
    "mo_3_g = h_3_g.get_mo_coeff()\n",
    "s_values_h3_g = np.around(spin.ghf(mo_3_g, h_3_g.number_of_electrons, Scf.trans_matrix(h_3_g.get_ovlp())), 5)\n",
    "\n",
    "mo_4_g = h_4_g.get_mo_coeff()\n",
    "s_values_h4_g = np.around(spin.ghf(mo_4_g, h_4_g.number_of_electrons, Scf.trans_matrix(h_4_g.get_ovlp())), 5)\n",
    "\n",
    "mo_5_g = h_5_g.get_mo_coeff()\n",
    "s_values_h5_g = np.around(spin.ghf(mo_5_g, h_5_g.number_of_electrons, Scf.trans_matrix(h_5_g.get_ovlp())), 5)\n",
    "\n",
    "mo_6_g = h_6_g.get_mo_coeff()\n",
    "s_values_h6_g = np.around(spin.ghf(mo_6_g, h_6_g.number_of_electrons, Scf.trans_matrix(h_6_g.get_ovlp())), 5)\n",
    "\n",
    "mo_7_g = h_7_g.get_mo_coeff()\n",
    "s_values_h7_g = np.around(spin.ghf(mo_7_g, h_7_g.number_of_electrons, Scf.trans_matrix(h_7_g.get_ovlp())), 5)\n",
    "\n",
    "mo_8_g = h_8_g.get_mo_coeff()\n",
    "s_values_h8_g = np.around(spin.ghf(mo_8_g, h_8_g.number_of_electrons, Scf.trans_matrix(h_8_g.get_ovlp())), 5)\n",
    "\n",
    "mo_9_g = h_9_g.get_mo_coeff()\n",
    "s_values_h9_g = np.around(spin.ghf(mo_9_g, h_9_g.number_of_electrons, Scf.trans_matrix(h_9_g.get_ovlp())), 5)\n",
    "\n",
    "mo_10_g = h_10_g.get_mo_coeff()\n",
    "s_values_h10_g = np.around(spin.ghf(mo_10_g, h_10_g.number_of_electrons, Scf.trans_matrix(h_10_g.get_ovlp())), 5)\n",
    "\n",
    "mo_11_g = h_11_g.get_mo_coeff()\n",
    "s_values_h11_g = np.around(spin.ghf(mo_11_g, h_11_g.number_of_electrons, Scf.trans_matrix(h_11_g.get_ovlp())), 5)\n",
    "\n",
    "mo_12_g = h_12_g.get_mo_coeff()\n",
    "s_values_h12_g = np.around(spin.ghf(mo_12_g, h_12_g.number_of_electrons, Scf.trans_matrix(h_12_g.get_ovlp())), 5)\n",
    "\n",
    "mo_13_g = h_13_g.get_mo_coeff()\n",
    "s_values_h13_g = np.around(spin.ghf(mo_13_g, h_13_g.number_of_electrons, Scf.trans_matrix(h_13_g.get_ovlp())), 5)\n",
    "\n",
    "mo_14_g = h_14_g.get_mo_coeff()\n",
    "s_values_h14_g = np.around(spin.ghf(mo_14_g, h_14_g.number_of_electrons, Scf.trans_matrix(h_14_g.get_ovlp())), 5)\n",
    "\n",
    "mo_15_g = h_15_g.get_mo_coeff()\n",
    "s_values_h15_g = np.around(spin.ghf(mo_15_g, h_15_g.number_of_electrons, Scf.trans_matrix(h_15_g.get_ovlp())), 5)"
   ]
  },
  {
   "cell_type": "markdown",
   "metadata": {
    "variables": {
     "s_values_h10_g[0]": "-0.0",
     "s_values_h10_g[1]": "0.0",
     "s_values_h10_g[2]": "1.0",
     "s_values_h11_g[0]": "-1e-05",
     "s_values_h11_g[1]": "1.00329",
     "s_values_h11_g[2]": "2.23901",
     "s_values_h12_g[0]": "0.0",
     "s_values_h12_g[1]": "1.28111",
     "s_values_h12_g[2]": "2.47476",
     "s_values_h13_g[0]": "1e-05",
     "s_values_h13_g[1]": "1.07061",
     "s_values_h13_g[2]": "2.29836",
     "s_values_h14_g[0]": "-0.0",
     "s_values_h14_g[1]": "0.51173",
     "s_values_h14_g[2]": "1.74555",
     "s_values_h15_g[0]": "0.0",
     "s_values_h15_g[1]": "1.2941",
     "s_values_h15_g[2]": "2.48524",
     "s_values_h3_g[0]": "5e-05",
     "s_values_h3_g[1]": "0.77907",
     "s_values_h3_g[2]": "2.02886",
     "s_values_h4_g[0]": "-9e-05",
     "s_values_h4_g[1]": "1.05653",
     "s_values_h4_g[2]": "2.28607",
     "s_values_h5_g[0]": "-2e-05",
     "s_values_h5_g[1]": "0.80452",
     "s_values_h5_g[2]": "2.0538",
     "s_values_h6_g[0]": "0.0",
     "s_values_h6_g[1]": "0.0",
     "s_values_h6_g[2]": "1.0",
     "s_values_h7_g[0]": "2e-05",
     "s_values_h7_g[1]": "0.82343",
     "s_values_h7_g[2]": "2.07213",
     "s_values_h8_g[0]": "-0.0",
     "s_values_h8_g[1]": "1.14955",
     "s_values_h8_g[2]": "2.36605",
     "s_values_h9_g[0]": "1e-05",
     "s_values_h9_g[1]": "0.87509",
     "s_values_h9_g[2]": "2.12141"
    }
   },
   "source": [
    "| Molecule | <$\\hat{S^2}$> | <$\\hat{S_z}$> | Multiplicity (2S+1)\n",
    "| --- | --- | --- | --- |\n",
    "| $H_3$ | {{s_values_h3_g[1]}} | {{s_values_h3_g[0]}} | {{s_values_h3_g[2]}} |\n",
    "| $H_4$ | {{s_values_h4_g[1]}} | {{s_values_h4_g[0]}} | {{s_values_h4_g[2]}} |\n",
    "| $H_5$ | {{s_values_h5_g[1]}} | {{s_values_h5_g[0]}} | {{s_values_h5_g[2]}} |\n",
    "| $H_6$ | {{s_values_h6_g[1]}} | {{s_values_h6_g[0]}} | {{s_values_h6_g[2]}} |\n",
    "| $H_7$ | {{s_values_h7_g[1]}} | {{s_values_h7_g[0]}} | {{s_values_h7_g[2]}} |\n",
    "| $H_8$ | {{s_values_h8_g[1]}} | {{s_values_h8_g[0]}} | {{s_values_h8_g[2]}} |\n",
    "| $H_9$ | {{s_values_h9_g[1]}} | {{s_values_h9_g[0]}} | {{s_values_h9_g[2]}} |\n",
    "| $H_{10}$ | {{s_values_h10_g[1]}} | {{s_values_h10_g[0]}} | {{s_values_h10_g[2]}} |\n",
    "| $H_{11}$ | {{s_values_h11_g[1]}} | {{s_values_h11_g[0]}} | {{s_values_h11_g[2]}} |\n",
    "| $H_{12}$ | {{s_values_h12_g[1]}} | {{s_values_h12_g[0]}} | {{s_values_h12_g[2]}} |\n",
    "| $H_{13}$ | {{s_values_h13_g[1]}} | {{s_values_h13_g[0]}} | {{s_values_h13_g[2]}} |\n",
    "| $H_{14}$ | {{s_values_h14_g[1]}} | {{s_values_h14_g[0]}} | {{s_values_h14_g[2]}} |\n",
    "| $H_{15}$ | {{s_values_h15_g[1]}} | {{s_values_h15_g[0]}} | {{s_values_h15_g[2]}} |"
   ]
  },
  {
   "cell_type": "markdown",
   "metadata": {},
   "source": [
    "Let's visualise these results as well."
   ]
  },
  {
   "cell_type": "code",
   "execution_count": null,
   "metadata": {},
   "outputs": [],
   "source": [
    "s_z_g = [s_values_h3_g[0], s_values_h4_g[0], s_values_h5_g[0], s_values_h6_g[0], s_values_h7_g[0], s_values_h8_g[0], s_values_h9_g[0], s_values_h10_g[0], s_values_h11_g[0], s_values_h12_g[0], s_values_h13_g[0], s_values_h14_g[0], s_values_h15_g[0]]\n",
    "s_2_g = [s_values_h3_g[1], s_values_h4_g[1], s_values_h5_g[1], s_values_h6_g[1], s_values_h7_g[1], s_values_h8_g[1], s_values_h9_g[1], s_values_h10_g[1], s_values_h11_g[1], s_values_h12_g[1], s_values_h13_g[1], s_values_h14_g[1], s_values_h15_g[1]]\n",
    "x_axis = np.arange(3, 16)"
   ]
  },
  {
   "cell_type": "code",
   "execution_count": null,
   "metadata": {
    "scrolled": true
   },
   "outputs": [],
   "source": [
    "plt.plot(x_axis, s_2_g, label='<S^2>', linestyle='--', alpha=0.5)\n",
    "plt.plot(x_axis, s_z_g, label='<S_z>', linestyle=':', alpha=0.5)\n",
    "plt.scatter(x_axis, s_2_g, marker='x', alpha=0.5)\n",
    "plt.scatter(x_axis, s_z_g, marker='v', alpha=0.5)\n",
    "plt.axis([3, 15, 0, 1.5])\n",
    "plt.xticks(x_axis)\n",
    "plt.xlabel('size of the hydrogen ring')\n",
    "plt.ylabel('value (a.u.)')\n",
    "plt.title('GHF spin expectation values')\n",
    "plt.legend()\n",
    "plt.show()"
   ]
  },
  {
   "cell_type": "markdown",
   "metadata": {},
   "source": [
    "## Energy vs. spin"
   ]
  },
  {
   "cell_type": "markdown",
   "metadata": {},
   "source": [
    "Let's see if we can find a connection between the amount of energy gained by using GHF and the increase in spin multiplicity."
   ]
  },
  {
   "cell_type": "code",
   "execution_count": null,
   "metadata": {},
   "outputs": [],
   "source": [
    "dm3 = s_values_h3_g[2] - s_values_h3[2]\n",
    "dm4 = s_values_h4_g[2] - s_values_h4[2]\n",
    "dm5 = s_values_h5_g[2] - s_values_h5[2]\n",
    "dm6 = s_values_h6_g[2] - s_values_h6[2]\n",
    "dm7 = s_values_h7_g[2] - s_values_h7[2]\n",
    "dm8 = s_values_h8_g[2] - s_values_h8[2]\n",
    "dm9 = s_values_h9_g[2] - s_values_h9[2]\n",
    "dm10 = s_values_h10_g[2] - s_values_h10[2]\n",
    "dm11 = s_values_h11_g[2] - s_values_h11[2]\n",
    "dm12 = s_values_h12_g[2] - s_values_h12[2]\n",
    "dm13 = s_values_h13_g[2] - s_values_h13[2]\n",
    "dm14 = s_values_h14_g[2] - s_values_h14[2]\n",
    "dm15 = s_values_h15_g[2] - s_values_h15[2]"
   ]
  },
  {
   "cell_type": "code",
   "execution_count": null,
   "metadata": {},
   "outputs": [],
   "source": [
    "delta_mult = [dm3, dm5, dm7, dm9, dm11, dm13, dm15]\n",
    "delta_e = [d3, d5, d7, d9, d11, d13, d15]"
   ]
  },
  {
   "cell_type": "code",
   "execution_count": null,
   "metadata": {},
   "outputs": [],
   "source": [
    "x_axis = [3, 5, 7, 9, 11, 13, 15]\n",
    "fig, ax1 = plt.subplots()\n",
    "color = 'tab:red'\n",
    "plt.xticks(x_axis)\n",
    "ax1.set_xlabel('size of the hydrogen ring')\n",
    "ax1.set_ylabel('Delta(E) (kcal/mol)', color=color)\n",
    "ax1.plot(x_axis, delta_e, label='Energy(GHF-UHF)', linestyle=':', alpha=0.5, color=color)\n",
    "ax1.scatter(x_axis, delta_e, marker='v', alpha=0.5, color=color)\n",
    "ax1.tick_params(axis='y', labelcolor=color)\n",
    "plt.gca().invert_yaxis()\n",
    "\n",
    "ax2 = ax1.twinx()\n",
    "color2 = 'tab:blue'\n",
    "ax2.plot(x_axis, delta_mult, label='multiplicity(GHF-UHF)', linestyle='--', alpha=0.5, color=color2)\n",
    "ax2.scatter(x_axis, delta_mult, marker='x', alpha=0.5, color=color2)\n",
    "ax2.set_ylabel('multiplicity(GHF-UHF)', color=color2)\n",
    "ax2.tick_params(axis='y', labelcolor=color2)\n",
    "plt.title('Energy and spin multiplicity: GHF-UHF')\n",
    "fig.tight_layout()\n",
    "plt.show()"
   ]
  },
  {
   "cell_type": "markdown",
   "metadata": {},
   "source": [
    "# GHF solutions: Stability"
   ]
  },
  {
   "cell_type": "markdown",
   "metadata": {},
   "source": [
    "By checking the internal and external stability of the solutions, we can guarantee that the solutions are the lowest HF solutions possible within the current framework (RHF->UHF->GHF). All the stability analyses have been ran in the section where the energies were calculated."
   ]
  },
  {
   "cell_type": "markdown",
   "metadata": {},
   "source": [
    "## Hessian eigenvalues"
   ]
  },
  {
   "cell_type": "markdown",
   "metadata": {},
   "source": [
    "Lets take a closer look at the Hessian eigenvalues for each of these systems. Hessian eigenvalues teach us more about the found solutions. When looking at the GHF Hessian, RHF solutions will show no zeros, UHF solutions will have two zero eigenvalues, corresponding to the broken $S_x$ and $S_y$ symmetry, and a GHF solution will show 3 zeros since it breaks $S_z$ symmetry as well. Always look at the complete GHF Hessian, so no zeros get lost because of symmetry."
   ]
  },
  {
   "cell_type": "code",
   "execution_count": null,
   "metadata": {},
   "outputs": [],
   "source": [
    "hess_h3 = h_3_g.get_hessian()\n",
    "val3, vec3 = la.eigh(hess_h3)\n",
    "\n",
    "plt.plot(val3)\n",
    "plt.xlabel('n-th eigenvalue')\n",
    "plt.ylabel('value (a.u.)')\n",
    "plt.title('H_3 eigenvalues')\n",
    "plt.show()\n",
    "lowest3 = val3[:10]\n",
    "x = np.arange(1, 11)\n",
    "plt.plot(x, lowest3)\n",
    "plt.scatter(x, lowest3)\n",
    "plt.axis([1, 10, 0, 0.6])\n",
    "plt.xlabel('n-th eigenvalue')\n",
    "plt.ylabel('value (a.u.)')\n",
    "plt.title('H_3 eigenvalues, first 10')\n",
    "plt.xticks(x)\n",
    "plt.show()"
   ]
  },
  {
   "cell_type": "code",
   "execution_count": null,
   "metadata": {},
   "outputs": [],
   "source": [
    "hess_h4 = h_4_g.get_hessian()\n",
    "val4, vec4 = la.eigh(hess_h4)\n",
    "\n",
    "plt.plot(val4)\n",
    "plt.xlabel('n-th eigenvalue')\n",
    "plt.ylabel('value (a.u.)')\n",
    "plt.title('H_4 eigenvalues')\n",
    "plt.show()\n",
    "lowest4 = val4[:10]\n",
    "x = np.arange(1, 11)\n",
    "plt.plot(x, lowest4)\n",
    "plt.scatter(x, lowest4)\n",
    "plt.axis([1, 10, 0, 0.5])\n",
    "plt.xlabel('n-th eigenvalue')\n",
    "plt.ylabel('value (a.u.)')\n",
    "plt.title('H_4 eigenvalues, first 10')\n",
    "plt.xticks(x)\n",
    "plt.show()"
   ]
  },
  {
   "cell_type": "code",
   "execution_count": null,
   "metadata": {},
   "outputs": [],
   "source": [
    "hess_h5 = h_5_g.get_hessian()\n",
    "val5, vec5 = la.eigh(hess_h5)\n",
    "\n",
    "plt.plot(val5)\n",
    "plt.xlabel('n-th eigenvalue')\n",
    "plt.ylabel('value (a.u.)')\n",
    "plt.title('H_5 eigenvalues')\n",
    "plt.show()\n",
    "lowest5 = val5[:10]\n",
    "x = np.arange(1, 11)\n",
    "plt.plot(x, lowest5)\n",
    "plt.scatter(x, lowest5)\n",
    "plt.axis([1, 10, 0, 0.5])\n",
    "plt.xlabel('n-th eigenvalue')\n",
    "plt.ylabel('value (a.u.)')\n",
    "plt.title('H_5 eigenvalues, first 10')\n",
    "plt.xticks(x)\n",
    "plt.show()"
   ]
  },
  {
   "cell_type": "code",
   "execution_count": null,
   "metadata": {},
   "outputs": [],
   "source": [
    "hess_h6 = h_6_g.get_hessian()\n",
    "val6, vec6 = la.eigh(hess_h6)\n",
    "\n",
    "plt.plot(val6)\n",
    "plt.xlabel('n-th eigenvalue')\n",
    "plt.ylabel('value (a.u.)')\n",
    "plt.title('H_6 eigenvalues')\n",
    "plt.show()\n",
    "lowest6 = val6[:10]\n",
    "x = np.arange(1, 11)\n",
    "plt.plot(x, lowest6)\n",
    "plt.scatter(x, lowest6)\n",
    "plt.axis([1, 10, 0, 0.5])\n",
    "plt.xlabel('n-th eigenvalue')\n",
    "plt.ylabel('value (a.u.)')\n",
    "plt.title('H_6 eigenvalues, first 10')\n",
    "plt.xticks(x)\n",
    "plt.show()"
   ]
  },
  {
   "cell_type": "code",
   "execution_count": null,
   "metadata": {},
   "outputs": [],
   "source": [
    "hess_h7 = h_7_g.get_hessian()\n",
    "val7, vec7 = la.eigh(hess_h7)\n",
    "\n",
    "plt.plot(val7)\n",
    "plt.xlabel('n-th eigenvalue')\n",
    "plt.ylabel('value (a.u.)')\n",
    "plt.title('H_7 eigenvalues')\n",
    "plt.show()\n",
    "lowest7 = val7[:10]\n",
    "x = np.arange(1, 11)\n",
    "plt.plot(x, lowest7)\n",
    "plt.scatter(x, lowest7)\n",
    "plt.axis([1, 10, 0, 0.5])\n",
    "plt.xlabel('n-th eigenvalue')\n",
    "plt.ylabel('value (a.u.)')\n",
    "plt.title('H_7 eigenvalues, first 10')\n",
    "plt.xticks(x)\n",
    "plt.show()"
   ]
  },
  {
   "cell_type": "code",
   "execution_count": null,
   "metadata": {},
   "outputs": [],
   "source": [
    "hess_h8 = h_8_g.get_hessian()\n",
    "val8, vec8 = la.eigh(hess_h8)\n",
    "\n",
    "plt.plot(val8)\n",
    "plt.xlabel('n-th eigenvalue')\n",
    "plt.ylabel('value (a.u.)')\n",
    "plt.title('H_8 eigenvalues')\n",
    "plt.show()\n",
    "lowest8 = val8[:10]\n",
    "x = np.arange(1, 11)\n",
    "plt.plot(x, lowest8)\n",
    "plt.scatter(x, lowest8)\n",
    "plt.axis([1, 10, 0, 0.5])\n",
    "plt.xlabel('n-th eigenvalue')\n",
    "plt.ylabel('value (a.u.)')\n",
    "plt.title('H_8 eigenvalues, first 10')\n",
    "plt.xticks(x)\n",
    "plt.show()"
   ]
  },
  {
   "cell_type": "code",
   "execution_count": null,
   "metadata": {},
   "outputs": [],
   "source": [
    "hess_h9 = h_9_g.get_hessian()\n",
    "val9, vec9 = la.eigh(hess_h9)\n",
    "\n",
    "plt.plot(val9)\n",
    "plt.xlabel('n-th eigenvalue')\n",
    "plt.ylabel('value (a.u.)')\n",
    "plt.title('H_9 eigenvalues')\n",
    "plt.show()\n",
    "lowest9 = val9[:10]\n",
    "x = np.arange(1, 11)\n",
    "plt.plot(x, lowest9)\n",
    "plt.scatter(x, lowest9)\n",
    "plt.axis([1, 10, 0, 0.5])\n",
    "plt.xlabel('n-th eigenvalue')\n",
    "plt.ylabel('value (a.u.)')\n",
    "plt.title('H_9 eigenvalues, first 10')\n",
    "plt.xticks(x)\n",
    "plt.show()"
   ]
  },
  {
   "cell_type": "code",
   "execution_count": null,
   "metadata": {},
   "outputs": [],
   "source": [
    "hess_h10 = h_10_g.get_hessian()\n",
    "val10, vec10 = la.eigh(hess_h10)\n",
    "\n",
    "plt.plot(val10)\n",
    "plt.xlabel('n-th eigenvalue')\n",
    "plt.ylabel('value (a.u.)')\n",
    "plt.title('H_10 eigenvalues')\n",
    "plt.show()\n",
    "lowest10 = val10[:10]\n",
    "x = np.arange(1, 11)\n",
    "plt.plot(x, lowest10)\n",
    "plt.scatter(x, lowest10)\n",
    "plt.axis([1, 10, 0, 0.5])\n",
    "plt.xlabel('n-th eigenvalue')\n",
    "plt.ylabel('value (a.u.)')\n",
    "plt.title('H_10 eigenvalues, first 10')\n",
    "plt.xticks(x)\n",
    "plt.show()"
   ]
  },
  {
   "cell_type": "code",
   "execution_count": null,
   "metadata": {},
   "outputs": [],
   "source": [
    "hess_h11 = h_11_g.get_hessian()\n",
    "val11, vec11 = la.eigh(hess_h11)\n",
    "\n",
    "plt.plot(val11)\n",
    "plt.xlabel('n-th eigenvalue')\n",
    "plt.ylabel('value (a.u.)')\n",
    "plt.title('H_11 eigenvalues')\n",
    "plt.show()\n",
    "lowest11 = val11[:10]\n",
    "x = np.arange(1, 11)\n",
    "plt.plot(x, lowest11)\n",
    "plt.scatter(x, lowest11)\n",
    "plt.axis([1, 10, 0, 0.5])\n",
    "plt.xlabel('n-th eigenvalue')\n",
    "plt.ylabel('value (a.u.)')\n",
    "plt.title('H_11 eigenvalues, first 10')\n",
    "plt.xticks(x)\n",
    "plt.show()"
   ]
  },
  {
   "cell_type": "code",
   "execution_count": null,
   "metadata": {},
   "outputs": [],
   "source": [
    "hess_h12 = h_12_g.get_hessian()\n",
    "val12, vec12 = la.eigh(hess_h12)\n",
    "\n",
    "plt.plot(val12)\n",
    "plt.xlabel('n-th eigenvalue')\n",
    "plt.ylabel('value (a.u.)')\n",
    "plt.title('H_12 eigenvalues')\n",
    "plt.show()\n",
    "lowest12 = val12[:10]\n",
    "x = np.arange(1, 11)\n",
    "plt.plot(x, lowest12)\n",
    "plt.scatter(x, lowest12)\n",
    "plt.axis([1, 10, 0, 0.5])\n",
    "plt.xlabel('n-th eigenvalue')\n",
    "plt.ylabel('value (a.u.)')\n",
    "plt.title('H_12 eigenvalues, first 10')\n",
    "plt.xticks(x)\n",
    "plt.show()"
   ]
  },
  {
   "cell_type": "code",
   "execution_count": null,
   "metadata": {},
   "outputs": [],
   "source": [
    "hess_h13 = h_13_g.get_hessian()\n",
    "val13, vec13 = la.eigh(hess_h13)\n",
    "\n",
    "plt.plot(val13)\n",
    "plt.xlabel('n-th eigenvalue')\n",
    "plt.ylabel('value (a.u.)')\n",
    "plt.title('H_13 eigenvalues')\n",
    "plt.show()\n",
    "lowest13 = val13[:10]\n",
    "x = np.arange(1, 11)\n",
    "plt.plot(x, lowest13)\n",
    "plt.scatter(x, lowest13)\n",
    "plt.axis([1, 10, 0, 0.5])\n",
    "plt.xlabel('n-th eigenvalue')\n",
    "plt.ylabel('value (a.u.)')\n",
    "plt.title('H_13 eigenvalues, first 10')\n",
    "plt.xticks(x)\n",
    "plt.show()"
   ]
  },
  {
   "cell_type": "code",
   "execution_count": null,
   "metadata": {},
   "outputs": [],
   "source": [
    "hess_h14 = h_14_g.get_hessian()\n",
    "val14, vec14 = la.eigh(hess_h14)\n",
    "\n",
    "plt.plot(val14)\n",
    "plt.xlabel('n-th eigenvalue')\n",
    "plt.ylabel('value (a.u.)')\n",
    "plt.title('H_14 eigenvalues')\n",
    "plt.show()\n",
    "lowest14 = val14[:10]\n",
    "x = np.arange(1, 11)\n",
    "plt.plot(x, lowest14)\n",
    "plt.scatter(x, lowest14)\n",
    "plt.axis([1, 10, 0, 0.5])\n",
    "plt.xlabel('n-th eigenvalue')\n",
    "plt.ylabel('value (a.u.)')\n",
    "plt.title('H_14 eigenvalues, first 10')\n",
    "plt.xticks(x)\n",
    "plt.show()"
   ]
  },
  {
   "cell_type": "code",
   "execution_count": null,
   "metadata": {},
   "outputs": [],
   "source": [
    "hess_h15 = h_15_g.get_hessian()\n",
    "val15, vec15 = la.eigh(hess_h15)\n",
    "\n",
    "plt.plot(val15)\n",
    "plt.xlabel('n-th eigenvalue')\n",
    "plt.ylabel('value (a.u.)')\n",
    "plt.title('H_15 eigenvalues')\n",
    "plt.show()\n",
    "lowest15 = val15[:10]\n",
    "x = np.arange(1, 11)\n",
    "plt.plot(x, lowest15)\n",
    "plt.scatter(x, lowest15)\n",
    "plt.axis([1, 10, 0, 0.5])\n",
    "plt.xlabel('n-th eigenvalue')\n",
    "plt.ylabel('value (a.u.)')\n",
    "plt.title('H_15 eigenvalues, first 10')\n",
    "plt.xticks(x)\n",
    "plt.show()"
   ]
  },
  {
   "cell_type": "markdown",
   "metadata": {},
   "source": [
    "# Complex Methods"
   ]
  },
  {
   "cell_type": "markdown",
   "metadata": {},
   "source": [
    "It is often reported that complex GHF is needed in order to find the lowest GHF energy. This is not always the case. In this section We will discuss some examples and show that often, the complex results are the same as the real ones. This makes sense, because if a solution is internally stable in the real GHF space, it will also be stable in the complex GHF space. The only example, that i know of, that is known to have a lower lying complex GHF solution than real GHF solution, is the Beryllium atom in specific basis sets."
   ]
  },
  {
   "cell_type": "markdown",
   "metadata": {},
   "source": [
    "## Example 1: $H_4$ using complex RHF"
   ]
  },
  {
   "cell_type": "markdown",
   "metadata": {},
   "source": [
    "$H_4$ is quite the complex molecule. Let's start with a normal RHF calculation and check the stability."
   ]
  },
  {
   "cell_type": "code",
   "execution_count": null,
   "metadata": {},
   "outputs": [],
   "source": [
    "rhf_h4 = RHF.MF(h4, 4)\n",
    "rhf_h4.get_scf_solution()\n",
    "rhf_h4.stability_analysis('internal')\n",
    "rhf_h4.stability_analysis('external')"
   ]
  },
  {
   "cell_type": "markdown",
   "metadata": {},
   "source": [
    "The result is a stable solution within the real RHF space, which means we can now check the external stability. As previously shown, the UHF calculation finds a lower energy state, the triplet state. It thus makes sense that an RHF->UHF instability is found. But we also find a real complex instability. Let's see what happens when we follow that."
   ]
  },
  {
   "cell_type": "code",
   "execution_count": null,
   "metadata": {
    "scrolled": true
   },
   "outputs": [],
   "source": [
    "rhf_h4.get_scf_solution(complex_method=True)\n",
    "rhf_h4.stability_analysis('internal')\n",
    "rhf_h4.stability_analysis('external')"
   ]
  },
  {
   "cell_type": "markdown",
   "metadata": {},
   "source": [
    "We find a lower lying energy state, that still has the RHF->UHF instability. However the real->complex instability is now resolved."
   ]
  },
  {
   "cell_type": "markdown",
   "metadata": {},
   "source": [
    "## Example 2: $H_3$ using complex GHF"
   ]
  },
  {
   "cell_type": "markdown",
   "metadata": {},
   "source": [
    "Let's start with a normal calculation, followed by stability analysis."
   ]
  },
  {
   "cell_type": "code",
   "execution_count": null,
   "metadata": {},
   "outputs": [],
   "source": [
    "c_ghf_h3 = GHF.MF(h3, 3)\n",
    "c_ghf_h3.get_scf_solution()\n",
    "c_ghf_h3.stability_analysis('internal')\n",
    "c_ghf_h3.stability_analysis('external')"
   ]
  },
  {
   "cell_type": "markdown",
   "metadata": {},
   "source": [
    "We see an internal instability, and an external real->complex intstability. Previously, we followed the internal instability. What happens when we follow the external one?"
   ]
  },
  {
   "cell_type": "code",
   "execution_count": null,
   "metadata": {},
   "outputs": [],
   "source": [
    "c_ghf_h3.get_scf_solution(complex_method=True)\n",
    "c_ghf_h3.stability_analysis('internal')"
   ]
  },
  {
   "cell_type": "markdown",
   "metadata": {},
   "source": [
    "We find a state with the exact same energy and spin expectation values. Let's try and verify whether or not the solutions are the same."
   ]
  },
  {
   "cell_type": "code",
   "execution_count": null,
   "metadata": {},
   "outputs": [],
   "source": [
    "print('MO energies of the complex solution')\n",
    "print('-----------------------------------')\n",
    "print(c_ghf_h3.get_mo_energy())\n",
    "print('')\n",
    "print('MO energies of the real solution')\n",
    "print('--------------------------------')\n",
    "print(h_3_g.get_mo_energy())"
   ]
  },
  {
   "cell_type": "markdown",
   "metadata": {},
   "source": [
    "The MO's have the exact same energies. Next, look at the Hessian eigenvalues. "
   ]
  },
  {
   "cell_type": "code",
   "execution_count": null,
   "metadata": {},
   "outputs": [],
   "source": [
    "print('Hessian eigenvalues of the complex solution')\n",
    "print('-------------------------------------------')\n",
    "h_3_c_val, h_3_c_vec = la.eigh(c_ghf_h3.get_hessian())\n",
    "print(h_3_c_val)\n",
    "print('')\n",
    "print('Hessian eigenvalues of the real solution')\n",
    "print('----------------------------------------')\n",
    "print(val3)"
   ]
  },
  {
   "cell_type": "code",
   "execution_count": null,
   "metadata": {},
   "outputs": [],
   "source": [
    "lowest3_c = h_3_c_val[:10]\n",
    "x = np.arange(1, 11)\n",
    "plt.plot(x, lowest3_c)\n",
    "plt.scatter(x, lowest3_c)\n",
    "plt.axis([1, 10, 0, 0.6])\n",
    "plt.xlabel('n-th eigenvalue')\n",
    "plt.ylabel('value (a.u.)')\n",
    "plt.title('complex H_3 eigenvalues, first 10')\n",
    "plt.xticks(x)\n",
    "plt.show()"
   ]
  },
  {
   "cell_type": "markdown",
   "metadata": {},
   "source": [
    "We find the exact same eigenvalues for both solutions. Both also have three 0 eigenvalues, indicating a GHF solution, which was expected. For clarity we have even plotted the graph of the lowest 10 eigenvalues, which is the same as it was in the real case."
   ]
  },
  {
   "cell_type": "markdown",
   "metadata": {},
   "source": [
    "But, how do we know we don't just converged to the real solution? If our solution is actually complex, it should have different, complex valued MO coefficients than the real solution. Let's verify this."
   ]
  },
  {
   "cell_type": "code",
   "execution_count": null,
   "metadata": {},
   "outputs": [],
   "source": [
    "print('MO coefficients of the complex solution')\n",
    "print('---------------------------------------')\n",
    "print(c_ghf_h3.get_mo_coeff())\n",
    "print('')\n",
    "print('MO coefficients of the real solution')\n",
    "print('------------------------------------')\n",
    "print(h_3_g.get_mo_coeff())"
   ]
  },
  {
   "cell_type": "markdown",
   "metadata": {},
   "source": [
    "Indeed, our MO coefficients are different and have complex values for complex GHF. In conclusion, we can say that we can find a complex and a real solution for the exact same system, meaning the complex solution is just another way of writing the real solution, and is not fundamentally complex."
   ]
  },
  {
   "cell_type": "markdown",
   "metadata": {},
   "source": [
    "## Example 3: complex $H_{13}$ calculation"
   ]
  },
  {
   "cell_type": "markdown",
   "metadata": {},
   "source": [
    "We have shown that a complex calculation for $H_3$ finds the same solution as the real calculation. Let's see if this is also the case for a bigger system, like $H_{13}$."
   ]
  },
  {
   "cell_type": "code",
   "execution_count": null,
   "metadata": {},
   "outputs": [],
   "source": [
    "c_ghf_h13 = GHF.MF(h13, 13)\n",
    "c_ghf_h13.get_scf_solution()\n",
    "c_ghf_h13.stability_analysis('internal')\n",
    "c_ghf_h13.stability_analysis('external')"
   ]
  },
  {
   "cell_type": "markdown",
   "metadata": {},
   "source": [
    "We see the same instabilities as we saw with $H_3$. Now let's see what happens when we follow the real->complex instability instead of the internal one."
   ]
  },
  {
   "cell_type": "code",
   "execution_count": null,
   "metadata": {},
   "outputs": [],
   "source": [
    "c_ghf_h13.get_scf_solution(complex_method=True)\n",
    "c_ghf_h13.stability_analysis('internal')"
   ]
  },
  {
   "cell_type": "markdown",
   "metadata": {},
   "source": [
    "We find a solution with the same energies and spin expectation values, as we did for $H_3$. Now let's verify, as we did for $H_3$, that it is indeed the same solution, and not a fundamentally complex solution."
   ]
  },
  {
   "cell_type": "code",
   "execution_count": null,
   "metadata": {},
   "outputs": [],
   "source": [
    "print('Are the MO energies the same?')\n",
    "print(np.allclose(h_13_g.get_mo_energy(), c_ghf_h13.get_mo_energy()))\n",
    "print('')\n",
    "print('Are the hessian eigenvalues the same?')\n",
    "h_13_c_val, h_13_c_vec = la.eigh(c_ghf_h13.get_hessian())\n",
    "print(np.allclose(val13, h_13_c_val))"
   ]
  },
  {
   "cell_type": "code",
   "execution_count": null,
   "metadata": {},
   "outputs": [],
   "source": [
    "lowest13_c = h_13_c_val[:10]\n",
    "x = np.arange(1, 11)\n",
    "plt.plot(x, lowest13_c)\n",
    "plt.scatter(x, lowest13_c)\n",
    "plt.axis([1, 10, 0, 0.6])\n",
    "plt.xlabel('n-th eigenvalue')\n",
    "plt.ylabel('value (a.u.)')\n",
    "plt.title('complex H_13 eigenvalues, first 10')\n",
    "plt.xticks(x)\n",
    "plt.show()"
   ]
  },
  {
   "cell_type": "markdown",
   "metadata": {},
   "source": [
    "Next let's check the MO's and whether or not they have complex values."
   ]
  },
  {
   "cell_type": "code",
   "execution_count": null,
   "metadata": {},
   "outputs": [],
   "source": [
    "imag_part = np.sum(c_ghf_h13.get_mo_coeff().imag)\n",
    "if abs(imag_part) > 1e-3:\n",
    "    print('The MOs are complex valued.')"
   ]
  },
  {
   "cell_type": "markdown",
   "metadata": {},
   "source": [
    "As with $H_3$, we find the exact same solution, with complex MO's. We can thus once again conclude that the soliution is not fundamentally complex."
   ]
  },
  {
   "cell_type": "markdown",
   "metadata": {},
   "source": [
    "## Example 4: Beryllium atom"
   ]
  },
  {
   "cell_type": "markdown",
   "metadata": {},
   "source": [
    "The Be atom in the 4-31g basis set is often reported in literature as a system with a known GHF solution, as well as still showing a real->complex instability. Let's see if we can find the real and complex GHF solutions of this system."
   ]
  },
  {
   "cell_type": "code",
   "execution_count": null,
   "metadata": {},
   "outputs": [],
   "source": [
    "Be = gto.M(atom='Be 1 0 0', basis='4-31g')"
   ]
  },
  {
   "cell_type": "code",
   "execution_count": null,
   "metadata": {},
   "outputs": [],
   "source": [
    "ghf_be = GHF.MF(Be, 4)\n",
    "ghf_be.get_scf_solution()\n",
    "improved_mos = ghf_be.stability_analysis('internal')\n",
    "ghf_be.get_scf_solution(improved_mos)\n",
    "ghf_be.stability_analysis('internal')\n",
    "ghf_be.stability_analysis('external')"
   ]
  },
  {
   "cell_type": "markdown",
   "metadata": {},
   "source": [
    "What we see here, is what's reported in literature. A GHF solution is found (<$S_z$> = 0), but there is still an external real->complex instability. Let's follow this, and try to run the calculation using complex GHF."
   ]
  },
  {
   "cell_type": "code",
   "execution_count": null,
   "metadata": {},
   "outputs": [],
   "source": [
    "ghf_be.get_scf_solution(complex_method=True)\n",
    "improved_mos_c = ghf_be.stability_analysis('internal')\n",
    "ghf_be.get_scf_solution(improved_mos, complex_method=True)\n",
    "ghf_be.stability_analysis('internal')"
   ]
  },
  {
   "cell_type": "code",
   "execution_count": null,
   "metadata": {},
   "outputs": [],
   "source": [
    "be_val, be_vec = la.eigh(ghf_be.get_hessian())\n",
    "lowest_be = be_val[:10]\n",
    "print(lowest_be)\n",
    "x = np.arange(1, 11)\n",
    "plt.plot(x, lowest_be)\n",
    "plt.scatter(x, lowest_be)\n",
    "plt.axis([1, 10, 0, 0.2])\n",
    "plt.xlabel('n-th eigenvalue')\n",
    "plt.ylabel('value (a.u.)')\n",
    "plt.title('complex Be Hessian eigenvalues, first 10')\n",
    "plt.xticks(x)\n",
    "plt.show()"
   ]
  },
  {
   "cell_type": "markdown",
   "metadata": {},
   "source": [
    "What we see is that the complex method finds a GHF solution (3 Hessian eigenvalue of zero) Thats slightly lower in energy than the real GHF solution, and has slightly more spin contamination as well. We can thus say that the Be atom, in contrast to the hydrogen rings, has a true, fundamentally complex GHF solution."
   ]
  },
  {
   "cell_type": "markdown",
   "metadata": {},
   "source": [
    "## conclusion"
   ]
  },
  {
   "cell_type": "markdown",
   "metadata": {},
   "source": [
    "For the hydrogen rings, complex GHF is not necessary. The most stable solution can already be found using real generalised Hartree-Fock calculations. When looking for the lowest Hartree-Fock solution, you should always look for an internally stable solution first. This way, you will always avoid breaking symmetries when it's not necessary to do so. The Be atom however, has a true complex GHF solution."
   ]
  },
  {
   "cell_type": "markdown",
   "metadata": {},
   "source": [
    "# Finding the lowest HF solution"
   ]
  },
  {
   "cell_type": "markdown",
   "metadata": {},
   "source": [
    "Stability analysis is a powerful tool. By following the internal and external stability analysis, one can 'cascade' towards the lowest HF solution, breaking more and more symmetry along the way. The 'lowest_HF' algorithm does this for us. First internal stabilities are checked. When an internally stable solution is found, external stabilities are checked. If a lower lying solution can be found through symmetry breaking, this path is followed. If this isn't the case, but a lower lying energy can be found by going complex, then the algorithm will look for a complex solution. If there is no external instability, and the solution is internally stable, the most stable solution has been found. For open shell systems, the first method that will be checked is UHF, for closed shell systems RHF will be checked first. Let's take a look at a couple of examples."
   ]
  },
  {
   "cell_type": "markdown",
   "metadata": {},
   "source": [
    "## Example 1: $H_6$"
   ]
  },
  {
   "cell_type": "markdown",
   "metadata": {},
   "source": [
    "$H_6$ has no zero eigenvalues in the GHF Hessian, pointing towards it actually being a RHF solution. "
   ]
  },
  {
   "cell_type": "code",
   "execution_count": null,
   "metadata": {},
   "outputs": [],
   "source": [
    "lowest.Find(h6, 6).run_algorithm()"
   ]
  },
  {
   "cell_type": "markdown",
   "metadata": {},
   "source": [
    "## Example 2: $H_4$"
   ]
  },
  {
   "cell_type": "markdown",
   "metadata": {},
   "source": [
    "$H_4$ shows two zero eigenvalues in the GHF Hessian, meaning it's an UHF solution."
   ]
  },
  {
   "cell_type": "code",
   "execution_count": null,
   "metadata": {},
   "outputs": [],
   "source": [
    "lowest.Find(h4, 4).run_algorithm()"
   ]
  },
  {
   "cell_type": "markdown",
   "metadata": {},
   "source": [
    "## Example 3: $H_3$"
   ]
  },
  {
   "cell_type": "markdown",
   "metadata": {},
   "source": [
    "The $H_3$ GHF Hessian has 3 zero eigenvalues, pointing towards a GHF solution."
   ]
  },
  {
   "cell_type": "code",
   "execution_count": null,
   "metadata": {},
   "outputs": [],
   "source": [
    "lowest.Find(h3, 3).run_algorithm()"
   ]
  },
  {
   "cell_type": "markdown",
   "metadata": {},
   "source": [
    "## Example 4: Be-atom"
   ]
  },
  {
   "cell_type": "markdown",
   "metadata": {},
   "source": [
    "The Beryllium atom in the 4-31G basis set is often referred to in literature as a GHF example. The real GHF energy value is known, but it is also reported that the molecule still has an external real/complex instability. Let's check this. "
   ]
  },
  {
   "cell_type": "code",
   "execution_count": null,
   "metadata": {},
   "outputs": [],
   "source": [
    "lowest.Find(Be, 4).run_algorithm()"
   ]
  },
  {
   "cell_type": "markdown",
   "metadata": {},
   "source": [
    "Indeed, we are able to find a complex GHF solution with an even lower energy than the real GHF solution."
   ]
  },
  {
   "cell_type": "markdown",
   "metadata": {},
   "source": [
    "# When does spin frustration disappear?"
   ]
  },
  {
   "cell_type": "markdown",
   "metadata": {},
   "source": [
    "In order to check when spin frustration disappears, we're going to run an UHF calculation on $H_3$, where the atom at the top of the triangle slowly moves further and further away. The initial value for x is chosen to create an equilateral triangle, where each side is 1 angstrom."
   ]
  },
  {
   "cell_type": "code",
   "execution_count": null,
   "metadata": {},
   "outputs": [],
   "source": [
    "i = 0\n",
    "x = 0.86602540378\n",
    "h3_test = gto.M(atom = 'h 0 0 0; h 0 {} 0.5; h 0 0 1'.format(x), spin = 1, basis = 'cc-pvdz')\n",
    "\n",
    "test = UHF.MF(h3_test, 3)\n",
    "calc = test.get_scf_solution()\n",
    "test.stability_analysis('external')\n",
    "while test.ext_instability_ug:\n",
    "    x += 0.001\n",
    "    i += 1\n",
    "    h3_test = gto.M(atom = 'h 0 0 0; h 0 {} 0.5; h 0 0 1'.format(x), spin = 1, basis = 'cc-pvdz')\n",
    "    test = UHF.MF(h3_test, 3)\n",
    "    calc = test.scf()\n",
    "    test.stability_analysis('external')\n",
    "\n",
    "atom1_x = 0\n",
    "atom1_y = 0\n",
    "atom2_x = 1\n",
    "atom2_y = 0\n",
    "atom3_x = 0.5\n",
    "atom3_y = 0.86602540378\n",
    "H3_init = [[atom1_x, atom1_y], [atom2_x, atom2_y], [atom3_x, atom3_y]]\n",
    "color = 'tab:blue'\n",
    "plt.scatter(atom1_x, atom1_y, color=color)\n",
    "plt.annotate('H1', (atom1_x, atom1_y), xytext=(-0.02, 0.05))\n",
    "plt.scatter(atom2_x, atom2_y, color=color)\n",
    "plt.annotate('H2', (atom2_x, atom2_y), xytext=(1, 0.05))\n",
    "plt.scatter(atom3_x, atom3_y, color=color)\n",
    "plt.annotate('H3', (atom3_x, atom3_y), xytext=(0.45, x-0.05))\n",
    "init = plt.Polygon(H3_init, color=color)\n",
    "plt.gca().add_patch(init)\n",
    "plt.title('initial H_3 geometry')\n",
    "plt.xlabel('distance (angstrom)')\n",
    "plt.ylabel('distance (angstrom)')\n",
    "plt.show()\n",
    "angle = m.acos(atom3_y)\n",
    "side = np.around(0.5 / m.sin(angle), 5)\n",
    "print('the length of the sides is:')\n",
    "print('---------------------------')\n",
    "print('|H1, H2| = ' + str(atom2_x - atom1_x) + ' Angstrom')\n",
    "print('|H1, H3| = ' + str(side) + ' Angstrom')\n",
    "print('|H2, H3| = ' + str(side) + ' Angstrom')\n",
    "atom1_x = 0\n",
    "atom1_y = 0\n",
    "atom2_x = 1\n",
    "atom2_y = 0\n",
    "atom3_x = 0.5\n",
    "atom3_y = x\n",
    "H3_init = [[atom1_x, atom1_y], [atom2_x, atom2_y], [atom3_x, atom3_y]]\n",
    "color = 'tab:green'\n",
    "plt.scatter(atom1_x, atom1_y, color=color)\n",
    "plt.annotate('H1', (atom1_x, atom1_y), xytext=(-0.02, 0.05))\n",
    "plt.scatter(atom2_x, atom2_y, color=color)\n",
    "plt.annotate('H2', (atom2_x, atom2_y), xytext=(1, 0.05))\n",
    "plt.scatter(atom3_x, atom3_y, color=color)\n",
    "plt.annotate('H3', (atom3_x, atom3_y), xytext=(0.45, x-0.05))\n",
    "init = plt.Polygon(H3_init, color=color)\n",
    "plt.gca().add_patch(init)\n",
    "plt.title('H_3 geometry without spin frustration')\n",
    "plt.xlabel('distance (angstrom)')\n",
    "plt.ylabel('distance (angstrom)')\n",
    "plt.show()\n",
    "angle = m.acos(x)\n",
    "side = np.around(0.5 / m.sin(angle), 5)\n",
    "print('the length of the sides is:')\n",
    "print('---------------------------')\n",
    "print('|H1, H2| = ' + str(atom2_x - atom1_x) + ' Angstrom')\n",
    "print('|H1, H3| = ' + str(side) + ' Angstrom')\n",
    "print('|H2, H3| = ' + str(side) + ' Angstrom')\n",
    "print('')\n",
    "print('The top atom was moved ' + str(np.around((i * 0.001), 3)) + ' Angstrom away from the botom side, before spin frustration disappeared.')\n",
    "print('There no longer is an external UHF->GHF instability at this geometry.')"
   ]
  },
  {
   "cell_type": "markdown",
   "metadata": {},
   "source": [
    "We can thus state that the geometry & symmetry is incredibly important when dealing with spin frustrated systems. The D3h point group is spin frustrated, but when digressing even a small amount from this geometry, the spin frustration disappears. "
   ]
  },
  {
   "cell_type": "markdown",
   "metadata": {},
   "source": [
    "# General summary of the Hartree-Fock methods"
   ]
  },
  {
   "cell_type": "markdown",
   "metadata": {},
   "source": [
    "First, let's calculate the RHF energies."
   ]
  },
  {
   "cell_type": "code",
   "execution_count": null,
   "metadata": {},
   "outputs": [],
   "source": [
    "rhf_h4 = RHF.MF(h4, 4)\n",
    "e_rhf_h4 = np.around(rhf_h4.scf()[0] * 627.5, 2)\n",
    "\n",
    "rhf_h6 = RHF.MF(h6, 6)\n",
    "e_rhf_h6 = np.around(rhf_h6.scf()[0] * 627.5, 2)\n",
    "\n",
    "rhf_h8 = RHF.MF(h8, 8)\n",
    "e_rhf_h8 = np.around(rhf_h8.scf()[0] * 627.5, 2)\n",
    "\n",
    "rhf_h10 = RHF.MF(h10, 10)\n",
    "e_rhf_h10 = np.around(rhf_h10.scf()[0] * 627.5, 2)\n",
    "\n",
    "rhf_h12 = RHF.MF(h12, 12)\n",
    "e_rhf_h12 = np.around(rhf_h12.scf()[0] * 627.5, 2)\n",
    "\n",
    "rhf_h14 = RHF.MF(h14, 14)\n",
    "e_rhf_h14 = np.around(rhf_h14.scf()[0] * 627.5, 2)"
   ]
  },
  {
   "cell_type": "code",
   "execution_count": null,
   "metadata": {},
   "outputs": [],
   "source": [
    "c_rhf_h4 = RHF.MF(h4, 4)\n",
    "e_rhf_h4_c = np.around(rhf_h4.scf(complex_method=True)[0].real * 627.5, 2)\n",
    "\n",
    "c_rhf_h6 = RHF.MF(h6, 6)\n",
    "e_rhf_h6_c = np.around(rhf_h6.scf(complex_method=True)[0].real * 627.5, 2)\n",
    "\n",
    "c_rhf_h8 = RHF.MF(h8, 8)\n",
    "e_rhf_h8_c = np.around(rhf_h8.scf(complex_method=True)[0].real * 627.5, 2)\n",
    "\n",
    "c_rhf_h10 = RHF.MF(h10, 10)\n",
    "e_rhf_h10_c = np.around(rhf_h10.scf(complex_method=True)[0].real * 627.5, 2)\n",
    "\n",
    "c_rhf_h12 = RHF.MF(h12, 12)\n",
    "e_rhf_h12_c = np.around(rhf_h12.scf(complex_method=True)[0].real * 627.5, 2)\n",
    "\n",
    "c_rhf_h14 = RHF.MF(h14, 14)\n",
    "e_rhf_h14_c = np.around(rhf_h14.scf(complex_method=True)[0].real * 627.5, 2)"
   ]
  },
  {
   "cell_type": "markdown",
   "metadata": {},
   "source": [
    "Next, calculate the UHF energies."
   ]
  },
  {
   "cell_type": "code",
   "execution_count": null,
   "metadata": {},
   "outputs": [],
   "source": [
    "e_uhf_3 = np.around(((uhf_h3[0]) * 627.5), 2)\n",
    "e_uhf_4 = np.around(((uhf_h4[0]) * 627.5), 2)\n",
    "e_uhf_5 = np.around(((uhf_h5[0]) * 627.5), 2)\n",
    "e_uhf_6 = np.around(((uhf_h6[0]) * 627.5), 2)\n",
    "e_uhf_7 = np.around(((uhf_h7[0]) * 627.5), 2)\n",
    "e_uhf_8 = np.around(((uhf_h8[0]) * 627.5), 2)\n",
    "e_uhf_9 = np.around(((uhf_h9[0]) * 627.5), 2)\n",
    "e_uhf_10 = np.around(((uhf_h10[0]) * 627.5), 2)\n",
    "e_uhf_11 = np.around(((uhf_h11[0]) * 627.5), 2)\n",
    "e_uhf_12 = np.around(((uhf_h12[0]) * 627.5), 2)\n",
    "e_uhf_13 = np.around(((uhf_h13[0]) * 627.5), 2)\n",
    "e_uhf_14 = np.around(((uhf_h14[0]) * 627.5), 2)\n",
    "e_uhf_15 = np.around(((uhf_h15[0]) * 627.5), 2)"
   ]
  },
  {
   "cell_type": "code",
   "execution_count": null,
   "metadata": {},
   "outputs": [],
   "source": [
    "c_uhf_h3 = UHF.MF(h3, 3)\n",
    "e_uhf_h3_c = np.around(c_uhf_h3.scf(complex_method=True)[0].real * 627.5, 2)\n",
    "\n",
    "c_uhf_h4 = UHF.MF(h4, 4)\n",
    "c_uhf_h4.scf(complex_method=True)\n",
    "c_mo_4 = c_uhf_h4.stability_analysis('internal')\n",
    "e_uhf_h4_c = np.around(c_uhf_h4.scf(c_mo_4, complex_method=True)[0].real * 627.5, 2)\n",
    "\n",
    "c_uhf_h5 = UHF.MF(h5, 5)\n",
    "e_uhf_h5_c = np.around(c_uhf_h5.scf(complex_method=True)[0].real * 627.5, 2)\n",
    "\n",
    "c_uhf_h6 = UHF.MF(h6, 6)\n",
    "e_uhf_h6_c = np.around(c_uhf_h6.scf(complex_method=True)[0].real * 627.5, 2)\n",
    "\n",
    "c_uhf_h7 = UHF.MF(h7, 7)\n",
    "e_uhf_h7_c = np.around(c_uhf_h7.diis(complex_method=True)[0].real * 627.5, 2)\n",
    "\n",
    "c_uhf_h8 = UHF.MF(h8, 8)\n",
    "c_uhf_h8.scf(complex_method=True)\n",
    "c_mo_8 = c_uhf_h8.stability_analysis('internal')\n",
    "e_uhf_h8_c = np.around(c_uhf_h8.scf(c_mo_8, complex_method=True)[0].real * 627.5, 2)\n",
    "\n",
    "c_uhf_h9 = UHF.MF(h9, 9)\n",
    "e_uhf_h9_c = np.around(c_uhf_h9.scf(complex_method=True)[0].real * 627.5, 2)\n",
    "\n",
    "c_uhf_h10 = UHF.MF(h10, 10)\n",
    "e_uhf_h10_c = np.around(c_uhf_h10.scf(complex_method=True)[0].real * 627.5, 2)\n",
    "\n",
    "c_uhf_h11 = UHF.MF(h11, 11)\n",
    "e_uhf_h11_c = np.around(c_uhf_h11.scf(complex_method=True)[0].real * 627.5, 2)\n",
    "\n",
    "c_uhf_h12 = UHF.MF(h12, 12)\n",
    "c_uhf_h12.scf(complex_method=True)\n",
    "c_mo_12 = c_uhf_h12.stability_analysis('internal')\n",
    "e_uhf_h12_c = np.around(c_uhf_h12.scf(c_mo_12, complex_method=True)[0].real * 627.5, 2)\n",
    "\n",
    "c_uhf_h13 = UHF.MF(h13, 13)\n",
    "e_uhf_h13_c = np.around(c_uhf_h13.scf(complex_method=True)[0].real * 627.5, 2)\n",
    "\n",
    "c_uhf_h14 = UHF.MF(h14, 14)\n",
    "c_uhf_h14.scf(complex_method=True)\n",
    "c_mo_14 = c_uhf_h14.stability_analysis('internal')\n",
    "e_uhf_h14_c = np.around(c_uhf_h14.scf(c_mo_14, complex_method=True)[0].real * 627.5, 2)\n",
    "\n",
    "c_uhf_h15 = UHF.MF(h15, 15)\n",
    "e_uhf_h15_c = np.around(c_uhf_h15.scf(complex_method=True)[0].real * 627.5, 2)"
   ]
  },
  {
   "cell_type": "markdown",
   "metadata": {},
   "source": [
    "Finally, the GHF energies."
   ]
  },
  {
   "cell_type": "code",
   "execution_count": null,
   "metadata": {},
   "outputs": [],
   "source": [
    "e_ghf_3 = np.around(((ghf_h3[0]) * 627.5), 2)\n",
    "e_ghf_4 = np.around(((ghf_h4[0]) * 627.5), 2)\n",
    "e_ghf_5 = np.around(((ghf_h5[0]) * 627.5), 2)\n",
    "e_ghf_6 = np.around(((ghf_h6[0]) * 627.5), 2)\n",
    "e_ghf_7 = np.around(((ghf_h7[0]) * 627.5), 2)\n",
    "e_ghf_8 = np.around(((ghf_h8[0]) * 627.5), 2)\n",
    "e_ghf_9 = np.around(((ghf_h9[0]) * 627.5), 2)\n",
    "e_ghf_10 = np.around(((ghf_h10[0]) * 627.5), 2)\n",
    "e_ghf_11 = np.around(((ghf_h11[0]) * 627.5), 2)\n",
    "e_ghf_12 = np.around(((ghf_h12[0]) * 627.5), 2)\n",
    "e_ghf_13 = np.around(((ghf_h13[0]) * 627.5), 2)\n",
    "e_ghf_14 = np.around(((ghf_h14[0]) * 627.5), 2)\n",
    "e_ghf_15 = np.around(((ghf_h15[0]) * 627.5), 2)"
   ]
  },
  {
   "cell_type": "code",
   "execution_count": null,
   "metadata": {},
   "outputs": [],
   "source": [
    "c_ghf_h3 = GHF.MF(h3, 3)\n",
    "e_ghf_h3_c = np.around(c_ghf_h3.scf(complex_method=True)[0].real * 627.5, 2)\n",
    "\n",
    "c_ghf_h4 = GHF.MF(h4, 4)\n",
    "e_ghf_h4_c = np.around(c_ghf_h4.scf(complex_method=True)[0].real * 627.5, 2)\n",
    "\n",
    "c_ghf_h5 = GHF.MF(h5, 5)\n",
    "e_ghf_h5_c = np.around(c_ghf_h5.scf(complex_method=True)[0].real * 627.5, 2)\n",
    "\n",
    "c_ghf_h6 = GHF.MF(h6, 6)\n",
    "e_ghf_h6_c = np.around(c_ghf_h6.scf(complex_method=True)[0].real * 627.5, 2)\n",
    "\n",
    "c_ghf_h7 = GHF.MF(h7, 7)\n",
    "e_ghf_h7_c = np.around(c_ghf_h7.scf(complex_method=True)[0].real * 627.5, 2)\n",
    "\n",
    "c_ghf_h8 = GHF.MF(h8, 8)\n",
    "e_ghf_h8_c = np.around(c_ghf_h8.scf(complex_method=True)[0].real * 627.5, 2)\n",
    "\n",
    "c_ghf_h9 = GHF.MF(h9, 9)\n",
    "e_ghf_h9_c = np.around(c_ghf_h9.scf(complex_method=True)[0].real * 627.5, 2)\n",
    "\n",
    "c_ghf_h10 = GHF.MF(h10, 10)\n",
    "e_ghf_h10_c = np.around(c_ghf_h10.scf(complex_method=True)[0].real * 627.5, 2)\n",
    "\n",
    "c_ghf_h11 = GHF.MF(h11, 11)\n",
    "e_ghf_h11_c = np.around(c_ghf_h11.scf(complex_method=True)[0].real * 627.5, 2)\n",
    "\n",
    "c_ghf_h12 = GHF.MF(h12, 12)\n",
    "e_ghf_h12_c = np.around(c_ghf_h12.scf(complex_method=True)[0].real * 627.5, 2)\n",
    "\n",
    "c_ghf_h13 = GHF.MF(h13, 13)\n",
    "e_ghf_h13_c = np.around(c_ghf_h13.scf(complex_method=True)[0].real * 627.5, 2)\n",
    "\n",
    "c_ghf_h14 = GHF.MF(h14, 14)\n",
    "e_ghf_h14_c = np.around(c_ghf_h14.scf(complex_method=True)[0].real * 627.5, 2)\n",
    "\n",
    "c_ghf_h15 = GHF.MF(h15, 15)\n",
    "e_ghf_h15_c = np.around(c_ghf_h15.scf(complex_method=True)[0].real * 627.5, 2)"
   ]
  },
  {
   "cell_type": "markdown",
   "metadata": {},
   "source": [
    "## Let's put all the results in a table."
   ]
  },
  {
   "cell_type": "markdown",
   "metadata": {
    "variables": {
     "e_ghf_10": "-3384.45",
     "e_ghf_11": "-3683.0",
     "e_ghf_12": "-4030.5",
     "e_ghf_13": "-4366.84",
     "e_ghf_14": "-4726.24",
     "e_ghf_15": "-5042.3",
     "e_ghf_3": "-946.1",
     "e_ghf_4": "-1268.23",
     "e_ghf_5": "-1626.02",
     "e_ghf_6": "-2039.13",
     "e_ghf_7": "-2315.42",
     "e_ghf_8": "-2660.06",
     "e_ghf_9": "-3006.87",
     "e_ghf_h10_c": "-3384.45",
     "e_ghf_h11_c": "-3683.0",
     "e_ghf_h12_c": "-4030.5",
     "e_ghf_h13_c": "-4366.84",
     "e_ghf_h14_c": "-4726.24",
     "e_ghf_h15_c": "-5042.3",
     "e_ghf_h3_c": "-946.1",
     "e_ghf_h4_c": "-1268.23",
     "e_ghf_h5_c": "-1626.02",
     "e_ghf_h6_c": "-2039.13",
     "e_ghf_h7_c": "-2315.42",
     "e_ghf_h8_c": "-2660.06",
     "e_ghf_h9_c": "-3006.87",
     "e_rhf_h10": "-3384.45",
     "e_rhf_h10_c": "-3384.45",
     "e_rhf_h12": "-3992.92",
     "e_rhf_h12_c": "-3992.92",
     "e_rhf_h14": "-4723.63",
     "e_rhf_h14_c": "-4723.63",
     "e_rhf_h4": "-1217.58",
     "e_rhf_h4_c": "-1227.86",
     "e_rhf_h6": "-2039.13",
     "e_rhf_h6_c": "-2039.13",
     "e_rhf_h8": "-2621.5",
     "e_rhf_h8_c": "-2623.19",
     "e_uhf_10": "-3384.45",
     "e_uhf_11": "-3676.77",
     "e_uhf_12": "-4030.5",
     "e_uhf_13": "-4358.94",
     "e_uhf_14": "-4726.24",
     "e_uhf_15": "-5032.08",
     "e_uhf_3": "-945.19",
     "e_uhf_4": "-1268.23",
     "e_uhf_5": "-1622.69",
     "e_uhf_6": "-2039.13",
     "e_uhf_7": "-2311.96",
     "e_uhf_8": "-2660.06",
     "e_uhf_9": "-3001.46",
     "e_uhf_h10_c": "-3384.45",
     "e_uhf_h11_c": "-3676.77",
     "e_uhf_h12_c": "-4030.5",
     "e_uhf_h13_c": "-4358.94",
     "e_uhf_h14_c": "-4726.24",
     "e_uhf_h15_c": "-5032.08",
     "e_uhf_h3_c": "-945.19",
     "e_uhf_h4_c": "-1268.23",
     "e_uhf_h5_c": "-1622.69",
     "e_uhf_h6_c": "-2039.13",
     "e_uhf_h7_c": "-2311.96",
     "e_uhf_h8_c": "-2660.06",
     "e_uhf_h9_c": "-3001.46"
    }
   },
   "source": [
    "| Molecule | rRHF ($\\frac{kcal}{mol}$) | cRHF ($\\frac{kcal}{mol}$) | rUHF ($\\frac{kcal}{mol}$) | cUHF ($\\frac{kcal}{mol}$) | rGHF ($\\frac{kcal}{mol}$) | cGHF ($\\frac{kcal}{mol}$) |\n",
    "| --- | --- | --- | --- |--- | --- | --- |\n",
    "| $H_3$ | - | - | {{e_uhf_3}} | {{e_uhf_h3_c}} | {{e_ghf_3}} | {{e_ghf_h3_c}} |\n",
    "| $H_4$ | {{e_rhf_h4}} | {{e_rhf_h4_c}} | {{e_uhf_4}} | {{e_uhf_h4_c}} | {{e_ghf_4}} | {{e_ghf_h4_c}} |\n",
    "| $H_5$ | - | - | {{e_uhf_5}} | {{e_uhf_h5_c}} | {{e_ghf_5}} | {{e_ghf_h5_c}} |\n",
    "| $H_6$ | {{e_rhf_h6}} | {{e_rhf_h6_c}} | {{e_uhf_6}} | {{e_uhf_h6_c}} | {{e_ghf_6}} | {{e_ghf_h6_c}} |\n",
    "| $H_7$ | - | - | {{e_uhf_7}} | {{e_uhf_h7_c}} | {{e_ghf_7}} | {{e_ghf_h7_c}} |\n",
    "| $H_8$ | {{e_rhf_h8}} | {{e_rhf_h8_c}} | {{e_uhf_8}} | {{e_uhf_h8_c}} | {{e_ghf_8}} | {{e_ghf_h8_c}} |\n",
    "| $H_9$ | - | - | {{e_uhf_9}} | {{e_uhf_h9_c}} | {{e_ghf_9}} | {{e_ghf_h9_c}} |\n",
    "| $H_{10}$ | {{e_rhf_h10}} | {{e_rhf_h10_c}} | {{e_uhf_10}} | {{e_uhf_h10_c}} | {{e_ghf_10}} | {{e_ghf_h10_c}} |\n",
    "| $H_{11}$ | - | - | {{e_uhf_11}} | {{e_uhf_h11_c}} | {{e_ghf_11}} | {{e_ghf_h11_c}} |\n",
    "| $H_{12}$ | {{e_rhf_h12}} | {{e_rhf_h12_c}} | {{e_uhf_12}} | {{e_uhf_h12_c}} | {{e_ghf_12}} | {{e_ghf_h12_c}} |\n",
    "| $H_{13}$ | - | - | {{e_uhf_13}} | {{e_uhf_h13_c}} | {{e_ghf_13}} | {{e_ghf_h13_c}} |\n",
    "| $H_{14}$ | {{e_rhf_h14}} | {{e_rhf_h14_c}} | {{e_uhf_14}} | {{e_uhf_h14_c}} | {{e_ghf_14}} | {{e_ghf_h14_c}} |\n",
    "| $H_{15}$ | - | - | {{e_uhf_15}} | {{e_uhf_h15_c}} | {{e_ghf_15}} | {{e_ghf_h15_c}} |"
   ]
  }
 ],
 "metadata": {
  "kernelspec": {
   "display_name": "Python 3",
   "language": "python",
   "name": "python3"
  },
  "language_info": {
   "codemirror_mode": {
    "name": "ipython",
    "version": 3
   },
   "file_extension": ".py",
   "mimetype": "text/x-python",
   "name": "python",
   "nbconvert_exporter": "python",
   "pygments_lexer": "ipython3",
   "version": "3.6.10-final"
  }
 },
 "nbformat": 4,
 "nbformat_minor": 2
}