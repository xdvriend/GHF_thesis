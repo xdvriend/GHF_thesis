{
 "cells": [
  {
   "cell_type": "markdown",
   "metadata": {},
   "source": [
    "# $H_3$ in STO-3G with $\\lambda = 0$"
   ]
  },
  {
   "cell_type": "code",
   "execution_count": 1,
   "metadata": {},
   "outputs": [
    {
     "name": "stderr",
     "output_type": "stream",
     "text": [
      "Numpy 1.16 has memory leak bug  https://github.com/numpy/numpy/issues/13808\n",
      "It is recommended to downgrade to numpy 1.15 or older\n"
     ]
    }
   ],
   "source": [
    "from hf.HartreeFock import *\n",
    "from pyscf import *\n",
    "import numpy as np"
   ]
  },
  {
   "cell_type": "markdown",
   "metadata": {},
   "source": [
    "Testing of the $H_3$ molecule in STO-3G with a $\\lambda = 0$, does not equal to the UHF energy, as it does for other bases."
   ]
  },
  {
   "cell_type": "code",
   "execution_count": 6,
   "metadata": {},
   "outputs": [],
   "source": [
    "h3 = gto.M(atom='h 0 0 0; h 0 0.86602540378 0.5; h 0 0 1', spin=1, basis='STO-3G')"
   ]
  },
  {
   "cell_type": "code",
   "execution_count": 7,
   "metadata": {},
   "outputs": [
    {
     "name": "stdout",
     "output_type": "stream",
     "text": [
      "Number of iterations: 70\n",
      "Converged SCF energy in Hartree: -1.3359800540156104 (Real UHF)\n",
      "<S^2> = 0.8378834125123873, <S_z> = 0.5, Multiplicity = 2.08603299351893\n"
     ]
    },
    {
     "data": {
      "text/plain": [
       "-1.3359800540156104"
      ]
     },
     "execution_count": 7,
     "metadata": {},
     "output_type": "execute_result"
    }
   ],
   "source": [
    "y = UHF.MF(h3, 3)\n",
    "y.get_scf_solution()"
   ]
  },
  {
   "cell_type": "code",
   "execution_count": 8,
   "metadata": {},
   "outputs": [
    {
     "name": "stdout",
     "output_type": "stream",
     "text": [
      "Number of iterations: 5\n",
      "Converged SCF energy in Hartree: -1.331389777740707 (Constrained UHF)\n",
      "<S^2> = 0.7764759828350125, <S_z> = 0.5, Multiplicity = 2.026303020611688\n"
     ]
    },
    {
     "data": {
      "text/plain": [
       "(-1.331389777740707, 0.7764759828350125)"
      ]
     },
     "execution_count": 8,
     "metadata": {},
     "output_type": "execute_result"
    }
   ],
   "source": [
    "x = cUHF_s.MF(h3, 3)\n",
    "x.get_scf_solution(contype='thesis', lag=0)"
   ]
  },
  {
   "cell_type": "markdown",
   "metadata": {},
   "source": [
    "As requested, below a test that the first three fock matrices in STO-3G are the same."
   ]
  },
  {
   "cell_type": "code",
   "execution_count": 13,
   "metadata": {},
   "outputs": [
    {
     "name": "stdout",
     "output_type": "stream",
     "text": [
      "for the F(alpha)\n",
      "[[ True  True  True]\n",
      " [ True  True  True]\n",
      " [ True  True  True]]\n",
      "[[ True  True  True]\n",
      " [ True  True  True]\n",
      " [ True  True  True]]\n",
      "for the F(beta)\n",
      "[[False False False]\n",
      " [False False False]\n",
      " [False False False]]\n",
      "[[False False False]\n",
      " [False False False]\n",
      " [False False False]]\n"
     ]
    }
   ],
   "source": [
    "f0a, f0b = x.get_focks(0)\n",
    "f1a, f1b = x.get_focks(1)\n",
    "f2a, f2b = x.get_focks(2)\n",
    "print(\"for the F(alpha)\")\n",
    "print(np.isclose(f0a, f1a))\n",
    "print(np.isclose(f1a, f2a))\n",
    "print(\"for the F(beta)\")\n",
    "print(np.isclose(f0b, f1b))\n",
    "print(np.isclose(f1b, f2b))"
   ]
  },
  {
   "cell_type": "markdown",
   "metadata": {},
   "source": [
    "In other bases, this works as expected."
   ]
  },
  {
   "cell_type": "code",
   "execution_count": 14,
   "metadata": {},
   "outputs": [
    {
     "name": "stdout",
     "output_type": "stream",
     "text": [
      "Number of iterations: 133\n",
      "Converged SCF energy in Hartree: -1.5062743202605442 (Real UHF)\n",
      "<S^2> = 0.7735672502962203, <S_z> = 0.5, Multiplicity = 2.0234300089661814\n",
      "Number of iterations: 187\n",
      "Converged SCF energy in Hartree: -1.5062743202617939 (Constrained UHF)\n",
      "<S^2> = 0.7735697675214434, <S_z> = 0.5, Multiplicity = 2.023432497042037\n"
     ]
    },
    {
     "data": {
      "text/plain": [
       "(-1.5062743202617939, 0.7735697675214434)"
      ]
     },
     "execution_count": 14,
     "metadata": {},
     "output_type": "execute_result"
    }
   ],
   "source": [
    "h3_correct = gto.M(atom='h 0 0 0; h 0 0.86602540378 0.5; h 0 0 1', spin=1, basis='cc-pvdz')\n",
    "y_correct = UHF.MF(h3_correct, 3)\n",
    "y_correct.get_scf_solution()\n",
    "x_correct = cUHF_s.MF(h3_correct, 3)\n",
    "x_correct.get_scf_solution(contype='thesis', lag=0)"
   ]
  }
 ],
 "metadata": {
  "kernelspec": {
   "display_name": "Python 3",
   "language": "python",
   "name": "python3"
  },
  "language_info": {
   "codemirror_mode": {
    "name": "ipython",
    "version": 3
   },
   "file_extension": ".py",
   "mimetype": "text/x-python",
   "name": "python",
   "nbconvert_exporter": "python",
   "pygments_lexer": "ipython3",
   "version": "3.7.6"
  }
 },
 "nbformat": 4,
 "nbformat_minor": 4
}
